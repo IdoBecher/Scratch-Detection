{
  "cells": [
    {
      "cell_type": "markdown",
      "id": "2f1cd2e5-cfbf-4e3f-9060-8c994c9ea070",
      "metadata": {
        "jp-MarkdownHeadingCollapsed": true,
        "tags": [],
        "id": "2f1cd2e5-cfbf-4e3f-9060-8c994c9ea070"
      },
      "source": [
        "# Scratch Detection\n",
        "\n",
        "\n",
        "## Introduction:\n",
        "\n",
        "In the semiconductor industry, **\"wafers\"** are thin discs of semiconductor material, such as silicon, used to fabricate microelectronic devices such as transistors, integrated circuits, and other components. A single wafer can contain hundreds or thousands of individual devices, known as **\"dies\"**, which are typically cut or \"diced\" from the wafer after the manufacturing process is completed.\n",
        "\n",
        "\n",
        "\n",
        "One of the challenges in manufacturing wafers is to identify and isolate defects, including scratches, which can affect the performance and reliability of the resulting devices.\n",
        "\n",
        "Scratches are seen as elongated clusters of bad dies that have a high aspect ratio, meaning they are relatively thin and long compared to their width. They can be caused by equipment misalignment or mishandling by humans, and may contain latent defects that can affect the performance of the devices. Scratches may not always be continuous, so sometimes there may be good dies within the scratch. These good dies are often marked for removal in a manual process called \"**Inked dies**\"\n",
        "\n",
        "\n",
        "\n",
        "In the data that you receive, there may be faulty dies that are part of a scratch, which are labeled as \"Scratch\" as well as a few good dies that are part of a scratch, which are labeled as \"Ink.\"\n",
        "\n",
        "Many times, the Scratch Detection process will be done on the logical wafer map and not on a visual image of it.\n",
        "\n",
        "The data that you received is called **\"wafer map\"** as it maps the status of all dies in the wafer.\n",
        "\n",
        "The dies in the wafers are tested in a large number of stations, operations, and in each operation it is possible to create a map of the dies in this operation by coloring the good dies in a certain color and the faulty dies in another color.\n",
        "\n",
        "\n",
        "\n",
        "Note, that this scratch is not continuous, meaning, not all the dies which are placed on this scratch are considered faults in this operation. We have to identify all scracthed dies including bad & good. The good dies that are part of the scartch have to be itendified actively in order to be killed. This process is called \"inking\".\n",
        "\n",
        "We kill them because we fear that a physical scratch on the silicon wafer is what caused the sequence of these faulty dies, therefore even dies that passed the tests may be of low quality because they were damaged by the scratch on which they are placed.\n",
        "\n",
        "\n",
        "\n",
        "You can read more about the causes of die failures here: <a href=\"https://semiengineering.com/why-chips-die//\">Why Chips Die</a>\n",
        "\n",
        "## Assignment description\n",
        "\n",
        "In this assignment you are receiving wafer maps in a certain operation and the goal is to predict whether a given die belongs to scratch or not.\n",
        "\n",
        "The data includes information about individual dies from a number of wafers.\n",
        "\n",
        "The table data includes the following columns:\n",
        "\n",
        "-  `WaferName` : The name of the wafer from which the die came.\n",
        "- `DieX`: The horizontal position of the die on the wafer.\n",
        "- `DieY`: The vertical position of the die on the wafer.\n",
        "- `IsGoodDie`: A binary column indicating whether the die is good or not.\n",
        "- `IsScratchDie`: A binary column indicating whether the die belongs to a scratch or not.\n",
        "\n",
        "Your goal is to use the training data to build a model that can predict, given a certain wafer map, the dies on the map that are parts of a scratch (whether they are bad, 'Scratch' or good, 'Ink').\n",
        "\n",
        "*The purpose of the assignment is mainly to get to reasonable solution that can help the business. Please note that real industry solutions usually achieve lower scores than you may be used from academic problems so even a low metric score on the test set may be considered a success*\n",
        "\n",
        "Business goals:\n",
        "\n",
        "- **Automation**. This process is currently a manual and expensive procedure that takes a lot of time and is prone to errors by the tagger. The goal is to perform this procedure in a faster time and save the costs of the test\n",
        "- **Quality**. increasing the quality of the dies while balancing quality and yield (on the one hand, not to miss scratches, on the other hand not to do too much \"Ink\")\n",
        "- **Prediction Level**. As explained above, the main goal is to detect individual dies, but sometimes it will help to also get a classification at the wafer level, (binary classification, is there a scratch on this wafer or not?) because there are manufacturers who return scratched wafers to the factory.\n",
        "\n",
        "**Note**. In wafers with a low yield (that is, a lot of faulty dies), we will **not** perform scratch detection because the customer is afraid to find randomly generated scratches there and perform unnecessary ink. In such cases, the customer will make sure to check all the dies strictly in any case, but regardless of the detection of scratches. Therefore, in these cases we will not consider a sequence of bad die to be scratch.\n",
        "\n"
      ]
    },
    {
      "cell_type": "markdown",
      "id": "5c4b9079-528d-427a-a8a4-beec17de9272",
      "metadata": {
        "id": "5c4b9079-528d-427a-a8a4-beec17de9272"
      },
      "source": [
        "# Start work"
      ]
    },
    {
      "cell_type": "code",
      "execution_count": null,
      "id": "ed578914-3907-4a17-a7a7-12234ff78d51",
      "metadata": {
        "tags": [],
        "id": "ed578914-3907-4a17-a7a7-12234ff78d51"
      },
      "outputs": [],
      "source": [
        "import pandas as pd\n",
        "import zipfile\n",
        "from datetime import datetime\n",
        "import matplotlib.pyplot as plt\n",
        "from sklearn.model_selection import train_test_split\n",
        "import numpy as np\n",
        "from sklearn.ensemble import RandomForestClassifier\n",
        "from sklearn.metrics import classification_report\n",
        "from xgboost import XGBClassifier\n",
        "from lightgbm import LGBMClassifier\n",
        "from sklearn.linear_model import LogisticRegression\n",
        "from sklearn.metrics import precision_recall_fscore_support\n",
        "from sklearn.metrics import precision_recall_curve\n",
        "from imblearn.over_sampling import SMOTE"
      ]
    },
    {
      "cell_type": "markdown",
      "id": "4754feb0-3334-4f8a-a069-edb55982fde1",
      "metadata": {
        "id": "4754feb0-3334-4f8a-a069-edb55982fde1"
      },
      "source": [
        "### Load Data"
      ]
    },
    {
      "cell_type": "code",
      "execution_count": null,
      "id": "84d21062-14a9-40ed-bdf7-467caec0d5a0",
      "metadata": {
        "tags": [],
        "id": "84d21062-14a9-40ed-bdf7-467caec0d5a0"
      },
      "outputs": [],
      "source": [
        "#load zip file\n",
        "zf = zipfile.ZipFile('data.zip')"
      ]
    },
    {
      "cell_type": "code",
      "execution_count": null,
      "id": "ae42897d-8350-42dd-bfd9-9029cf286395",
      "metadata": {
        "tags": [],
        "colab": {
          "base_uri": "https://localhost:8080/",
          "height": 206
        },
        "id": "ae42897d-8350-42dd-bfd9-9029cf286395",
        "outputId": "5c42aa47-f071-4f43-d44f-1d6e158db36f"
      },
      "outputs": [
        {
          "output_type": "execute_result",
          "data": {
            "text/plain": [
              "  WaferName  DieX  DieY  IsGoodDie  IsScratchDie\n",
              "0    8PFrAN     0    27       True         False\n",
              "1    8PFrAN     0    28       True         False\n",
              "2    8PFrAN     0    29       True         False\n",
              "3    8PFrAN     0    30       True         False\n",
              "4    8PFrAN     0    31       True         False"
            ],
            "text/html": [
              "\n",
              "  <div id=\"df-8514ebf3-9809-4376-a4e6-a743478a8c15\" class=\"colab-df-container\">\n",
              "    <div>\n",
              "<style scoped>\n",
              "    .dataframe tbody tr th:only-of-type {\n",
              "        vertical-align: middle;\n",
              "    }\n",
              "\n",
              "    .dataframe tbody tr th {\n",
              "        vertical-align: top;\n",
              "    }\n",
              "\n",
              "    .dataframe thead th {\n",
              "        text-align: right;\n",
              "    }\n",
              "</style>\n",
              "<table border=\"1\" class=\"dataframe\">\n",
              "  <thead>\n",
              "    <tr style=\"text-align: right;\">\n",
              "      <th></th>\n",
              "      <th>WaferName</th>\n",
              "      <th>DieX</th>\n",
              "      <th>DieY</th>\n",
              "      <th>IsGoodDie</th>\n",
              "      <th>IsScratchDie</th>\n",
              "    </tr>\n",
              "  </thead>\n",
              "  <tbody>\n",
              "    <tr>\n",
              "      <th>0</th>\n",
              "      <td>8PFrAN</td>\n",
              "      <td>0</td>\n",
              "      <td>27</td>\n",
              "      <td>True</td>\n",
              "      <td>False</td>\n",
              "    </tr>\n",
              "    <tr>\n",
              "      <th>1</th>\n",
              "      <td>8PFrAN</td>\n",
              "      <td>0</td>\n",
              "      <td>28</td>\n",
              "      <td>True</td>\n",
              "      <td>False</td>\n",
              "    </tr>\n",
              "    <tr>\n",
              "      <th>2</th>\n",
              "      <td>8PFrAN</td>\n",
              "      <td>0</td>\n",
              "      <td>29</td>\n",
              "      <td>True</td>\n",
              "      <td>False</td>\n",
              "    </tr>\n",
              "    <tr>\n",
              "      <th>3</th>\n",
              "      <td>8PFrAN</td>\n",
              "      <td>0</td>\n",
              "      <td>30</td>\n",
              "      <td>True</td>\n",
              "      <td>False</td>\n",
              "    </tr>\n",
              "    <tr>\n",
              "      <th>4</th>\n",
              "      <td>8PFrAN</td>\n",
              "      <td>0</td>\n",
              "      <td>31</td>\n",
              "      <td>True</td>\n",
              "      <td>False</td>\n",
              "    </tr>\n",
              "  </tbody>\n",
              "</table>\n",
              "</div>\n",
              "    <div class=\"colab-df-buttons\">\n",
              "\n",
              "  <div class=\"colab-df-container\">\n",
              "    <button class=\"colab-df-convert\" onclick=\"convertToInteractive('df-8514ebf3-9809-4376-a4e6-a743478a8c15')\"\n",
              "            title=\"Convert this dataframe to an interactive table.\"\n",
              "            style=\"display:none;\">\n",
              "\n",
              "  <svg xmlns=\"http://www.w3.org/2000/svg\" height=\"24px\" viewBox=\"0 -960 960 960\">\n",
              "    <path d=\"M120-120v-720h720v720H120Zm60-500h600v-160H180v160Zm220 220h160v-160H400v160Zm0 220h160v-160H400v160ZM180-400h160v-160H180v160Zm440 0h160v-160H620v160ZM180-180h160v-160H180v160Zm440 0h160v-160H620v160Z\"/>\n",
              "  </svg>\n",
              "    </button>\n",
              "\n",
              "  <style>\n",
              "    .colab-df-container {\n",
              "      display:flex;\n",
              "      gap: 12px;\n",
              "    }\n",
              "\n",
              "    .colab-df-convert {\n",
              "      background-color: #E8F0FE;\n",
              "      border: none;\n",
              "      border-radius: 50%;\n",
              "      cursor: pointer;\n",
              "      display: none;\n",
              "      fill: #1967D2;\n",
              "      height: 32px;\n",
              "      padding: 0 0 0 0;\n",
              "      width: 32px;\n",
              "    }\n",
              "\n",
              "    .colab-df-convert:hover {\n",
              "      background-color: #E2EBFA;\n",
              "      box-shadow: 0px 1px 2px rgba(60, 64, 67, 0.3), 0px 1px 3px 1px rgba(60, 64, 67, 0.15);\n",
              "      fill: #174EA6;\n",
              "    }\n",
              "\n",
              "    .colab-df-buttons div {\n",
              "      margin-bottom: 4px;\n",
              "    }\n",
              "\n",
              "    [theme=dark] .colab-df-convert {\n",
              "      background-color: #3B4455;\n",
              "      fill: #D2E3FC;\n",
              "    }\n",
              "\n",
              "    [theme=dark] .colab-df-convert:hover {\n",
              "      background-color: #434B5C;\n",
              "      box-shadow: 0px 1px 3px 1px rgba(0, 0, 0, 0.15);\n",
              "      filter: drop-shadow(0px 1px 2px rgba(0, 0, 0, 0.3));\n",
              "      fill: #FFFFFF;\n",
              "    }\n",
              "  </style>\n",
              "\n",
              "    <script>\n",
              "      const buttonEl =\n",
              "        document.querySelector('#df-8514ebf3-9809-4376-a4e6-a743478a8c15 button.colab-df-convert');\n",
              "      buttonEl.style.display =\n",
              "        google.colab.kernel.accessAllowed ? 'block' : 'none';\n",
              "\n",
              "      async function convertToInteractive(key) {\n",
              "        const element = document.querySelector('#df-8514ebf3-9809-4376-a4e6-a743478a8c15');\n",
              "        const dataTable =\n",
              "          await google.colab.kernel.invokeFunction('convertToInteractive',\n",
              "                                                    [key], {});\n",
              "        if (!dataTable) return;\n",
              "\n",
              "        const docLinkHtml = 'Like what you see? Visit the ' +\n",
              "          '<a target=\"_blank\" href=https://colab.research.google.com/notebooks/data_table.ipynb>data table notebook</a>'\n",
              "          + ' to learn more about interactive tables.';\n",
              "        element.innerHTML = '';\n",
              "        dataTable['output_type'] = 'display_data';\n",
              "        await google.colab.output.renderOutput(dataTable, element);\n",
              "        const docLink = document.createElement('div');\n",
              "        docLink.innerHTML = docLinkHtml;\n",
              "        element.appendChild(docLink);\n",
              "      }\n",
              "    </script>\n",
              "  </div>\n",
              "\n",
              "\n",
              "    <div id=\"df-c0a84780-a3a8-4225-b8fe-28d5f9a8567f\">\n",
              "      <button class=\"colab-df-quickchart\" onclick=\"quickchart('df-c0a84780-a3a8-4225-b8fe-28d5f9a8567f')\"\n",
              "                title=\"Suggest charts\"\n",
              "                style=\"display:none;\">\n",
              "\n",
              "<svg xmlns=\"http://www.w3.org/2000/svg\" height=\"24px\"viewBox=\"0 0 24 24\"\n",
              "     width=\"24px\">\n",
              "    <g>\n",
              "        <path d=\"M19 3H5c-1.1 0-2 .9-2 2v14c0 1.1.9 2 2 2h14c1.1 0 2-.9 2-2V5c0-1.1-.9-2-2-2zM9 17H7v-7h2v7zm4 0h-2V7h2v10zm4 0h-2v-4h2v4z\"/>\n",
              "    </g>\n",
              "</svg>\n",
              "      </button>\n",
              "\n",
              "<style>\n",
              "  .colab-df-quickchart {\n",
              "      --bg-color: #E8F0FE;\n",
              "      --fill-color: #1967D2;\n",
              "      --hover-bg-color: #E2EBFA;\n",
              "      --hover-fill-color: #174EA6;\n",
              "      --disabled-fill-color: #AAA;\n",
              "      --disabled-bg-color: #DDD;\n",
              "  }\n",
              "\n",
              "  [theme=dark] .colab-df-quickchart {\n",
              "      --bg-color: #3B4455;\n",
              "      --fill-color: #D2E3FC;\n",
              "      --hover-bg-color: #434B5C;\n",
              "      --hover-fill-color: #FFFFFF;\n",
              "      --disabled-bg-color: #3B4455;\n",
              "      --disabled-fill-color: #666;\n",
              "  }\n",
              "\n",
              "  .colab-df-quickchart {\n",
              "    background-color: var(--bg-color);\n",
              "    border: none;\n",
              "    border-radius: 50%;\n",
              "    cursor: pointer;\n",
              "    display: none;\n",
              "    fill: var(--fill-color);\n",
              "    height: 32px;\n",
              "    padding: 0;\n",
              "    width: 32px;\n",
              "  }\n",
              "\n",
              "  .colab-df-quickchart:hover {\n",
              "    background-color: var(--hover-bg-color);\n",
              "    box-shadow: 0 1px 2px rgba(60, 64, 67, 0.3), 0 1px 3px 1px rgba(60, 64, 67, 0.15);\n",
              "    fill: var(--button-hover-fill-color);\n",
              "  }\n",
              "\n",
              "  .colab-df-quickchart-complete:disabled,\n",
              "  .colab-df-quickchart-complete:disabled:hover {\n",
              "    background-color: var(--disabled-bg-color);\n",
              "    fill: var(--disabled-fill-color);\n",
              "    box-shadow: none;\n",
              "  }\n",
              "\n",
              "  .colab-df-spinner {\n",
              "    border: 2px solid var(--fill-color);\n",
              "    border-color: transparent;\n",
              "    border-bottom-color: var(--fill-color);\n",
              "    animation:\n",
              "      spin 1s steps(1) infinite;\n",
              "  }\n",
              "\n",
              "  @keyframes spin {\n",
              "    0% {\n",
              "      border-color: transparent;\n",
              "      border-bottom-color: var(--fill-color);\n",
              "      border-left-color: var(--fill-color);\n",
              "    }\n",
              "    20% {\n",
              "      border-color: transparent;\n",
              "      border-left-color: var(--fill-color);\n",
              "      border-top-color: var(--fill-color);\n",
              "    }\n",
              "    30% {\n",
              "      border-color: transparent;\n",
              "      border-left-color: var(--fill-color);\n",
              "      border-top-color: var(--fill-color);\n",
              "      border-right-color: var(--fill-color);\n",
              "    }\n",
              "    40% {\n",
              "      border-color: transparent;\n",
              "      border-right-color: var(--fill-color);\n",
              "      border-top-color: var(--fill-color);\n",
              "    }\n",
              "    60% {\n",
              "      border-color: transparent;\n",
              "      border-right-color: var(--fill-color);\n",
              "    }\n",
              "    80% {\n",
              "      border-color: transparent;\n",
              "      border-right-color: var(--fill-color);\n",
              "      border-bottom-color: var(--fill-color);\n",
              "    }\n",
              "    90% {\n",
              "      border-color: transparent;\n",
              "      border-bottom-color: var(--fill-color);\n",
              "    }\n",
              "  }\n",
              "</style>\n",
              "\n",
              "      <script>\n",
              "        async function quickchart(key) {\n",
              "          const quickchartButtonEl =\n",
              "            document.querySelector('#' + key + ' button');\n",
              "          quickchartButtonEl.disabled = true;  // To prevent multiple clicks.\n",
              "          quickchartButtonEl.classList.add('colab-df-spinner');\n",
              "          try {\n",
              "            const charts = await google.colab.kernel.invokeFunction(\n",
              "                'suggestCharts', [key], {});\n",
              "          } catch (error) {\n",
              "            console.error('Error during call to suggestCharts:', error);\n",
              "          }\n",
              "          quickchartButtonEl.classList.remove('colab-df-spinner');\n",
              "          quickchartButtonEl.classList.add('colab-df-quickchart-complete');\n",
              "        }\n",
              "        (() => {\n",
              "          let quickchartButtonEl =\n",
              "            document.querySelector('#df-c0a84780-a3a8-4225-b8fe-28d5f9a8567f button');\n",
              "          quickchartButtonEl.style.display =\n",
              "            google.colab.kernel.accessAllowed ? 'block' : 'none';\n",
              "        })();\n",
              "      </script>\n",
              "    </div>\n",
              "\n",
              "    </div>\n",
              "  </div>\n"
            ],
            "application/vnd.google.colaboratory.intrinsic+json": {
              "type": "dataframe",
              "variable_name": "df_wafers"
            }
          },
          "metadata": {},
          "execution_count": 3
        }
      ],
      "source": [
        "#load train data\n",
        "df_wafers = pd.read_csv(zf.open('wafers_train.csv'))\n",
        "df_wafers.head()"
      ]
    },
    {
      "cell_type": "code",
      "execution_count": null,
      "id": "eab0e761-f28c-45eb-a61b-b736f11bcf47",
      "metadata": {
        "tags": [],
        "colab": {
          "base_uri": "https://localhost:8080/",
          "height": 206
        },
        "id": "eab0e761-f28c-45eb-a61b-b736f11bcf47",
        "outputId": "479170ef-27ae-4c4a-f9c6-62488ccbb586"
      },
      "outputs": [
        {
          "output_type": "execute_result",
          "data": {
            "text/plain": [
              "  WaferName  DieX  DieY  IsGoodDie\n",
              "0    mZa9ls     0    23       True\n",
              "1    mZa9ls     0    24       True\n",
              "2    mZa9ls     0    25       True\n",
              "3    mZa9ls     0    26       True\n",
              "4    mZa9ls     0    27       True"
            ],
            "text/html": [
              "\n",
              "  <div id=\"df-b9503f25-b84e-49d2-84eb-fc5451d4fc77\" class=\"colab-df-container\">\n",
              "    <div>\n",
              "<style scoped>\n",
              "    .dataframe tbody tr th:only-of-type {\n",
              "        vertical-align: middle;\n",
              "    }\n",
              "\n",
              "    .dataframe tbody tr th {\n",
              "        vertical-align: top;\n",
              "    }\n",
              "\n",
              "    .dataframe thead th {\n",
              "        text-align: right;\n",
              "    }\n",
              "</style>\n",
              "<table border=\"1\" class=\"dataframe\">\n",
              "  <thead>\n",
              "    <tr style=\"text-align: right;\">\n",
              "      <th></th>\n",
              "      <th>WaferName</th>\n",
              "      <th>DieX</th>\n",
              "      <th>DieY</th>\n",
              "      <th>IsGoodDie</th>\n",
              "    </tr>\n",
              "  </thead>\n",
              "  <tbody>\n",
              "    <tr>\n",
              "      <th>0</th>\n",
              "      <td>mZa9ls</td>\n",
              "      <td>0</td>\n",
              "      <td>23</td>\n",
              "      <td>True</td>\n",
              "    </tr>\n",
              "    <tr>\n",
              "      <th>1</th>\n",
              "      <td>mZa9ls</td>\n",
              "      <td>0</td>\n",
              "      <td>24</td>\n",
              "      <td>True</td>\n",
              "    </tr>\n",
              "    <tr>\n",
              "      <th>2</th>\n",
              "      <td>mZa9ls</td>\n",
              "      <td>0</td>\n",
              "      <td>25</td>\n",
              "      <td>True</td>\n",
              "    </tr>\n",
              "    <tr>\n",
              "      <th>3</th>\n",
              "      <td>mZa9ls</td>\n",
              "      <td>0</td>\n",
              "      <td>26</td>\n",
              "      <td>True</td>\n",
              "    </tr>\n",
              "    <tr>\n",
              "      <th>4</th>\n",
              "      <td>mZa9ls</td>\n",
              "      <td>0</td>\n",
              "      <td>27</td>\n",
              "      <td>True</td>\n",
              "    </tr>\n",
              "  </tbody>\n",
              "</table>\n",
              "</div>\n",
              "    <div class=\"colab-df-buttons\">\n",
              "\n",
              "  <div class=\"colab-df-container\">\n",
              "    <button class=\"colab-df-convert\" onclick=\"convertToInteractive('df-b9503f25-b84e-49d2-84eb-fc5451d4fc77')\"\n",
              "            title=\"Convert this dataframe to an interactive table.\"\n",
              "            style=\"display:none;\">\n",
              "\n",
              "  <svg xmlns=\"http://www.w3.org/2000/svg\" height=\"24px\" viewBox=\"0 -960 960 960\">\n",
              "    <path d=\"M120-120v-720h720v720H120Zm60-500h600v-160H180v160Zm220 220h160v-160H400v160Zm0 220h160v-160H400v160ZM180-400h160v-160H180v160Zm440 0h160v-160H620v160ZM180-180h160v-160H180v160Zm440 0h160v-160H620v160Z\"/>\n",
              "  </svg>\n",
              "    </button>\n",
              "\n",
              "  <style>\n",
              "    .colab-df-container {\n",
              "      display:flex;\n",
              "      gap: 12px;\n",
              "    }\n",
              "\n",
              "    .colab-df-convert {\n",
              "      background-color: #E8F0FE;\n",
              "      border: none;\n",
              "      border-radius: 50%;\n",
              "      cursor: pointer;\n",
              "      display: none;\n",
              "      fill: #1967D2;\n",
              "      height: 32px;\n",
              "      padding: 0 0 0 0;\n",
              "      width: 32px;\n",
              "    }\n",
              "\n",
              "    .colab-df-convert:hover {\n",
              "      background-color: #E2EBFA;\n",
              "      box-shadow: 0px 1px 2px rgba(60, 64, 67, 0.3), 0px 1px 3px 1px rgba(60, 64, 67, 0.15);\n",
              "      fill: #174EA6;\n",
              "    }\n",
              "\n",
              "    .colab-df-buttons div {\n",
              "      margin-bottom: 4px;\n",
              "    }\n",
              "\n",
              "    [theme=dark] .colab-df-convert {\n",
              "      background-color: #3B4455;\n",
              "      fill: #D2E3FC;\n",
              "    }\n",
              "\n",
              "    [theme=dark] .colab-df-convert:hover {\n",
              "      background-color: #434B5C;\n",
              "      box-shadow: 0px 1px 3px 1px rgba(0, 0, 0, 0.15);\n",
              "      filter: drop-shadow(0px 1px 2px rgba(0, 0, 0, 0.3));\n",
              "      fill: #FFFFFF;\n",
              "    }\n",
              "  </style>\n",
              "\n",
              "    <script>\n",
              "      const buttonEl =\n",
              "        document.querySelector('#df-b9503f25-b84e-49d2-84eb-fc5451d4fc77 button.colab-df-convert');\n",
              "      buttonEl.style.display =\n",
              "        google.colab.kernel.accessAllowed ? 'block' : 'none';\n",
              "\n",
              "      async function convertToInteractive(key) {\n",
              "        const element = document.querySelector('#df-b9503f25-b84e-49d2-84eb-fc5451d4fc77');\n",
              "        const dataTable =\n",
              "          await google.colab.kernel.invokeFunction('convertToInteractive',\n",
              "                                                    [key], {});\n",
              "        if (!dataTable) return;\n",
              "\n",
              "        const docLinkHtml = 'Like what you see? Visit the ' +\n",
              "          '<a target=\"_blank\" href=https://colab.research.google.com/notebooks/data_table.ipynb>data table notebook</a>'\n",
              "          + ' to learn more about interactive tables.';\n",
              "        element.innerHTML = '';\n",
              "        dataTable['output_type'] = 'display_data';\n",
              "        await google.colab.output.renderOutput(dataTable, element);\n",
              "        const docLink = document.createElement('div');\n",
              "        docLink.innerHTML = docLinkHtml;\n",
              "        element.appendChild(docLink);\n",
              "      }\n",
              "    </script>\n",
              "  </div>\n",
              "\n",
              "\n",
              "    <div id=\"df-ab710c99-910d-472b-94f5-7fdd4b1f9df0\">\n",
              "      <button class=\"colab-df-quickchart\" onclick=\"quickchart('df-ab710c99-910d-472b-94f5-7fdd4b1f9df0')\"\n",
              "                title=\"Suggest charts\"\n",
              "                style=\"display:none;\">\n",
              "\n",
              "<svg xmlns=\"http://www.w3.org/2000/svg\" height=\"24px\"viewBox=\"0 0 24 24\"\n",
              "     width=\"24px\">\n",
              "    <g>\n",
              "        <path d=\"M19 3H5c-1.1 0-2 .9-2 2v14c0 1.1.9 2 2 2h14c1.1 0 2-.9 2-2V5c0-1.1-.9-2-2-2zM9 17H7v-7h2v7zm4 0h-2V7h2v10zm4 0h-2v-4h2v4z\"/>\n",
              "    </g>\n",
              "</svg>\n",
              "      </button>\n",
              "\n",
              "<style>\n",
              "  .colab-df-quickchart {\n",
              "      --bg-color: #E8F0FE;\n",
              "      --fill-color: #1967D2;\n",
              "      --hover-bg-color: #E2EBFA;\n",
              "      --hover-fill-color: #174EA6;\n",
              "      --disabled-fill-color: #AAA;\n",
              "      --disabled-bg-color: #DDD;\n",
              "  }\n",
              "\n",
              "  [theme=dark] .colab-df-quickchart {\n",
              "      --bg-color: #3B4455;\n",
              "      --fill-color: #D2E3FC;\n",
              "      --hover-bg-color: #434B5C;\n",
              "      --hover-fill-color: #FFFFFF;\n",
              "      --disabled-bg-color: #3B4455;\n",
              "      --disabled-fill-color: #666;\n",
              "  }\n",
              "\n",
              "  .colab-df-quickchart {\n",
              "    background-color: var(--bg-color);\n",
              "    border: none;\n",
              "    border-radius: 50%;\n",
              "    cursor: pointer;\n",
              "    display: none;\n",
              "    fill: var(--fill-color);\n",
              "    height: 32px;\n",
              "    padding: 0;\n",
              "    width: 32px;\n",
              "  }\n",
              "\n",
              "  .colab-df-quickchart:hover {\n",
              "    background-color: var(--hover-bg-color);\n",
              "    box-shadow: 0 1px 2px rgba(60, 64, 67, 0.3), 0 1px 3px 1px rgba(60, 64, 67, 0.15);\n",
              "    fill: var(--button-hover-fill-color);\n",
              "  }\n",
              "\n",
              "  .colab-df-quickchart-complete:disabled,\n",
              "  .colab-df-quickchart-complete:disabled:hover {\n",
              "    background-color: var(--disabled-bg-color);\n",
              "    fill: var(--disabled-fill-color);\n",
              "    box-shadow: none;\n",
              "  }\n",
              "\n",
              "  .colab-df-spinner {\n",
              "    border: 2px solid var(--fill-color);\n",
              "    border-color: transparent;\n",
              "    border-bottom-color: var(--fill-color);\n",
              "    animation:\n",
              "      spin 1s steps(1) infinite;\n",
              "  }\n",
              "\n",
              "  @keyframes spin {\n",
              "    0% {\n",
              "      border-color: transparent;\n",
              "      border-bottom-color: var(--fill-color);\n",
              "      border-left-color: var(--fill-color);\n",
              "    }\n",
              "    20% {\n",
              "      border-color: transparent;\n",
              "      border-left-color: var(--fill-color);\n",
              "      border-top-color: var(--fill-color);\n",
              "    }\n",
              "    30% {\n",
              "      border-color: transparent;\n",
              "      border-left-color: var(--fill-color);\n",
              "      border-top-color: var(--fill-color);\n",
              "      border-right-color: var(--fill-color);\n",
              "    }\n",
              "    40% {\n",
              "      border-color: transparent;\n",
              "      border-right-color: var(--fill-color);\n",
              "      border-top-color: var(--fill-color);\n",
              "    }\n",
              "    60% {\n",
              "      border-color: transparent;\n",
              "      border-right-color: var(--fill-color);\n",
              "    }\n",
              "    80% {\n",
              "      border-color: transparent;\n",
              "      border-right-color: var(--fill-color);\n",
              "      border-bottom-color: var(--fill-color);\n",
              "    }\n",
              "    90% {\n",
              "      border-color: transparent;\n",
              "      border-bottom-color: var(--fill-color);\n",
              "    }\n",
              "  }\n",
              "</style>\n",
              "\n",
              "      <script>\n",
              "        async function quickchart(key) {\n",
              "          const quickchartButtonEl =\n",
              "            document.querySelector('#' + key + ' button');\n",
              "          quickchartButtonEl.disabled = true;  // To prevent multiple clicks.\n",
              "          quickchartButtonEl.classList.add('colab-df-spinner');\n",
              "          try {\n",
              "            const charts = await google.colab.kernel.invokeFunction(\n",
              "                'suggestCharts', [key], {});\n",
              "          } catch (error) {\n",
              "            console.error('Error during call to suggestCharts:', error);\n",
              "          }\n",
              "          quickchartButtonEl.classList.remove('colab-df-spinner');\n",
              "          quickchartButtonEl.classList.add('colab-df-quickchart-complete');\n",
              "        }\n",
              "        (() => {\n",
              "          let quickchartButtonEl =\n",
              "            document.querySelector('#df-ab710c99-910d-472b-94f5-7fdd4b1f9df0 button');\n",
              "          quickchartButtonEl.style.display =\n",
              "            google.colab.kernel.accessAllowed ? 'block' : 'none';\n",
              "        })();\n",
              "      </script>\n",
              "    </div>\n",
              "\n",
              "    </div>\n",
              "  </div>\n"
            ],
            "application/vnd.google.colaboratory.intrinsic+json": {
              "type": "dataframe",
              "variable_name": "df_wafers_test"
            }
          },
          "metadata": {},
          "execution_count": 4
        }
      ],
      "source": [
        "#load test data\n",
        "df_wafers_test = pd.read_csv(zf.open('wafers_test.csv'))\n",
        "df_wafers_test.head()"
      ]
    },
    {
      "cell_type": "markdown",
      "id": "13ce7bee-0f73-4763-83ed-731aa666a99f",
      "metadata": {
        "id": "13ce7bee-0f73-4763-83ed-731aa666a99f"
      },
      "source": [
        "You can draw the wafers map to see how the wafers look like in the data.\n",
        "\n",
        "Using the following helper function you can draw the wafer maps with or without labels:"
      ]
    },
    {
      "cell_type": "code",
      "execution_count": null,
      "id": "4cbf956e-1724-475a-b560-649c8f706a04",
      "metadata": {
        "tags": [],
        "id": "4cbf956e-1724-475a-b560-649c8f706a04"
      },
      "outputs": [],
      "source": [
        "def plot_wafer_maps(wafer_df_list, figsize, labels = True):\n",
        "    \"\"\"\n",
        "    plot wafer maps for list of df of wafers\n",
        "\n",
        "    :param wafer_df_list: list, The list of df's of the wafers\n",
        "    :param figsize: int, the size of the figsize height\n",
        "    :param labels: bool, Whether to show the layer of labels (based on column 'IsScratchDie')\n",
        "\n",
        "    :return: None\n",
        "    \"\"\"\n",
        "    def plot_wafer_map(wafer_df, ax, map_type):\n",
        "        wafer_size = len(wafer_df)\n",
        "        s = 2**17/(wafer_size)\n",
        "        if map_type == 'Label':\n",
        "            mes = 'Scratch Wafer' if (wafer_df['IsScratchDie'] == True).sum()>0 else 'Non-Scratch Wafer'\n",
        "        else:\n",
        "            mes = 'Yield: ' + str(round((wafer_df['IsGoodDie']).sum()/(wafer_df['IsGoodDie']).count(), 2))\n",
        "\n",
        "        ax.set_title(f'{map_type} | Wafer Name: {wafer_df[\"WaferName\"].iloc[0]}, \\nSum: {len(wafer_df)} dies. {mes}', fontsize=20)\n",
        "        ax.scatter(wafer_df['DieX'], wafer_df['DieY'], color = 'green', marker='s', s = s)\n",
        "\n",
        "        bad_bins = wafer_df.loc[wafer_df['IsGoodDie'] == False]\n",
        "        ax.scatter(bad_bins['DieX'], bad_bins['DieY'], color = 'red', marker='s', s = s)\n",
        "\n",
        "        if map_type == 'Label':\n",
        "            scratch_bins = wafer_df.loc[(wafer_df['IsScratchDie'] == True) & (wafer_df['IsGoodDie'] == False)]\n",
        "            ax.scatter(scratch_bins['DieX'], scratch_bins['DieY'], color = 'blue', marker='s', s = s)\n",
        "\n",
        "            ink_bins = wafer_df.loc[(wafer_df['IsScratchDie'] == True) & (wafer_df['IsGoodDie'] == True)]\n",
        "            ax.scatter(ink_bins['DieX'], ink_bins['DieY'], color = 'yellow', marker='s', s = s)\n",
        "\n",
        "            ax.legend(['Good Die', 'Bad Die', 'Scratch Die', 'Ink Die'], fontsize=8)\n",
        "        else:\n",
        "            ax.legend(['Good Die', 'Bad Die'], fontsize=8)\n",
        "\n",
        "        ax.axes.get_xaxis().set_visible(False)\n",
        "        ax.axes.get_yaxis().set_visible(False)\n",
        "\n",
        "    import numpy as np\n",
        "    import matplotlib.pyplot as plt\n",
        "\n",
        "    if labels:\n",
        "        fig, ax = plt.subplots(2, len(wafer_df_list), figsize=(figsize*len(wafer_df_list), figsize*2))\n",
        "        for idx1, wafer_df in enumerate(wafer_df_list):\n",
        "            for idx2, map_type in enumerate(['Input', 'Label']):\n",
        "                plot_wafer_map(wafer_df, ax[idx2][idx1], map_type)\n",
        "    else:\n",
        "        fig, ax = plt.subplots(1, len(wafer_df_list), figsize=(figsize*len(wafer_df_list), figsize))\n",
        "        for idx, wafer_df in enumerate(wafer_df_list):\n",
        "            plot_wafer_map(wafer_df, ax[idx], 'Input')\n",
        "\n",
        "    plt.show()"
      ]
    },
    {
      "cell_type": "markdown",
      "id": "74dbb2af-29a8-44f5-baab-4739802cc51e",
      "metadata": {
        "id": "74dbb2af-29a8-44f5-baab-4739802cc51e"
      },
      "source": [
        "Select the amount of samples you want to display:"
      ]
    },
    {
      "cell_type": "code",
      "execution_count": null,
      "id": "00746909-d792-4644-911b-ca2b780a7d8b",
      "metadata": {
        "tags": [],
        "id": "00746909-d792-4644-911b-ca2b780a7d8b",
        "outputId": "abd3e3a4-f6af-4758-cb91-e6f4173d2891",
        "colab": {
          "base_uri": "https://localhost:8080/",
          "height": 574
        }
      },
      "outputs": [
        {
          "output_type": "display_data",
          "data": {
            "text/plain": [
              "<Figure size 3200x1600 with 8 Axes>"
            ],
            "image/png": "[encoded data removed]"
          },
          "metadata": {}
        }
      ],
      "source": [
        "n_samples = 4\n",
        "list_sample_train = [df_wafers.groupby('WaferName').get_group(group) for group in df_wafers['WaferName'].value_counts().sample(n_samples, random_state=20).index]\n",
        "plot_wafer_maps(list_sample_train, figsize = 8, labels = True)"
      ]
    },
    {
      "cell_type": "code",
      "execution_count": null,
      "id": "1ef4b293-a869-4deb-9bb4-7d12e66f2550",
      "metadata": {
        "tags": [],
        "id": "1ef4b293-a869-4deb-9bb4-7d12e66f2550",
        "outputId": "cb4196e1-0433-49d5-ce03-88253fd71412",
        "colab": {
          "base_uri": "https://localhost:8080/",
          "height": 313
        }
      },
      "outputs": [
        {
          "output_type": "display_data",
          "data": {
            "text/plain": [
              "<Figure size 3200x800 with 4 Axes>"
            ],
            "image/png": "[encoded data removed]"
          },
          "metadata": {}
        }
      ],
      "source": [
        "list_sample_test = [df_wafers_test.groupby('WaferName').get_group(group) for group in df_wafers_test['WaferName'].value_counts().sample(n_samples, random_state=20).index]\n",
        "plot_wafer_maps(list_sample_test, figsize = 8, labels = False)"
      ]
    },
    {
      "cell_type": "markdown",
      "id": "eab91126-f101-4437-b85a-80d4679c71b5",
      "metadata": {
        "id": "eab91126-f101-4437-b85a-80d4679c71b5"
      },
      "source": [
        "# Build your solution"
      ]
    },
    {
      "cell_type": "code",
      "source": [
        "df_wafers.shape"
      ],
      "metadata": {
        "colab": {
          "base_uri": "https://localhost:8080/"
        },
        "id": "N2AS1kt_pDd8",
        "outputId": "3d17a24c-d49d-4c37-95f2-70a2a31d5cdf"
      },
      "id": "N2AS1kt_pDd8",
      "execution_count": null,
      "outputs": [
        {
          "output_type": "execute_result",
          "data": {
            "text/plain": [
              "(10415400, 5)"
            ]
          },
          "metadata": {},
          "execution_count": 8
        }
      ]
    },
    {
      "cell_type": "code",
      "execution_count": null,
      "id": "d440f743-7540-4cc2-8907-6c5493fa8066",
      "metadata": {
        "tags": [],
        "colab": {
          "base_uri": "https://localhost:8080/"
        },
        "id": "d440f743-7540-4cc2-8907-6c5493fa8066",
        "outputId": "9af8a6ce-2b95-4a59-8ba0-aeeccbe4d64e"
      },
      "outputs": [
        {
          "output_type": "stream",
          "name": "stdout",
          "text": [
            "<class 'pandas.core.frame.DataFrame'>\n",
            "RangeIndex: 10415400 entries, 0 to 10415399\n",
            "Data columns (total 5 columns):\n",
            " #   Column        Dtype \n",
            "---  ------        ----- \n",
            " 0   WaferName     object\n",
            " 1   DieX          int64 \n",
            " 2   DieY          int64 \n",
            " 3   IsGoodDie     bool  \n",
            " 4   IsScratchDie  bool  \n",
            "dtypes: bool(2), int64(2), object(1)\n",
            "memory usage: 258.3+ MB\n"
          ]
        }
      ],
      "source": [
        "df_wafers.info()"
      ]
    },
    {
      "cell_type": "code",
      "source": [
        "df_wafers.describe()"
      ],
      "metadata": {
        "colab": {
          "base_uri": "https://localhost:8080/",
          "height": 300
        },
        "id": "aRvvkr_Do5lW",
        "outputId": "9e823f0f-89f6-48d0-9a3e-4d079912384a"
      },
      "id": "aRvvkr_Do5lW",
      "execution_count": null,
      "outputs": [
        {
          "output_type": "execute_result",
          "data": {
            "text/plain": [
              "               DieX          DieY\n",
              "count  1.041540e+07  1.041540e+07\n",
              "mean   2.892736e+01  2.892736e+01\n",
              "std    1.603043e+01  1.603043e+01\n",
              "min    0.000000e+00  0.000000e+00\n",
              "25%    1.600000e+01  1.600000e+01\n",
              "50%    2.800000e+01  2.800000e+01\n",
              "75%    4.100000e+01  4.100000e+01\n",
              "max    7.000000e+01  7.000000e+01"
            ],
            "text/html": [
              "\n",
              "  <div id=\"df-53c0e161-9af4-4bc7-8819-13538f41c9a1\" class=\"colab-df-container\">\n",
              "    <div>\n",
              "<style scoped>\n",
              "    .dataframe tbody tr th:only-of-type {\n",
              "        vertical-align: middle;\n",
              "    }\n",
              "\n",
              "    .dataframe tbody tr th {\n",
              "        vertical-align: top;\n",
              "    }\n",
              "\n",
              "    .dataframe thead th {\n",
              "        text-align: right;\n",
              "    }\n",
              "</style>\n",
              "<table border=\"1\" class=\"dataframe\">\n",
              "  <thead>\n",
              "    <tr style=\"text-align: right;\">\n",
              "      <th></th>\n",
              "      <th>DieX</th>\n",
              "      <th>DieY</th>\n",
              "    </tr>\n",
              "  </thead>\n",
              "  <tbody>\n",
              "    <tr>\n",
              "      <th>count</th>\n",
              "      <td>1.041540e+07</td>\n",
              "      <td>1.041540e+07</td>\n",
              "    </tr>\n",
              "    <tr>\n",
              "      <th>mean</th>\n",
              "      <td>2.892736e+01</td>\n",
              "      <td>2.892736e+01</td>\n",
              "    </tr>\n",
              "    <tr>\n",
              "      <th>std</th>\n",
              "      <td>1.603043e+01</td>\n",
              "      <td>1.603043e+01</td>\n",
              "    </tr>\n",
              "    <tr>\n",
              "      <th>min</th>\n",
              "      <td>0.000000e+00</td>\n",
              "      <td>0.000000e+00</td>\n",
              "    </tr>\n",
              "    <tr>\n",
              "      <th>25%</th>\n",
              "      <td>1.600000e+01</td>\n",
              "      <td>1.600000e+01</td>\n",
              "    </tr>\n",
              "    <tr>\n",
              "      <th>50%</th>\n",
              "      <td>2.800000e+01</td>\n",
              "      <td>2.800000e+01</td>\n",
              "    </tr>\n",
              "    <tr>\n",
              "      <th>75%</th>\n",
              "      <td>4.100000e+01</td>\n",
              "      <td>4.100000e+01</td>\n",
              "    </tr>\n",
              "    <tr>\n",
              "      <th>max</th>\n",
              "      <td>7.000000e+01</td>\n",
              "      <td>7.000000e+01</td>\n",
              "    </tr>\n",
              "  </tbody>\n",
              "</table>\n",
              "</div>\n",
              "    <div class=\"colab-df-buttons\">\n",
              "\n",
              "  <div class=\"colab-df-container\">\n",
              "    <button class=\"colab-df-convert\" onclick=\"convertToInteractive('df-53c0e161-9af4-4bc7-8819-13538f41c9a1')\"\n",
              "            title=\"Convert this dataframe to an interactive table.\"\n",
              "            style=\"display:none;\">\n",
              "\n",
              "  <svg xmlns=\"http://www.w3.org/2000/svg\" height=\"24px\" viewBox=\"0 -960 960 960\">\n",
              "    <path d=\"M120-120v-720h720v720H120Zm60-500h600v-160H180v160Zm220 220h160v-160H400v160Zm0 220h160v-160H400v160ZM180-400h160v-160H180v160Zm440 0h160v-160H620v160ZM180-180h160v-160H180v160Zm440 0h160v-160H620v160Z\"/>\n",
              "  </svg>\n",
              "    </button>\n",
              "\n",
              "  <style>\n",
              "    .colab-df-container {\n",
              "      display:flex;\n",
              "      gap: 12px;\n",
              "    }\n",
              "\n",
              "    .colab-df-convert {\n",
              "      background-color: #E8F0FE;\n",
              "      border: none;\n",
              "      border-radius: 50%;\n",
              "      cursor: pointer;\n",
              "      display: none;\n",
              "      fill: #1967D2;\n",
              "      height: 32px;\n",
              "      padding: 0 0 0 0;\n",
              "      width: 32px;\n",
              "    }\n",
              "\n",
              "    .colab-df-convert:hover {\n",
              "      background-color: #E2EBFA;\n",
              "      box-shadow: 0px 1px 2px rgba(60, 64, 67, 0.3), 0px 1px 3px 1px rgba(60, 64, 67, 0.15);\n",
              "      fill: #174EA6;\n",
              "    }\n",
              "\n",
              "    .colab-df-buttons div {\n",
              "      margin-bottom: 4px;\n",
              "    }\n",
              "\n",
              "    [theme=dark] .colab-df-convert {\n",
              "      background-color: #3B4455;\n",
              "      fill: #D2E3FC;\n",
              "    }\n",
              "\n",
              "    [theme=dark] .colab-df-convert:hover {\n",
              "      background-color: #434B5C;\n",
              "      box-shadow: 0px 1px 3px 1px rgba(0, 0, 0, 0.15);\n",
              "      filter: drop-shadow(0px 1px 2px rgba(0, 0, 0, 0.3));\n",
              "      fill: #FFFFFF;\n",
              "    }\n",
              "  </style>\n",
              "\n",
              "    <script>\n",
              "      const buttonEl =\n",
              "        document.querySelector('#df-53c0e161-9af4-4bc7-8819-13538f41c9a1 button.colab-df-convert');\n",
              "      buttonEl.style.display =\n",
              "        google.colab.kernel.accessAllowed ? 'block' : 'none';\n",
              "\n",
              "      async function convertToInteractive(key) {\n",
              "        const element = document.querySelector('#df-53c0e161-9af4-4bc7-8819-13538f41c9a1');\n",
              "        const dataTable =\n",
              "          await google.colab.kernel.invokeFunction('convertToInteractive',\n",
              "                                                    [key], {});\n",
              "        if (!dataTable) return;\n",
              "\n",
              "        const docLinkHtml = 'Like what you see? Visit the ' +\n",
              "          '<a target=\"_blank\" href=https://colab.research.google.com/notebooks/data_table.ipynb>data table notebook</a>'\n",
              "          + ' to learn more about interactive tables.';\n",
              "        element.innerHTML = '';\n",
              "        dataTable['output_type'] = 'display_data';\n",
              "        await google.colab.output.renderOutput(dataTable, element);\n",
              "        const docLink = document.createElement('div');\n",
              "        docLink.innerHTML = docLinkHtml;\n",
              "        element.appendChild(docLink);\n",
              "      }\n",
              "    </script>\n",
              "  </div>\n",
              "\n",
              "\n",
              "    <div id=\"df-19ce4bee-471f-4896-a5a6-57cb8cd8d32e\">\n",
              "      <button class=\"colab-df-quickchart\" onclick=\"quickchart('df-19ce4bee-471f-4896-a5a6-57cb8cd8d32e')\"\n",
              "                title=\"Suggest charts\"\n",
              "                style=\"display:none;\">\n",
              "\n",
              "<svg xmlns=\"http://www.w3.org/2000/svg\" height=\"24px\"viewBox=\"0 0 24 24\"\n",
              "     width=\"24px\">\n",
              "    <g>\n",
              "        <path d=\"M19 3H5c-1.1 0-2 .9-2 2v14c0 1.1.9 2 2 2h14c1.1 0 2-.9 2-2V5c0-1.1-.9-2-2-2zM9 17H7v-7h2v7zm4 0h-2V7h2v10zm4 0h-2v-4h2v4z\"/>\n",
              "    </g>\n",
              "</svg>\n",
              "      </button>\n",
              "\n",
              "<style>\n",
              "  .colab-df-quickchart {\n",
              "      --bg-color: #E8F0FE;\n",
              "      --fill-color: #1967D2;\n",
              "      --hover-bg-color: #E2EBFA;\n",
              "      --hover-fill-color: #174EA6;\n",
              "      --disabled-fill-color: #AAA;\n",
              "      --disabled-bg-color: #DDD;\n",
              "  }\n",
              "\n",
              "  [theme=dark] .colab-df-quickchart {\n",
              "      --bg-color: #3B4455;\n",
              "      --fill-color: #D2E3FC;\n",
              "      --hover-bg-color: #434B5C;\n",
              "      --hover-fill-color: #FFFFFF;\n",
              "      --disabled-bg-color: #3B4455;\n",
              "      --disabled-fill-color: #666;\n",
              "  }\n",
              "\n",
              "  .colab-df-quickchart {\n",
              "    background-color: var(--bg-color);\n",
              "    border: none;\n",
              "    border-radius: 50%;\n",
              "    cursor: pointer;\n",
              "    display: none;\n",
              "    fill: var(--fill-color);\n",
              "    height: 32px;\n",
              "    padding: 0;\n",
              "    width: 32px;\n",
              "  }\n",
              "\n",
              "  .colab-df-quickchart:hover {\n",
              "    background-color: var(--hover-bg-color);\n",
              "    box-shadow: 0 1px 2px rgba(60, 64, 67, 0.3), 0 1px 3px 1px rgba(60, 64, 67, 0.15);\n",
              "    fill: var(--button-hover-fill-color);\n",
              "  }\n",
              "\n",
              "  .colab-df-quickchart-complete:disabled,\n",
              "  .colab-df-quickchart-complete:disabled:hover {\n",
              "    background-color: var(--disabled-bg-color);\n",
              "    fill: var(--disabled-fill-color);\n",
              "    box-shadow: none;\n",
              "  }\n",
              "\n",
              "  .colab-df-spinner {\n",
              "    border: 2px solid var(--fill-color);\n",
              "    border-color: transparent;\n",
              "    border-bottom-color: var(--fill-color);\n",
              "    animation:\n",
              "      spin 1s steps(1) infinite;\n",
              "  }\n",
              "\n",
              "  @keyframes spin {\n",
              "    0% {\n",
              "      border-color: transparent;\n",
              "      border-bottom-color: var(--fill-color);\n",
              "      border-left-color: var(--fill-color);\n",
              "    }\n",
              "    20% {\n",
              "      border-color: transparent;\n",
              "      border-left-color: var(--fill-color);\n",
              "      border-top-color: var(--fill-color);\n",
              "    }\n",
              "    30% {\n",
              "      border-color: transparent;\n",
              "      border-left-color: var(--fill-color);\n",
              "      border-top-color: var(--fill-color);\n",
              "      border-right-color: var(--fill-color);\n",
              "    }\n",
              "    40% {\n",
              "      border-color: transparent;\n",
              "      border-right-color: var(--fill-color);\n",
              "      border-top-color: var(--fill-color);\n",
              "    }\n",
              "    60% {\n",
              "      border-color: transparent;\n",
              "      border-right-color: var(--fill-color);\n",
              "    }\n",
              "    80% {\n",
              "      border-color: transparent;\n",
              "      border-right-color: var(--fill-color);\n",
              "      border-bottom-color: var(--fill-color);\n",
              "    }\n",
              "    90% {\n",
              "      border-color: transparent;\n",
              "      border-bottom-color: var(--fill-color);\n",
              "    }\n",
              "  }\n",
              "</style>\n",
              "\n",
              "      <script>\n",
              "        async function quickchart(key) {\n",
              "          const quickchartButtonEl =\n",
              "            document.querySelector('#' + key + ' button');\n",
              "          quickchartButtonEl.disabled = true;  // To prevent multiple clicks.\n",
              "          quickchartButtonEl.classList.add('colab-df-spinner');\n",
              "          try {\n",
              "            const charts = await google.colab.kernel.invokeFunction(\n",
              "                'suggestCharts', [key], {});\n",
              "          } catch (error) {\n",
              "            console.error('Error during call to suggestCharts:', error);\n",
              "          }\n",
              "          quickchartButtonEl.classList.remove('colab-df-spinner');\n",
              "          quickchartButtonEl.classList.add('colab-df-quickchart-complete');\n",
              "        }\n",
              "        (() => {\n",
              "          let quickchartButtonEl =\n",
              "            document.querySelector('#df-19ce4bee-471f-4896-a5a6-57cb8cd8d32e button');\n",
              "          quickchartButtonEl.style.display =\n",
              "            google.colab.kernel.accessAllowed ? 'block' : 'none';\n",
              "        })();\n",
              "      </script>\n",
              "    </div>\n",
              "\n",
              "    </div>\n",
              "  </div>\n"
            ],
            "application/vnd.google.colaboratory.intrinsic+json": {
              "type": "dataframe",
              "summary": "{\n  \"name\": \"df_wafers\",\n  \"rows\": 8,\n  \"fields\": [\n    {\n      \"column\": \"DieX\",\n      \"properties\": {\n        \"dtype\": \"number\",\n        \"std\": 3682389.8850498316,\n        \"min\": 0.0,\n        \"max\": 10415400.0,\n        \"num_unique_values\": 8,\n        \"samples\": [\n          28.927357566680108,\n          28.0,\n          10415400.0\n        ],\n        \"semantic_type\": \"\",\n        \"description\": \"\"\n      }\n    },\n    {\n      \"column\": \"DieY\",\n      \"properties\": {\n        \"dtype\": \"number\",\n        \"std\": 3682389.8850498316,\n        \"min\": 0.0,\n        \"max\": 10415400.0,\n        \"num_unique_values\": 8,\n        \"samples\": [\n          28.927357566680108,\n          28.0,\n          10415400.0\n        ],\n        \"semantic_type\": \"\",\n        \"description\": \"\"\n      }\n    }\n  ]\n}"
            }
          },
          "metadata": {},
          "execution_count": 10
        }
      ]
    },
    {
      "cell_type": "code",
      "source": [
        "df_wafers.groupby('WaferName').count()"
      ],
      "metadata": {
        "colab": {
          "base_uri": "https://localhost:8080/",
          "height": 455
        },
        "id": "ck6r7yQFoyHD",
        "outputId": "3760a183-c72a-463b-ec37-2a46eac3d8ae"
      },
      "id": "ck6r7yQFoyHD",
      "execution_count": null,
      "outputs": [
        {
          "output_type": "execute_result",
          "data": {
            "text/plain": [
              "           DieX  DieY  IsGoodDie  IsScratchDie\n",
              "WaferName                                     \n",
              "00Q792     1941  1941       1941          1941\n",
              "01hHtd     1005  1005       1005          1005\n",
              "042xYr     2449  2449       2449          2449\n",
              "04XRmn     2997  2997       2997          2997\n",
              "04kats     4049  4049       4049          4049\n",
              "...         ...   ...        ...           ...\n",
              "zr4aii     1005  1005       1005          1005\n",
              "zuMuaC     3405  3405       3405          3405\n",
              "zwa9Uv     1005  1005       1005          1005\n",
              "zxj1fQ     1513  1513       1513          1513\n",
              "zz8noT     3405  3405       3405          3405\n",
              "\n",
              "[4200 rows x 4 columns]"
            ],
            "text/html": [
              "\n",
              "  <div id=\"df-db9bd54f-51c1-4dcb-9a15-d9eea49720ea\" class=\"colab-df-container\">\n",
              "    <div>\n",
              "<style scoped>\n",
              "    .dataframe tbody tr th:only-of-type {\n",
              "        vertical-align: middle;\n",
              "    }\n",
              "\n",
              "    .dataframe tbody tr th {\n",
              "        vertical-align: top;\n",
              "    }\n",
              "\n",
              "    .dataframe thead th {\n",
              "        text-align: right;\n",
              "    }\n",
              "</style>\n",
              "<table border=\"1\" class=\"dataframe\">\n",
              "  <thead>\n",
              "    <tr style=\"text-align: right;\">\n",
              "      <th></th>\n",
              "      <th>DieX</th>\n",
              "      <th>DieY</th>\n",
              "      <th>IsGoodDie</th>\n",
              "      <th>IsScratchDie</th>\n",
              "    </tr>\n",
              "    <tr>\n",
              "      <th>WaferName</th>\n",
              "      <th></th>\n",
              "      <th></th>\n",
              "      <th></th>\n",
              "      <th></th>\n",
              "    </tr>\n",
              "  </thead>\n",
              "  <tbody>\n",
              "    <tr>\n",
              "      <th>00Q792</th>\n",
              "      <td>1941</td>\n",
              "      <td>1941</td>\n",
              "      <td>1941</td>\n",
              "      <td>1941</td>\n",
              "    </tr>\n",
              "    <tr>\n",
              "      <th>01hHtd</th>\n",
              "      <td>1005</td>\n",
              "      <td>1005</td>\n",
              "      <td>1005</td>\n",
              "      <td>1005</td>\n",
              "    </tr>\n",
              "    <tr>\n",
              "      <th>042xYr</th>\n",
              "      <td>2449</td>\n",
              "      <td>2449</td>\n",
              "      <td>2449</td>\n",
              "      <td>2449</td>\n",
              "    </tr>\n",
              "    <tr>\n",
              "      <th>04XRmn</th>\n",
              "      <td>2997</td>\n",
              "      <td>2997</td>\n",
              "      <td>2997</td>\n",
              "      <td>2997</td>\n",
              "    </tr>\n",
              "    <tr>\n",
              "      <th>04kats</th>\n",
              "      <td>4049</td>\n",
              "      <td>4049</td>\n",
              "      <td>4049</td>\n",
              "      <td>4049</td>\n",
              "    </tr>\n",
              "    <tr>\n",
              "      <th>...</th>\n",
              "      <td>...</td>\n",
              "      <td>...</td>\n",
              "      <td>...</td>\n",
              "      <td>...</td>\n",
              "    </tr>\n",
              "    <tr>\n",
              "      <th>zr4aii</th>\n",
              "      <td>1005</td>\n",
              "      <td>1005</td>\n",
              "      <td>1005</td>\n",
              "      <td>1005</td>\n",
              "    </tr>\n",
              "    <tr>\n",
              "      <th>zuMuaC</th>\n",
              "      <td>3405</td>\n",
              "      <td>3405</td>\n",
              "      <td>3405</td>\n",
              "      <td>3405</td>\n",
              "    </tr>\n",
              "    <tr>\n",
              "      <th>zwa9Uv</th>\n",
              "      <td>1005</td>\n",
              "      <td>1005</td>\n",
              "      <td>1005</td>\n",
              "      <td>1005</td>\n",
              "    </tr>\n",
              "    <tr>\n",
              "      <th>zxj1fQ</th>\n",
              "      <td>1513</td>\n",
              "      <td>1513</td>\n",
              "      <td>1513</td>\n",
              "      <td>1513</td>\n",
              "    </tr>\n",
              "    <tr>\n",
              "      <th>zz8noT</th>\n",
              "      <td>3405</td>\n",
              "      <td>3405</td>\n",
              "      <td>3405</td>\n",
              "      <td>3405</td>\n",
              "    </tr>\n",
              "  </tbody>\n",
              "</table>\n",
              "<p>4200 rows × 4 columns</p>\n",
              "</div>\n",
              "    <div class=\"colab-df-buttons\">\n",
              "\n",
              "  <div class=\"colab-df-container\">\n",
              "    <button class=\"colab-df-convert\" onclick=\"convertToInteractive('df-db9bd54f-51c1-4dcb-9a15-d9eea49720ea')\"\n",
              "            title=\"Convert this dataframe to an interactive table.\"\n",
              "            style=\"display:none;\">\n",
              "\n",
              "  <svg xmlns=\"http://www.w3.org/2000/svg\" height=\"24px\" viewBox=\"0 -960 960 960\">\n",
              "    <path d=\"M120-120v-720h720v720H120Zm60-500h600v-160H180v160Zm220 220h160v-160H400v160Zm0 220h160v-160H400v160ZM180-400h160v-160H180v160Zm440 0h160v-160H620v160ZM180-180h160v-160H180v160Zm440 0h160v-160H620v160Z\"/>\n",
              "  </svg>\n",
              "    </button>\n",
              "\n",
              "  <style>\n",
              "    .colab-df-container {\n",
              "      display:flex;\n",
              "      gap: 12px;\n",
              "    }\n",
              "\n",
              "    .colab-df-convert {\n",
              "      background-color: #E8F0FE;\n",
              "      border: none;\n",
              "      border-radius: 50%;\n",
              "      cursor: pointer;\n",
              "      display: none;\n",
              "      fill: #1967D2;\n",
              "      height: 32px;\n",
              "      padding: 0 0 0 0;\n",
              "      width: 32px;\n",
              "    }\n",
              "\n",
              "    .colab-df-convert:hover {\n",
              "      background-color: #E2EBFA;\n",
              "      box-shadow: 0px 1px 2px rgba(60, 64, 67, 0.3), 0px 1px 3px 1px rgba(60, 64, 67, 0.15);\n",
              "      fill: #174EA6;\n",
              "    }\n",
              "\n",
              "    .colab-df-buttons div {\n",
              "      margin-bottom: 4px;\n",
              "    }\n",
              "\n",
              "    [theme=dark] .colab-df-convert {\n",
              "      background-color: #3B4455;\n",
              "      fill: #D2E3FC;\n",
              "    }\n",
              "\n",
              "    [theme=dark] .colab-df-convert:hover {\n",
              "      background-color: #434B5C;\n",
              "      box-shadow: 0px 1px 3px 1px rgba(0, 0, 0, 0.15);\n",
              "      filter: drop-shadow(0px 1px 2px rgba(0, 0, 0, 0.3));\n",
              "      fill: #FFFFFF;\n",
              "    }\n",
              "  </style>\n",
              "\n",
              "    <script>\n",
              "      const buttonEl =\n",
              "        document.querySelector('#df-db9bd54f-51c1-4dcb-9a15-d9eea49720ea button.colab-df-convert');\n",
              "      buttonEl.style.display =\n",
              "        google.colab.kernel.accessAllowed ? 'block' : 'none';\n",
              "\n",
              "      async function convertToInteractive(key) {\n",
              "        const element = document.querySelector('#df-db9bd54f-51c1-4dcb-9a15-d9eea49720ea');\n",
              "        const dataTable =\n",
              "          await google.colab.kernel.invokeFunction('convertToInteractive',\n",
              "                                                    [key], {});\n",
              "        if (!dataTable) return;\n",
              "\n",
              "        const docLinkHtml = 'Like what you see? Visit the ' +\n",
              "          '<a target=\"_blank\" href=https://colab.research.google.com/notebooks/data_table.ipynb>data table notebook</a>'\n",
              "          + ' to learn more about interactive tables.';\n",
              "        element.innerHTML = '';\n",
              "        dataTable['output_type'] = 'display_data';\n",
              "        await google.colab.output.renderOutput(dataTable, element);\n",
              "        const docLink = document.createElement('div');\n",
              "        docLink.innerHTML = docLinkHtml;\n",
              "        element.appendChild(docLink);\n",
              "      }\n",
              "    </script>\n",
              "  </div>\n",
              "\n",
              "\n",
              "    <div id=\"df-1ece9ab2-5e25-448e-a5c4-4355a78e2f69\">\n",
              "      <button class=\"colab-df-quickchart\" onclick=\"quickchart('df-1ece9ab2-5e25-448e-a5c4-4355a78e2f69')\"\n",
              "                title=\"Suggest charts\"\n",
              "                style=\"display:none;\">\n",
              "\n",
              "<svg xmlns=\"http://www.w3.org/2000/svg\" height=\"24px\"viewBox=\"0 0 24 24\"\n",
              "     width=\"24px\">\n",
              "    <g>\n",
              "        <path d=\"M19 3H5c-1.1 0-2 .9-2 2v14c0 1.1.9 2 2 2h14c1.1 0 2-.9 2-2V5c0-1.1-.9-2-2-2zM9 17H7v-7h2v7zm4 0h-2V7h2v10zm4 0h-2v-4h2v4z\"/>\n",
              "    </g>\n",
              "</svg>\n",
              "      </button>\n",
              "\n",
              "<style>\n",
              "  .colab-df-quickchart {\n",
              "      --bg-color: #E8F0FE;\n",
              "      --fill-color: #1967D2;\n",
              "      --hover-bg-color: #E2EBFA;\n",
              "      --hover-fill-color: #174EA6;\n",
              "      --disabled-fill-color: #AAA;\n",
              "      --disabled-bg-color: #DDD;\n",
              "  }\n",
              "\n",
              "  [theme=dark] .colab-df-quickchart {\n",
              "      --bg-color: #3B4455;\n",
              "      --fill-color: #D2E3FC;\n",
              "      --hover-bg-color: #434B5C;\n",
              "      --hover-fill-color: #FFFFFF;\n",
              "      --disabled-bg-color: #3B4455;\n",
              "      --disabled-fill-color: #666;\n",
              "  }\n",
              "\n",
              "  .colab-df-quickchart {\n",
              "    background-color: var(--bg-color);\n",
              "    border: none;\n",
              "    border-radius: 50%;\n",
              "    cursor: pointer;\n",
              "    display: none;\n",
              "    fill: var(--fill-color);\n",
              "    height: 32px;\n",
              "    padding: 0;\n",
              "    width: 32px;\n",
              "  }\n",
              "\n",
              "  .colab-df-quickchart:hover {\n",
              "    background-color: var(--hover-bg-color);\n",
              "    box-shadow: 0 1px 2px rgba(60, 64, 67, 0.3), 0 1px 3px 1px rgba(60, 64, 67, 0.15);\n",
              "    fill: var(--button-hover-fill-color);\n",
              "  }\n",
              "\n",
              "  .colab-df-quickchart-complete:disabled,\n",
              "  .colab-df-quickchart-complete:disabled:hover {\n",
              "    background-color: var(--disabled-bg-color);\n",
              "    fill: var(--disabled-fill-color);\n",
              "    box-shadow: none;\n",
              "  }\n",
              "\n",
              "  .colab-df-spinner {\n",
              "    border: 2px solid var(--fill-color);\n",
              "    border-color: transparent;\n",
              "    border-bottom-color: var(--fill-color);\n",
              "    animation:\n",
              "      spin 1s steps(1) infinite;\n",
              "  }\n",
              "\n",
              "  @keyframes spin {\n",
              "    0% {\n",
              "      border-color: transparent;\n",
              "      border-bottom-color: var(--fill-color);\n",
              "      border-left-color: var(--fill-color);\n",
              "    }\n",
              "    20% {\n",
              "      border-color: transparent;\n",
              "      border-left-color: var(--fill-color);\n",
              "      border-top-color: var(--fill-color);\n",
              "    }\n",
              "    30% {\n",
              "      border-color: transparent;\n",
              "      border-left-color: var(--fill-color);\n",
              "      border-top-color: var(--fill-color);\n",
              "      border-right-color: var(--fill-color);\n",
              "    }\n",
              "    40% {\n",
              "      border-color: transparent;\n",
              "      border-right-color: var(--fill-color);\n",
              "      border-top-color: var(--fill-color);\n",
              "    }\n",
              "    60% {\n",
              "      border-color: transparent;\n",
              "      border-right-color: var(--fill-color);\n",
              "    }\n",
              "    80% {\n",
              "      border-color: transparent;\n",
              "      border-right-color: var(--fill-color);\n",
              "      border-bottom-color: var(--fill-color);\n",
              "    }\n",
              "    90% {\n",
              "      border-color: transparent;\n",
              "      border-bottom-color: var(--fill-color);\n",
              "    }\n",
              "  }\n",
              "</style>\n",
              "\n",
              "      <script>\n",
              "        async function quickchart(key) {\n",
              "          const quickchartButtonEl =\n",
              "            document.querySelector('#' + key + ' button');\n",
              "          quickchartButtonEl.disabled = true;  // To prevent multiple clicks.\n",
              "          quickchartButtonEl.classList.add('colab-df-spinner');\n",
              "          try {\n",
              "            const charts = await google.colab.kernel.invokeFunction(\n",
              "                'suggestCharts', [key], {});\n",
              "          } catch (error) {\n",
              "            console.error('Error during call to suggestCharts:', error);\n",
              "          }\n",
              "          quickchartButtonEl.classList.remove('colab-df-spinner');\n",
              "          quickchartButtonEl.classList.add('colab-df-quickchart-complete');\n",
              "        }\n",
              "        (() => {\n",
              "          let quickchartButtonEl =\n",
              "            document.querySelector('#df-1ece9ab2-5e25-448e-a5c4-4355a78e2f69 button');\n",
              "          quickchartButtonEl.style.display =\n",
              "            google.colab.kernel.accessAllowed ? 'block' : 'none';\n",
              "        })();\n",
              "      </script>\n",
              "    </div>\n",
              "\n",
              "    </div>\n",
              "  </div>\n"
            ],
            "application/vnd.google.colaboratory.intrinsic+json": {
              "type": "dataframe",
              "summary": "{\n  \"name\": \"df_wafers\",\n  \"rows\": 4200,\n  \"fields\": [\n    {\n      \"column\": \"WaferName\",\n      \"properties\": {\n        \"dtype\": \"string\",\n        \"num_unique_values\": 4200,\n        \"samples\": [\n          \"PZQ72J\",\n          \"W1ke1K\",\n          \"PRKBDs\"\n        ],\n        \"semantic_type\": \"\",\n        \"description\": \"\"\n      }\n    },\n    {\n      \"column\": \"DieX\",\n      \"properties\": {\n        \"dtype\": \"number\",\n        \"std\": 999,\n        \"min\": 1005,\n        \"max\": 4049,\n        \"num_unique_values\": 7,\n        \"samples\": [\n          1941,\n          1005,\n          1513\n        ],\n        \"semantic_type\": \"\",\n        \"description\": \"\"\n      }\n    },\n    {\n      \"column\": \"DieY\",\n      \"properties\": {\n        \"dtype\": \"number\",\n        \"std\": 999,\n        \"min\": 1005,\n        \"max\": 4049,\n        \"num_unique_values\": 7,\n        \"samples\": [\n          1941,\n          1005,\n          1513\n        ],\n        \"semantic_type\": \"\",\n        \"description\": \"\"\n      }\n    },\n    {\n      \"column\": \"IsGoodDie\",\n      \"properties\": {\n        \"dtype\": \"number\",\n        \"std\": 999,\n        \"min\": 1005,\n        \"max\": 4049,\n        \"num_unique_values\": 7,\n        \"samples\": [\n          1941,\n          1005,\n          1513\n        ],\n        \"semantic_type\": \"\",\n        \"description\": \"\"\n      }\n    },\n    {\n      \"column\": \"IsScratchDie\",\n      \"properties\": {\n        \"dtype\": \"number\",\n        \"std\": 999,\n        \"min\": 1005,\n        \"max\": 4049,\n        \"num_unique_values\": 7,\n        \"samples\": [\n          1941,\n          1005,\n          1513\n        ],\n        \"semantic_type\": \"\",\n        \"description\": \"\"\n      }\n    }\n  ]\n}"
            }
          },
          "metadata": {},
          "execution_count": 11
        }
      ]
    },
    {
      "cell_type": "code",
      "source": [
        "df_wafers.groupby('IsScratchDie').count()"
      ],
      "metadata": {
        "colab": {
          "base_uri": "https://localhost:8080/",
          "height": 143
        },
        "id": "bI5GdxAbWk26",
        "outputId": "101ed156-bea1-4538-8586-8dffba8b57a0"
      },
      "id": "bI5GdxAbWk26",
      "execution_count": null,
      "outputs": [
        {
          "output_type": "execute_result",
          "data": {
            "text/plain": [
              "              WaferName      DieX      DieY  IsGoodDie\n",
              "IsScratchDie                                          \n",
              "False          10335081  10335081  10335081   10335081\n",
              "True              80319     80319     80319      80319"
            ],
            "text/html": [
              "\n",
              "  <div id=\"df-48bf2f1c-bcc9-45ca-a727-ca382b1f310e\" class=\"colab-df-container\">\n",
              "    <div>\n",
              "<style scoped>\n",
              "    .dataframe tbody tr th:only-of-type {\n",
              "        vertical-align: middle;\n",
              "    }\n",
              "\n",
              "    .dataframe tbody tr th {\n",
              "        vertical-align: top;\n",
              "    }\n",
              "\n",
              "    .dataframe thead th {\n",
              "        text-align: right;\n",
              "    }\n",
              "</style>\n",
              "<table border=\"1\" class=\"dataframe\">\n",
              "  <thead>\n",
              "    <tr style=\"text-align: right;\">\n",
              "      <th></th>\n",
              "      <th>WaferName</th>\n",
              "      <th>DieX</th>\n",
              "      <th>DieY</th>\n",
              "      <th>IsGoodDie</th>\n",
              "    </tr>\n",
              "    <tr>\n",
              "      <th>IsScratchDie</th>\n",
              "      <th></th>\n",
              "      <th></th>\n",
              "      <th></th>\n",
              "      <th></th>\n",
              "    </tr>\n",
              "  </thead>\n",
              "  <tbody>\n",
              "    <tr>\n",
              "      <th>False</th>\n",
              "      <td>10335081</td>\n",
              "      <td>10335081</td>\n",
              "      <td>10335081</td>\n",
              "      <td>10335081</td>\n",
              "    </tr>\n",
              "    <tr>\n",
              "      <th>True</th>\n",
              "      <td>80319</td>\n",
              "      <td>80319</td>\n",
              "      <td>80319</td>\n",
              "      <td>80319</td>\n",
              "    </tr>\n",
              "  </tbody>\n",
              "</table>\n",
              "</div>\n",
              "    <div class=\"colab-df-buttons\">\n",
              "\n",
              "  <div class=\"colab-df-container\">\n",
              "    <button class=\"colab-df-convert\" onclick=\"convertToInteractive('df-48bf2f1c-bcc9-45ca-a727-ca382b1f310e')\"\n",
              "            title=\"Convert this dataframe to an interactive table.\"\n",
              "            style=\"display:none;\">\n",
              "\n",
              "  <svg xmlns=\"http://www.w3.org/2000/svg\" height=\"24px\" viewBox=\"0 -960 960 960\">\n",
              "    <path d=\"M120-120v-720h720v720H120Zm60-500h600v-160H180v160Zm220 220h160v-160H400v160Zm0 220h160v-160H400v160ZM180-400h160v-160H180v160Zm440 0h160v-160H620v160ZM180-180h160v-160H180v160Zm440 0h160v-160H620v160Z\"/>\n",
              "  </svg>\n",
              "    </button>\n",
              "\n",
              "  <style>\n",
              "    .colab-df-container {\n",
              "      display:flex;\n",
              "      gap: 12px;\n",
              "    }\n",
              "\n",
              "    .colab-df-convert {\n",
              "      background-color: #E8F0FE;\n",
              "      border: none;\n",
              "      border-radius: 50%;\n",
              "      cursor: pointer;\n",
              "      display: none;\n",
              "      fill: #1967D2;\n",
              "      height: 32px;\n",
              "      padding: 0 0 0 0;\n",
              "      width: 32px;\n",
              "    }\n",
              "\n",
              "    .colab-df-convert:hover {\n",
              "      background-color: #E2EBFA;\n",
              "      box-shadow: 0px 1px 2px rgba(60, 64, 67, 0.3), 0px 1px 3px 1px rgba(60, 64, 67, 0.15);\n",
              "      fill: #174EA6;\n",
              "    }\n",
              "\n",
              "    .colab-df-buttons div {\n",
              "      margin-bottom: 4px;\n",
              "    }\n",
              "\n",
              "    [theme=dark] .colab-df-convert {\n",
              "      background-color: #3B4455;\n",
              "      fill: #D2E3FC;\n",
              "    }\n",
              "\n",
              "    [theme=dark] .colab-df-convert:hover {\n",
              "      background-color: #434B5C;\n",
              "      box-shadow: 0px 1px 3px 1px rgba(0, 0, 0, 0.15);\n",
              "      filter: drop-shadow(0px 1px 2px rgba(0, 0, 0, 0.3));\n",
              "      fill: #FFFFFF;\n",
              "    }\n",
              "  </style>\n",
              "\n",
              "    <script>\n",
              "      const buttonEl =\n",
              "        document.querySelector('#df-48bf2f1c-bcc9-45ca-a727-ca382b1f310e button.colab-df-convert');\n",
              "      buttonEl.style.display =\n",
              "        google.colab.kernel.accessAllowed ? 'block' : 'none';\n",
              "\n",
              "      async function convertToInteractive(key) {\n",
              "        const element = document.querySelector('#df-48bf2f1c-bcc9-45ca-a727-ca382b1f310e');\n",
              "        const dataTable =\n",
              "          await google.colab.kernel.invokeFunction('convertToInteractive',\n",
              "                                                    [key], {});\n",
              "        if (!dataTable) return;\n",
              "\n",
              "        const docLinkHtml = 'Like what you see? Visit the ' +\n",
              "          '<a target=\"_blank\" href=https://colab.research.google.com/notebooks/data_table.ipynb>data table notebook</a>'\n",
              "          + ' to learn more about interactive tables.';\n",
              "        element.innerHTML = '';\n",
              "        dataTable['output_type'] = 'display_data';\n",
              "        await google.colab.output.renderOutput(dataTable, element);\n",
              "        const docLink = document.createElement('div');\n",
              "        docLink.innerHTML = docLinkHtml;\n",
              "        element.appendChild(docLink);\n",
              "      }\n",
              "    </script>\n",
              "  </div>\n",
              "\n",
              "\n",
              "    <div id=\"df-2ad807d5-a867-4124-8a76-343e9fa644b9\">\n",
              "      <button class=\"colab-df-quickchart\" onclick=\"quickchart('df-2ad807d5-a867-4124-8a76-343e9fa644b9')\"\n",
              "                title=\"Suggest charts\"\n",
              "                style=\"display:none;\">\n",
              "\n",
              "<svg xmlns=\"http://www.w3.org/2000/svg\" height=\"24px\"viewBox=\"0 0 24 24\"\n",
              "     width=\"24px\">\n",
              "    <g>\n",
              "        <path d=\"M19 3H5c-1.1 0-2 .9-2 2v14c0 1.1.9 2 2 2h14c1.1 0 2-.9 2-2V5c0-1.1-.9-2-2-2zM9 17H7v-7h2v7zm4 0h-2V7h2v10zm4 0h-2v-4h2v4z\"/>\n",
              "    </g>\n",
              "</svg>\n",
              "      </button>\n",
              "\n",
              "<style>\n",
              "  .colab-df-quickchart {\n",
              "      --bg-color: #E8F0FE;\n",
              "      --fill-color: #1967D2;\n",
              "      --hover-bg-color: #E2EBFA;\n",
              "      --hover-fill-color: #174EA6;\n",
              "      --disabled-fill-color: #AAA;\n",
              "      --disabled-bg-color: #DDD;\n",
              "  }\n",
              "\n",
              "  [theme=dark] .colab-df-quickchart {\n",
              "      --bg-color: #3B4455;\n",
              "      --fill-color: #D2E3FC;\n",
              "      --hover-bg-color: #434B5C;\n",
              "      --hover-fill-color: #FFFFFF;\n",
              "      --disabled-bg-color: #3B4455;\n",
              "      --disabled-fill-color: #666;\n",
              "  }\n",
              "\n",
              "  .colab-df-quickchart {\n",
              "    background-color: var(--bg-color);\n",
              "    border: none;\n",
              "    border-radius: 50%;\n",
              "    cursor: pointer;\n",
              "    display: none;\n",
              "    fill: var(--fill-color);\n",
              "    height: 32px;\n",
              "    padding: 0;\n",
              "    width: 32px;\n",
              "  }\n",
              "\n",
              "  .colab-df-quickchart:hover {\n",
              "    background-color: var(--hover-bg-color);\n",
              "    box-shadow: 0 1px 2px rgba(60, 64, 67, 0.3), 0 1px 3px 1px rgba(60, 64, 67, 0.15);\n",
              "    fill: var(--button-hover-fill-color);\n",
              "  }\n",
              "\n",
              "  .colab-df-quickchart-complete:disabled,\n",
              "  .colab-df-quickchart-complete:disabled:hover {\n",
              "    background-color: var(--disabled-bg-color);\n",
              "    fill: var(--disabled-fill-color);\n",
              "    box-shadow: none;\n",
              "  }\n",
              "\n",
              "  .colab-df-spinner {\n",
              "    border: 2px solid var(--fill-color);\n",
              "    border-color: transparent;\n",
              "    border-bottom-color: var(--fill-color);\n",
              "    animation:\n",
              "      spin 1s steps(1) infinite;\n",
              "  }\n",
              "\n",
              "  @keyframes spin {\n",
              "    0% {\n",
              "      border-color: transparent;\n",
              "      border-bottom-color: var(--fill-color);\n",
              "      border-left-color: var(--fill-color);\n",
              "    }\n",
              "    20% {\n",
              "      border-color: transparent;\n",
              "      border-left-color: var(--fill-color);\n",
              "      border-top-color: var(--fill-color);\n",
              "    }\n",
              "    30% {\n",
              "      border-color: transparent;\n",
              "      border-left-color: var(--fill-color);\n",
              "      border-top-color: var(--fill-color);\n",
              "      border-right-color: var(--fill-color);\n",
              "    }\n",
              "    40% {\n",
              "      border-color: transparent;\n",
              "      border-right-color: var(--fill-color);\n",
              "      border-top-color: var(--fill-color);\n",
              "    }\n",
              "    60% {\n",
              "      border-color: transparent;\n",
              "      border-right-color: var(--fill-color);\n",
              "    }\n",
              "    80% {\n",
              "      border-color: transparent;\n",
              "      border-right-color: var(--fill-color);\n",
              "      border-bottom-color: var(--fill-color);\n",
              "    }\n",
              "    90% {\n",
              "      border-color: transparent;\n",
              "      border-bottom-color: var(--fill-color);\n",
              "    }\n",
              "  }\n",
              "</style>\n",
              "\n",
              "      <script>\n",
              "        async function quickchart(key) {\n",
              "          const quickchartButtonEl =\n",
              "            document.querySelector('#' + key + ' button');\n",
              "          quickchartButtonEl.disabled = true;  // To prevent multiple clicks.\n",
              "          quickchartButtonEl.classList.add('colab-df-spinner');\n",
              "          try {\n",
              "            const charts = await google.colab.kernel.invokeFunction(\n",
              "                'suggestCharts', [key], {});\n",
              "          } catch (error) {\n",
              "            console.error('Error during call to suggestCharts:', error);\n",
              "          }\n",
              "          quickchartButtonEl.classList.remove('colab-df-spinner');\n",
              "          quickchartButtonEl.classList.add('colab-df-quickchart-complete');\n",
              "        }\n",
              "        (() => {\n",
              "          let quickchartButtonEl =\n",
              "            document.querySelector('#df-2ad807d5-a867-4124-8a76-343e9fa644b9 button');\n",
              "          quickchartButtonEl.style.display =\n",
              "            google.colab.kernel.accessAllowed ? 'block' : 'none';\n",
              "        })();\n",
              "      </script>\n",
              "    </div>\n",
              "\n",
              "    </div>\n",
              "  </div>\n"
            ],
            "application/vnd.google.colaboratory.intrinsic+json": {
              "type": "dataframe",
              "summary": "{\n  \"name\": \"df_wafers\",\n  \"rows\": 2,\n  \"fields\": [\n    {\n      \"column\": \"IsScratchDie\",\n      \"properties\": {\n        \"dtype\": \"boolean\",\n        \"num_unique_values\": 2,\n        \"samples\": [\n          true,\n          false\n        ],\n        \"semantic_type\": \"\",\n        \"description\": \"\"\n      }\n    },\n    {\n      \"column\": \"WaferName\",\n      \"properties\": {\n        \"dtype\": \"number\",\n        \"std\": 7251211,\n        \"min\": 80319,\n        \"max\": 10335081,\n        \"num_unique_values\": 2,\n        \"samples\": [\n          80319,\n          10335081\n        ],\n        \"semantic_type\": \"\",\n        \"description\": \"\"\n      }\n    },\n    {\n      \"column\": \"DieX\",\n      \"properties\": {\n        \"dtype\": \"number\",\n        \"std\": 7251211,\n        \"min\": 80319,\n        \"max\": 10335081,\n        \"num_unique_values\": 2,\n        \"samples\": [\n          80319,\n          10335081\n        ],\n        \"semantic_type\": \"\",\n        \"description\": \"\"\n      }\n    },\n    {\n      \"column\": \"DieY\",\n      \"properties\": {\n        \"dtype\": \"number\",\n        \"std\": 7251211,\n        \"min\": 80319,\n        \"max\": 10335081,\n        \"num_unique_values\": 2,\n        \"samples\": [\n          80319,\n          10335081\n        ],\n        \"semantic_type\": \"\",\n        \"description\": \"\"\n      }\n    },\n    {\n      \"column\": \"IsGoodDie\",\n      \"properties\": {\n        \"dtype\": \"number\",\n        \"std\": 7251211,\n        \"min\": 80319,\n        \"max\": 10335081,\n        \"num_unique_values\": 2,\n        \"samples\": [\n          80319,\n          10335081\n        ],\n        \"semantic_type\": \"\",\n        \"description\": \"\"\n      }\n    }\n  ]\n}"
            }
          },
          "metadata": {},
          "execution_count": 12
        }
      ]
    },
    {
      "cell_type": "code",
      "source": [
        "wafer_yield = df_wafers.groupby('WaferName').agg(\n",
        "    total_dies=('IsGoodDie', 'count'),\n",
        "    good_dies=('IsGoodDie', 'sum')\n",
        ")\n",
        "wafer_yield['Yield'] = wafer_yield['good_dies'] / wafer_yield['total_dies']"
      ],
      "metadata": {
        "id": "iJBnZ_cArryr"
      },
      "id": "iJBnZ_cArryr",
      "execution_count": null,
      "outputs": []
    },
    {
      "cell_type": "code",
      "source": [
        "wafer_yield.head()"
      ],
      "metadata": {
        "colab": {
          "base_uri": "https://localhost:8080/",
          "height": 237
        },
        "id": "8dgYew5ksLXV",
        "outputId": "cf028acc-038a-4d34-a916-b7a4080c6563"
      },
      "id": "8dgYew5ksLXV",
      "execution_count": null,
      "outputs": [
        {
          "output_type": "execute_result",
          "data": {
            "text/plain": [
              "           total_dies  good_dies     Yield\n",
              "WaferName                                 \n",
              "00Q792           1941       1881  0.969088\n",
              "01hHtd           1005        978  0.973134\n",
              "042xYr           2449       2363  0.964884\n",
              "04XRmn           2997       2845  0.949283\n",
              "04kats           4049       3880  0.958261"
            ],
            "text/html": [
              "\n",
              "  <div id=\"df-63e70f56-841b-4073-83a2-0847288b9aec\" class=\"colab-df-container\">\n",
              "    <div>\n",
              "<style scoped>\n",
              "    .dataframe tbody tr th:only-of-type {\n",
              "        vertical-align: middle;\n",
              "    }\n",
              "\n",
              "    .dataframe tbody tr th {\n",
              "        vertical-align: top;\n",
              "    }\n",
              "\n",
              "    .dataframe thead th {\n",
              "        text-align: right;\n",
              "    }\n",
              "</style>\n",
              "<table border=\"1\" class=\"dataframe\">\n",
              "  <thead>\n",
              "    <tr style=\"text-align: right;\">\n",
              "      <th></th>\n",
              "      <th>total_dies</th>\n",
              "      <th>good_dies</th>\n",
              "      <th>Yield</th>\n",
              "    </tr>\n",
              "    <tr>\n",
              "      <th>WaferName</th>\n",
              "      <th></th>\n",
              "      <th></th>\n",
              "      <th></th>\n",
              "    </tr>\n",
              "  </thead>\n",
              "  <tbody>\n",
              "    <tr>\n",
              "      <th>00Q792</th>\n",
              "      <td>1941</td>\n",
              "      <td>1881</td>\n",
              "      <td>0.969088</td>\n",
              "    </tr>\n",
              "    <tr>\n",
              "      <th>01hHtd</th>\n",
              "      <td>1005</td>\n",
              "      <td>978</td>\n",
              "      <td>0.973134</td>\n",
              "    </tr>\n",
              "    <tr>\n",
              "      <th>042xYr</th>\n",
              "      <td>2449</td>\n",
              "      <td>2363</td>\n",
              "      <td>0.964884</td>\n",
              "    </tr>\n",
              "    <tr>\n",
              "      <th>04XRmn</th>\n",
              "      <td>2997</td>\n",
              "      <td>2845</td>\n",
              "      <td>0.949283</td>\n",
              "    </tr>\n",
              "    <tr>\n",
              "      <th>04kats</th>\n",
              "      <td>4049</td>\n",
              "      <td>3880</td>\n",
              "      <td>0.958261</td>\n",
              "    </tr>\n",
              "  </tbody>\n",
              "</table>\n",
              "</div>\n",
              "    <div class=\"colab-df-buttons\">\n",
              "\n",
              "  <div class=\"colab-df-container\">\n",
              "    <button class=\"colab-df-convert\" onclick=\"convertToInteractive('df-63e70f56-841b-4073-83a2-0847288b9aec')\"\n",
              "            title=\"Convert this dataframe to an interactive table.\"\n",
              "            style=\"display:none;\">\n",
              "\n",
              "  <svg xmlns=\"http://www.w3.org/2000/svg\" height=\"24px\" viewBox=\"0 -960 960 960\">\n",
              "    <path d=\"M120-120v-720h720v720H120Zm60-500h600v-160H180v160Zm220 220h160v-160H400v160Zm0 220h160v-160H400v160ZM180-400h160v-160H180v160Zm440 0h160v-160H620v160ZM180-180h160v-160H180v160Zm440 0h160v-160H620v160Z\"/>\n",
              "  </svg>\n",
              "    </button>\n",
              "\n",
              "  <style>\n",
              "    .colab-df-container {\n",
              "      display:flex;\n",
              "      gap: 12px;\n",
              "    }\n",
              "\n",
              "    .colab-df-convert {\n",
              "      background-color: #E8F0FE;\n",
              "      border: none;\n",
              "      border-radius: 50%;\n",
              "      cursor: pointer;\n",
              "      display: none;\n",
              "      fill: #1967D2;\n",
              "      height: 32px;\n",
              "      padding: 0 0 0 0;\n",
              "      width: 32px;\n",
              "    }\n",
              "\n",
              "    .colab-df-convert:hover {\n",
              "      background-color: #E2EBFA;\n",
              "      box-shadow: 0px 1px 2px rgba(60, 64, 67, 0.3), 0px 1px 3px 1px rgba(60, 64, 67, 0.15);\n",
              "      fill: #174EA6;\n",
              "    }\n",
              "\n",
              "    .colab-df-buttons div {\n",
              "      margin-bottom: 4px;\n",
              "    }\n",
              "\n",
              "    [theme=dark] .colab-df-convert {\n",
              "      background-color: #3B4455;\n",
              "      fill: #D2E3FC;\n",
              "    }\n",
              "\n",
              "    [theme=dark] .colab-df-convert:hover {\n",
              "      background-color: #434B5C;\n",
              "      box-shadow: 0px 1px 3px 1px rgba(0, 0, 0, 0.15);\n",
              "      filter: drop-shadow(0px 1px 2px rgba(0, 0, 0, 0.3));\n",
              "      fill: #FFFFFF;\n",
              "    }\n",
              "  </style>\n",
              "\n",
              "    <script>\n",
              "      const buttonEl =\n",
              "        document.querySelector('#df-63e70f56-841b-4073-83a2-0847288b9aec button.colab-df-convert');\n",
              "      buttonEl.style.display =\n",
              "        google.colab.kernel.accessAllowed ? 'block' : 'none';\n",
              "\n",
              "      async function convertToInteractive(key) {\n",
              "        const element = document.querySelector('#df-63e70f56-841b-4073-83a2-0847288b9aec');\n",
              "        const dataTable =\n",
              "          await google.colab.kernel.invokeFunction('convertToInteractive',\n",
              "                                                    [key], {});\n",
              "        if (!dataTable) return;\n",
              "\n",
              "        const docLinkHtml = 'Like what you see? Visit the ' +\n",
              "          '<a target=\"_blank\" href=https://colab.research.google.com/notebooks/data_table.ipynb>data table notebook</a>'\n",
              "          + ' to learn more about interactive tables.';\n",
              "        element.innerHTML = '';\n",
              "        dataTable['output_type'] = 'display_data';\n",
              "        await google.colab.output.renderOutput(dataTable, element);\n",
              "        const docLink = document.createElement('div');\n",
              "        docLink.innerHTML = docLinkHtml;\n",
              "        element.appendChild(docLink);\n",
              "      }\n",
              "    </script>\n",
              "  </div>\n",
              "\n",
              "\n",
              "    <div id=\"df-179d4da0-1931-494b-b6e6-67637f9f709d\">\n",
              "      <button class=\"colab-df-quickchart\" onclick=\"quickchart('df-179d4da0-1931-494b-b6e6-67637f9f709d')\"\n",
              "                title=\"Suggest charts\"\n",
              "                style=\"display:none;\">\n",
              "\n",
              "<svg xmlns=\"http://www.w3.org/2000/svg\" height=\"24px\"viewBox=\"0 0 24 24\"\n",
              "     width=\"24px\">\n",
              "    <g>\n",
              "        <path d=\"M19 3H5c-1.1 0-2 .9-2 2v14c0 1.1.9 2 2 2h14c1.1 0 2-.9 2-2V5c0-1.1-.9-2-2-2zM9 17H7v-7h2v7zm4 0h-2V7h2v10zm4 0h-2v-4h2v4z\"/>\n",
              "    </g>\n",
              "</svg>\n",
              "      </button>\n",
              "\n",
              "<style>\n",
              "  .colab-df-quickchart {\n",
              "      --bg-color: #E8F0FE;\n",
              "      --fill-color: #1967D2;\n",
              "      --hover-bg-color: #E2EBFA;\n",
              "      --hover-fill-color: #174EA6;\n",
              "      --disabled-fill-color: #AAA;\n",
              "      --disabled-bg-color: #DDD;\n",
              "  }\n",
              "\n",
              "  [theme=dark] .colab-df-quickchart {\n",
              "      --bg-color: #3B4455;\n",
              "      --fill-color: #D2E3FC;\n",
              "      --hover-bg-color: #434B5C;\n",
              "      --hover-fill-color: #FFFFFF;\n",
              "      --disabled-bg-color: #3B4455;\n",
              "      --disabled-fill-color: #666;\n",
              "  }\n",
              "\n",
              "  .colab-df-quickchart {\n",
              "    background-color: var(--bg-color);\n",
              "    border: none;\n",
              "    border-radius: 50%;\n",
              "    cursor: pointer;\n",
              "    display: none;\n",
              "    fill: var(--fill-color);\n",
              "    height: 32px;\n",
              "    padding: 0;\n",
              "    width: 32px;\n",
              "  }\n",
              "\n",
              "  .colab-df-quickchart:hover {\n",
              "    background-color: var(--hover-bg-color);\n",
              "    box-shadow: 0 1px 2px rgba(60, 64, 67, 0.3), 0 1px 3px 1px rgba(60, 64, 67, 0.15);\n",
              "    fill: var(--button-hover-fill-color);\n",
              "  }\n",
              "\n",
              "  .colab-df-quickchart-complete:disabled,\n",
              "  .colab-df-quickchart-complete:disabled:hover {\n",
              "    background-color: var(--disabled-bg-color);\n",
              "    fill: var(--disabled-fill-color);\n",
              "    box-shadow: none;\n",
              "  }\n",
              "\n",
              "  .colab-df-spinner {\n",
              "    border: 2px solid var(--fill-color);\n",
              "    border-color: transparent;\n",
              "    border-bottom-color: var(--fill-color);\n",
              "    animation:\n",
              "      spin 1s steps(1) infinite;\n",
              "  }\n",
              "\n",
              "  @keyframes spin {\n",
              "    0% {\n",
              "      border-color: transparent;\n",
              "      border-bottom-color: var(--fill-color);\n",
              "      border-left-color: var(--fill-color);\n",
              "    }\n",
              "    20% {\n",
              "      border-color: transparent;\n",
              "      border-left-color: var(--fill-color);\n",
              "      border-top-color: var(--fill-color);\n",
              "    }\n",
              "    30% {\n",
              "      border-color: transparent;\n",
              "      border-left-color: var(--fill-color);\n",
              "      border-top-color: var(--fill-color);\n",
              "      border-right-color: var(--fill-color);\n",
              "    }\n",
              "    40% {\n",
              "      border-color: transparent;\n",
              "      border-right-color: var(--fill-color);\n",
              "      border-top-color: var(--fill-color);\n",
              "    }\n",
              "    60% {\n",
              "      border-color: transparent;\n",
              "      border-right-color: var(--fill-color);\n",
              "    }\n",
              "    80% {\n",
              "      border-color: transparent;\n",
              "      border-right-color: var(--fill-color);\n",
              "      border-bottom-color: var(--fill-color);\n",
              "    }\n",
              "    90% {\n",
              "      border-color: transparent;\n",
              "      border-bottom-color: var(--fill-color);\n",
              "    }\n",
              "  }\n",
              "</style>\n",
              "\n",
              "      <script>\n",
              "        async function quickchart(key) {\n",
              "          const quickchartButtonEl =\n",
              "            document.querySelector('#' + key + ' button');\n",
              "          quickchartButtonEl.disabled = true;  // To prevent multiple clicks.\n",
              "          quickchartButtonEl.classList.add('colab-df-spinner');\n",
              "          try {\n",
              "            const charts = await google.colab.kernel.invokeFunction(\n",
              "                'suggestCharts', [key], {});\n",
              "          } catch (error) {\n",
              "            console.error('Error during call to suggestCharts:', error);\n",
              "          }\n",
              "          quickchartButtonEl.classList.remove('colab-df-spinner');\n",
              "          quickchartButtonEl.classList.add('colab-df-quickchart-complete');\n",
              "        }\n",
              "        (() => {\n",
              "          let quickchartButtonEl =\n",
              "            document.querySelector('#df-179d4da0-1931-494b-b6e6-67637f9f709d button');\n",
              "          quickchartButtonEl.style.display =\n",
              "            google.colab.kernel.accessAllowed ? 'block' : 'none';\n",
              "        })();\n",
              "      </script>\n",
              "    </div>\n",
              "\n",
              "    </div>\n",
              "  </div>\n"
            ],
            "application/vnd.google.colaboratory.intrinsic+json": {
              "type": "dataframe",
              "variable_name": "wafer_yield",
              "summary": "{\n  \"name\": \"wafer_yield\",\n  \"rows\": 4200,\n  \"fields\": [\n    {\n      \"column\": \"WaferName\",\n      \"properties\": {\n        \"dtype\": \"string\",\n        \"num_unique_values\": 4200,\n        \"samples\": [\n          \"PZQ72J\",\n          \"W1ke1K\",\n          \"PRKBDs\"\n        ],\n        \"semantic_type\": \"\",\n        \"description\": \"\"\n      }\n    },\n    {\n      \"column\": \"total_dies\",\n      \"properties\": {\n        \"dtype\": \"number\",\n        \"std\": 999,\n        \"min\": 1005,\n        \"max\": 4049,\n        \"num_unique_values\": 7,\n        \"samples\": [\n          1941,\n          1005,\n          1513\n        ],\n        \"semantic_type\": \"\",\n        \"description\": \"\"\n      }\n    },\n    {\n      \"column\": \"good_dies\",\n      \"properties\": {\n        \"dtype\": \"number\",\n        \"std\": 966,\n        \"min\": 917,\n        \"max\": 3988,\n        \"num_unique_values\": 768,\n        \"samples\": [\n          3337,\n          2921,\n          1422\n        ],\n        \"semantic_type\": \"\",\n        \"description\": \"\"\n      }\n    },\n    {\n      \"column\": \"Yield\",\n      \"properties\": {\n        \"dtype\": \"number\",\n        \"std\": 0.011007933481705428,\n        \"min\": 0.900198281559815,\n        \"max\": 0.9890547263681592,\n        \"num_unique_values\": 768,\n        \"samples\": [\n          0.9800293685756241,\n          0.9746413079746413,\n          0.9398545935228024\n        ],\n        \"semantic_type\": \"\",\n        \"description\": \"\"\n      }\n    }\n  ]\n}"
            }
          },
          "metadata": {},
          "execution_count": 14
        }
      ]
    },
    {
      "cell_type": "code",
      "source": [
        "plt.hist(wafer_yield['Yield'], bins=30, edgecolor='black')\n",
        "plt.title(\"Histogram of Wafer Yield\")\n",
        "plt.xlabel(\"Yield\")\n",
        "plt.ylabel(\"Number of Wafers\")\n",
        "plt.grid(True)\n",
        "plt.show()\n"
      ],
      "metadata": {
        "colab": {
          "base_uri": "https://localhost:8080/",
          "height": 472
        },
        "id": "P6Cf-n80t3E5",
        "outputId": "4f54d8c1-ea5f-4e4c-a057-432ded771c17"
      },
      "id": "P6Cf-n80t3E5",
      "execution_count": null,
      "outputs": [
        {
          "output_type": "display_data",
          "data": {
            "text/plain": [
              "<Figure size 640x480 with 1 Axes>"
            ],
            "image/png": "[encoded data removed]"
          },
          "metadata": {}
        }
      ]
    },
    {
      "cell_type": "code",
      "source": [
        "df_scratch = df_wafers[df_wafers['IsScratchDie'] == 1]\n",
        "scratch_yield = df_scratch.groupby('WaferName').size() / df_wafers.groupby('WaferName').size()\n",
        "\n",
        "wafer_yield['ScratchRate'] = scratch_yield\n",
        "plt.scatter(wafer_yield['Yield'], wafer_yield['ScratchRate'])\n",
        "plt.xlabel(\"Yield\")\n",
        "plt.ylabel(\"Scratch Rate\")\n",
        "plt.title(\"Scratch Rate vs. Wafer Yield\")\n",
        "plt.grid(True)\n",
        "plt.show()\n"
      ],
      "metadata": {
        "colab": {
          "base_uri": "https://localhost:8080/",
          "height": 472
        },
        "id": "MEir3jRHuIHU",
        "outputId": "31a8e545-5f7e-4587-de31-7c01499d1a83"
      },
      "id": "MEir3jRHuIHU",
      "execution_count": null,
      "outputs": [
        {
          "output_type": "display_data",
          "data": {
            "text/plain": [
              "<Figure size 640x480 with 1 Axes>"
            ],
            "image/png": "[encoded data removed]"
          },
          "metadata": {}
        }
      ]
    },
    {
      "cell_type": "code",
      "source": [
        "outlier_wafers = wafer_yield[\n",
        "    (wafer_yield['Yield'] < 0.92) |\n",
        "    (wafer_yield['ScratchRate'] > 0.045)\n",
        "]\n",
        "\n",
        "print(outlier_wafers[['Yield', 'ScratchRate']])"
      ],
      "metadata": {
        "colab": {
          "base_uri": "https://localhost:8080/"
        },
        "id": "iBuDdWTf-hqP",
        "outputId": "b5c0c8e8-dfad-4168-f667-3712b93fd824"
      },
      "id": "iBuDdWTf-hqP",
      "execution_count": null,
      "outputs": [
        {
          "output_type": "stream",
          "name": "stdout",
          "text": [
            "              Yield  ScratchRate\n",
            "WaferName                       \n",
            "5ANCVA     0.950249     0.045771\n",
            "7Lyxe2     0.943284     0.045771\n",
            "AvM0iw     0.912438     0.045771\n",
            "SlGk2E     0.924653     0.064111\n",
            "YouPKd     0.924378     0.054726\n",
            "hyTuXj     0.929353     0.055721\n",
            "sNyWi7     0.900198     0.064111\n",
            "wgSX4O     0.923383     0.047761\n"
          ]
        }
      ]
    },
    {
      "cell_type": "code",
      "source": [
        "outlier_wafer_names = outlier_wafers.index.tolist()\n",
        "\n",
        "sample_outliers = df_wafers[df_wafers['WaferName'].isin(outlier_wafer_names)]\n",
        "sampled_groups = [sample_outliers.groupby('WaferName').get_group(name) for name in outlier_wafer_names[:4]]\n",
        "\n",
        "plot_wafer_maps(sampled_groups, figsize=8, labels=True)"
      ],
      "metadata": {
        "colab": {
          "base_uri": "https://localhost:8080/",
          "height": 574
        },
        "id": "7lKhBNrdA-xH",
        "outputId": "3b65db19-52eb-4abe-ae5b-01247f69e831"
      },
      "id": "7lKhBNrdA-xH",
      "execution_count": null,
      "outputs": [
        {
          "output_type": "display_data",
          "data": {
            "text/plain": [
              "<Figure size 3200x1600 with 8 Axes>"
            ],
            "image/png": "[encoded data removed]"
          },
          "metadata": {}
        }
      ]
    },
    {
      "cell_type": "code",
      "source": [
        "unique_wafers = df_wafers['WaferName'].unique()\n",
        "wafers_train, wafers_val = train_test_split(unique_wafers, test_size=0.2, random_state=42)\n",
        "\n",
        "df_train_base = df_wafers[df_wafers['WaferName'].isin(wafers_train)].copy()\n",
        "df_val = df_wafers[df_wafers['WaferName'].isin(wafers_val)].copy()\n",
        "\n",
        "df_train_full = df_train_base.copy()\n",
        "df_train_filtered = df_train_base[~df_train_base['WaferName'].isin(outlier_wafer_names)].copy()\n"
      ],
      "metadata": {
        "id": "8QqiYkQyCr69"
      },
      "id": "8QqiYkQyCr69",
      "execution_count": null,
      "outputs": []
    },
    {
      "cell_type": "code",
      "source": [
        "def basic_features(df):\n",
        "    features = df.copy()\n",
        "\n",
        "    wafer_centers = features.groupby('WaferName')[['DieX', 'DieY']].mean().rename(columns={\n",
        "        'DieX': 'CenterX', 'DieY': 'CenterY'\n",
        "    })\n",
        "    features = features.merge(wafer_centers, on='WaferName')\n",
        "    features['DistFromCenter'] = ((features['DieX'] - features['CenterX'])**2 + (features['DieY'] - features['CenterY'])**2)**0.5\n",
        "\n",
        "    features['NormX'] = features.groupby('WaferName')['DieX'].transform(lambda x: (x - x.min()) / (x.max() - x.min()))\n",
        "    features['NormY'] = features.groupby('WaferName')['DieY'].transform(lambda y: (y - y.min()) / (y.max() - y.min()))\n",
        "\n",
        "    return features\n"
      ],
      "metadata": {
        "id": "p0V_tj3XGiFM"
      },
      "id": "p0V_tj3XGiFM",
      "execution_count": null,
      "outputs": []
    },
    {
      "cell_type": "code",
      "source": [
        "def add_neighbor_features(df):\n",
        "    features = []\n",
        "    for wafer_name, wafer_df in df.groupby(\"WaferName\"):\n",
        "        grid = {}\n",
        "        for _, row in wafer_df.iterrows():\n",
        "            grid[(row.DieX, row.DieY)] = row.IsGoodDie\n",
        "\n",
        "        neighbors = []\n",
        "        for _, row in wafer_df.iterrows():\n",
        "            x, y = row.DieX, row.DieY\n",
        "            neighbor_coords = [(x+i, y+j) for i in [-1, 0, 1] for j in [-1, 0, 1] if not (i == 0 and j == 0)]\n",
        "            good_neighbors = sum(grid.get((nx, ny), 1) for nx, ny in neighbor_coords)  # מניח שדי תקין אם לא קיים\n",
        "            bad_neighbors = 8 - good_neighbors\n",
        "            neighbors.append(bad_neighbors)\n",
        "\n",
        "        wafer_df = wafer_df.copy()\n",
        "        wafer_df[\"BadNeighbors\"] = neighbors\n",
        "        features.append(wafer_df)\n",
        "\n",
        "    return pd.concat(features, ignore_index=True)\n"
      ],
      "metadata": {
        "id": "cSLBY5u4Gmgp"
      },
      "id": "cSLBY5u4Gmgp",
      "execution_count": null,
      "outputs": []
    },
    {
      "cell_type": "code",
      "source": [
        "def prepare_ml_data(df):\n",
        "    df = basic_features(df)\n",
        "    df = add_neighbor_features(df)\n",
        "    feature_cols = ['NormX', 'NormY', 'DistFromCenter', 'BadNeighbors', 'IsGoodDie']\n",
        "    X = df[feature_cols]\n",
        "    y = df['IsScratchDie']\n",
        "    return X, y\n"
      ],
      "metadata": {
        "id": "v5Vj6K9QGrcC"
      },
      "id": "v5Vj6K9QGrcC",
      "execution_count": null,
      "outputs": []
    },
    {
      "cell_type": "code",
      "source": [
        "X_train_full, y_train_full = prepare_ml_data(df_train_full)\n",
        "X_train_filtered, y_train_filtered = prepare_ml_data(df_train_filtered)\n",
        "X_val, y_val = prepare_ml_data(df_val)\n"
      ],
      "metadata": {
        "id": "P4LLpHPJGu7f"
      },
      "id": "P4LLpHPJGu7f",
      "execution_count": null,
      "outputs": []
    },
    {
      "cell_type": "code",
      "source": [
        "model_full = RandomForestClassifier(random_state=42)\n",
        "model_full.fit(X_train_full, y_train_full)\n",
        "y_pred_full = model_full.predict(X_val)\n",
        "\n",
        "model_filtered = RandomForestClassifier(random_state=42)\n",
        "model_filtered.fit(X_train_filtered, y_train_filtered)\n",
        "y_pred_filtered = model_filtered.predict(X_val)\n",
        "\n",
        "print(\"=== Model Trained on Full Dataset ===\")\n",
        "print(classification_report(y_val, y_pred_full))\n",
        "\n",
        "print(\"\\n=== Model Trained on Filtered Dataset (No Outliers) ===\")\n",
        "print(classification_report(y_val, y_pred_filtered))\n"
      ],
      "metadata": {
        "colab": {
          "base_uri": "https://localhost:8080/"
        },
        "outputId": "f5c9cf89-7e13-4d3e-95b6-8befd4f21bde",
        "id": "GfBU3PohYth6"
      },
      "execution_count": null,
      "outputs": [
        {
          "output_type": "stream",
          "name": "stdout",
          "text": [
            "=== Model Trained on Full Dataset ===\n",
            "              precision    recall  f1-score   support\n",
            "\n",
            "       False       1.00      1.00      1.00   2090268\n",
            "        True       0.72      0.55      0.62     16840\n",
            "\n",
            "    accuracy                           0.99   2107108\n",
            "   macro avg       0.86      0.77      0.81   2107108\n",
            "weighted avg       0.99      0.99      0.99   2107108\n",
            "\n",
            "\n",
            "=== Model Trained on Filtered Dataset (No Outliers) ===\n",
            "              precision    recall  f1-score   support\n",
            "\n",
            "       False       1.00      1.00      1.00   2090268\n",
            "        True       0.72      0.55      0.62     16840\n",
            "\n",
            "    accuracy                           0.99   2107108\n",
            "   macro avg       0.86      0.77      0.81   2107108\n",
            "weighted avg       0.99      0.99      0.99   2107108\n",
            "\n"
          ]
        }
      ],
      "id": "GfBU3PohYth6"
    },
    {
      "cell_type": "code",
      "source": [
        "y_train_pred = model_filtered.predict(X_train_filtered)\n",
        "\n",
        "print(\"=== Train Set ===\")\n",
        "print(classification_report(y_train_filtered, y_train_pred))\n",
        "\n",
        "print(\"\\n=== Validation Set ===\")\n",
        "print(classification_report(y_val, y_pred_filtered))"
      ],
      "metadata": {
        "colab": {
          "base_uri": "https://localhost:8080/"
        },
        "id": "BWwmDwqP2sE0",
        "outputId": "1cc47870-cd54-4971-a0b4-a8134f3b2ed3"
      },
      "id": "BWwmDwqP2sE0",
      "execution_count": null,
      "outputs": [
        {
          "output_type": "stream",
          "name": "stdout",
          "text": [
            "=== Train Set ===\n",
            "              precision    recall  f1-score   support\n",
            "\n",
            "       False       1.00      1.00      1.00   8237664\n",
            "        True       0.85      0.64      0.73     63085\n",
            "\n",
            "    accuracy                           1.00   8300749\n",
            "   macro avg       0.92      0.82      0.86   8300749\n",
            "weighted avg       1.00      1.00      1.00   8300749\n",
            "\n",
            "\n",
            "=== Validation Set ===\n",
            "              precision    recall  f1-score   support\n",
            "\n",
            "       False       1.00      1.00      1.00   2090268\n",
            "        True       0.72      0.55      0.62     16840\n",
            "\n",
            "    accuracy                           0.99   2107108\n",
            "   macro avg       0.86      0.77      0.81   2107108\n",
            "weighted avg       0.99      0.99      0.99   2107108\n",
            "\n"
          ]
        }
      ]
    },
    {
      "cell_type": "code",
      "source": [
        "model_rf = RandomForestClassifier(class_weight='balanced', random_state=42)\n",
        "\n",
        "model_rf.fit(X_train_filtered, y_train_filtered)\n",
        "y_pred_rf = model_rf.predict(X_val)\n",
        "\n",
        "print(\"=== Random Forest (Balanced Class Weights) ===\")\n",
        "print(classification_report(y_val, y_pred_rf))"
      ],
      "metadata": {
        "colab": {
          "base_uri": "https://localhost:8080/"
        },
        "id": "LmgxCxz6lc7X",
        "outputId": "08bd24ed-9af2-4cb7-da3e-519614210233"
      },
      "id": "LmgxCxz6lc7X",
      "execution_count": null,
      "outputs": [
        {
          "output_type": "stream",
          "name": "stdout",
          "text": [
            "=== Random Forest (Balanced Class Weights) ===\n",
            "              precision    recall  f1-score   support\n",
            "\n",
            "       False       1.00      0.98      0.99   2090268\n",
            "        True       0.25      0.73      0.37     16840\n",
            "\n",
            "    accuracy                           0.98   2107108\n",
            "   macro avg       0.62      0.86      0.68   2107108\n",
            "weighted avg       0.99      0.98      0.98   2107108\n",
            "\n"
          ]
        }
      ]
    },
    {
      "cell_type": "code",
      "source": [
        "y_train_pred = model_rf.predict(X_train_filtered)\n",
        "\n",
        "print(\"=== Train Set ===\")\n",
        "print(classification_report(y_train_filtered, y_train_pred))\n",
        "\n",
        "print(\"\\n=== Validation Set ===\")\n",
        "print(classification_report(y_val, model_rf.predict(X_val)))\n"
      ],
      "metadata": {
        "colab": {
          "base_uri": "https://localhost:8080/"
        },
        "outputId": "6a87aaed-29e2-45ff-f641-5ab1ec638505",
        "id": "ouzXUYid2bjH"
      },
      "execution_count": null,
      "outputs": [
        {
          "output_type": "stream",
          "name": "stdout",
          "text": [
            "=== Train Set ===\n",
            "              precision    recall  f1-score   support\n",
            "\n",
            "       False       1.00      0.98      0.99   8237664\n",
            "        True       0.30      0.97      0.46     63085\n",
            "\n",
            "    accuracy                           0.98   8300749\n",
            "   macro avg       0.65      0.97      0.72   8300749\n",
            "weighted avg       0.99      0.98      0.99   8300749\n",
            "\n",
            "\n",
            "=== Validation Set ===\n",
            "              precision    recall  f1-score   support\n",
            "\n",
            "       False       1.00      0.98      0.99   2090268\n",
            "        True       0.25      0.73      0.37     16840\n",
            "\n",
            "    accuracy                           0.98   2107108\n",
            "   macro avg       0.62      0.86      0.68   2107108\n",
            "weighted avg       0.99      0.98      0.98   2107108\n",
            "\n"
          ]
        }
      ],
      "id": "ouzXUYid2bjH"
    },
    {
      "cell_type": "code",
      "source": [
        "models = {\n",
        "\n",
        "    'XGBoost': XGBClassifier(use_label_encoder=False, eval_metric='logloss', random_state=42),\n",
        "    'LightGBM': LGBMClassifier(random_state=42),\n",
        "    'LogisticRegression': LogisticRegression(max_iter=1000, random_state=42)\n",
        "}\n",
        "\n",
        "results = []\n",
        "\n",
        "for name, model in models.items():\n",
        "    print(f\"Training {name}...\")\n",
        "    model.fit(X_train_filtered, y_train_filtered)\n",
        "\n",
        "    y_val_pred = model.predict(X_val)\n",
        "\n",
        "    precision, recall, f1, _ = precision_recall_fscore_support(y_val, y_val_pred, pos_label=1, average='binary')\n",
        "\n",
        "    results.append({\n",
        "        'Model': name,\n",
        "        'Precision (True)': round(precision, 3),\n",
        "        'Recall (True)': round(recall, 3),\n",
        "        'F1-Score (True)': round(f1, 3)\n",
        "    })\n",
        "\n",
        "results_df = pd.DataFrame(results)\n",
        "print(results_df)"
      ],
      "metadata": {
        "colab": {
          "base_uri": "https://localhost:8080/"
        },
        "id": "ZsGZ8djv3sN7",
        "outputId": "8ff52acf-973b-405e-b323-3a766d4c92d6"
      },
      "id": "ZsGZ8djv3sN7",
      "execution_count": null,
      "outputs": [
        {
          "output_type": "stream",
          "name": "stdout",
          "text": [
            "Training XGBoost...\n"
          ]
        },
        {
          "output_type": "stream",
          "name": "stderr",
          "text": [
            "/usr/local/lib/python3.11/dist-packages/xgboost/core.py:158: UserWarning: [10:52:39] WARNING: /workspace/src/learner.cc:740: \n",
            "Parameters: { \"use_label_encoder\" } are not used.\n",
            "\n",
            "  warnings.warn(smsg, UserWarning)\n"
          ]
        },
        {
          "output_type": "stream",
          "name": "stdout",
          "text": [
            "Training LightGBM...\n",
            "[LightGBM] [Info] Number of positive: 63085, number of negative: 8237664\n",
            "[LightGBM] [Info] Auto-choosing col-wise multi-threading, the overhead of testing was 0.945959 seconds.\n",
            "You can set `force_col_wise=true` to remove the overhead.\n",
            "[LightGBM] [Info] Total Bins 760\n",
            "[LightGBM] [Info] Number of data points in the train set: 8300749, number of used features: 5\n",
            "[LightGBM] [Info] [binary:BoostFromScore]: pavg=0.007600 -> initscore=-4.871989\n",
            "[LightGBM] [Info] Start training from score -4.871989\n",
            "Training LogisticRegression...\n",
            "                Model  Precision (True)  Recall (True)  F1-Score (True)\n",
            "0             XGBoost             0.801          0.570            0.666\n",
            "1            LightGBM             0.767          0.570            0.654\n",
            "2  LogisticRegression             0.793          0.565            0.660\n"
          ]
        }
      ]
    },
    {
      "cell_type": "code",
      "source": [
        "pos_weight = (y_train_filtered == 0).sum() / (y_train_filtered == 1).sum()\n",
        "\n",
        "models = {\n",
        "\n",
        "    'XGBoost': XGBClassifier(use_label_encoder=False, eval_metric='logloss', scale_pos_weight=pos_weight, random_state=42),\n",
        "    'LightGBM': LGBMClassifier(class_weight='balanced', random_state=42),\n",
        "    'LogisticRegression': LogisticRegression(class_weight='balanced', max_iter=1000, random_state=42)\n",
        "}\n",
        "\n",
        "results = []\n",
        "\n",
        "for name, model in models.items():\n",
        "    print(f\"Training {name}...\")\n",
        "    model.fit(X_train_filtered, y_train_filtered)\n",
        "\n",
        "    y_val_pred = model.predict(X_val)\n",
        "\n",
        "    precision, recall, f1, _ = precision_recall_fscore_support(y_val, y_val_pred, pos_label=1, average='binary')\n",
        "\n",
        "    results.append({\n",
        "        'Model': name,\n",
        "        'Precision (True)': round(precision, 3),\n",
        "        'Recall (True)': round(recall, 3),\n",
        "        'F1-Score (True)': round(f1, 3)\n",
        "    })\n",
        "\n",
        "results_df = pd.DataFrame(results)\n",
        "print(results_df)"
      ],
      "metadata": {
        "colab": {
          "base_uri": "https://localhost:8080/"
        },
        "id": "qV2GHwYo3ksV",
        "outputId": "0e5bded3-8877-4615-9c68-cb436965f954"
      },
      "id": "qV2GHwYo3ksV",
      "execution_count": null,
      "outputs": [
        {
          "output_type": "stream",
          "name": "stdout",
          "text": [
            "Training XGBoost...\n"
          ]
        },
        {
          "output_type": "stream",
          "name": "stderr",
          "text": [
            "/usr/local/lib/python3.11/dist-packages/xgboost/core.py:158: UserWarning: [11:00:48] WARNING: /workspace/src/learner.cc:740: \n",
            "Parameters: { \"use_label_encoder\" } are not used.\n",
            "\n",
            "  warnings.warn(smsg, UserWarning)\n"
          ]
        },
        {
          "output_type": "stream",
          "name": "stdout",
          "text": [
            "Training LightGBM...\n",
            "[LightGBM] [Info] Number of positive: 63085, number of negative: 8237664\n",
            "[LightGBM] [Info] Auto-choosing col-wise multi-threading, the overhead of testing was 0.767554 seconds.\n",
            "You can set `force_col_wise=true` to remove the overhead.\n",
            "[LightGBM] [Info] Total Bins 760\n",
            "[LightGBM] [Info] Number of data points in the train set: 8300749, number of used features: 5\n",
            "[LightGBM] [Info] [binary:BoostFromScore]: pavg=0.500000 -> initscore=0.000000\n",
            "[LightGBM] [Info] Start training from score 0.000000\n",
            "Training LogisticRegression...\n",
            "                Model  Precision (True)  Recall (True)  F1-Score (True)\n",
            "0             XGBoost             0.133          0.943            0.234\n",
            "1            LightGBM             0.121          0.955            0.215\n",
            "2  LogisticRegression             0.108          0.957            0.194\n"
          ]
        }
      ]
    },
    {
      "cell_type": "code",
      "source": [
        "model_names = ['XGBoost', 'LightGBM', 'LogisticRegression']\n",
        "\n",
        "best_thresholds = []\n",
        "adjusted_results = []\n",
        "\n",
        "for name, model in models.items():\n",
        "    print(f\"Finding best threshold for {name}...\")\n",
        "\n",
        "    y_val_scores = model.predict_proba(X_val)[:, 1]\n",
        "\n",
        "    precisions, recalls, thresholds = precision_recall_curve(y_val, y_val_scores)\n",
        "\n",
        "    f1_scores = 2 * (precisions * recalls) / (precisions + recalls + 1e-8)\n",
        "\n",
        "    best_index = np.argmax(f1_scores)\n",
        "    best_threshold = thresholds[best_index]\n",
        "    best_f1 = f1_scores[best_index]\n",
        "\n",
        "    best_thresholds.append((name, best_threshold, best_f1))\n",
        "\n",
        "    y_val_pred_adjusted = (y_val_scores >= best_threshold).astype(int)\n",
        "\n",
        "    precision_new, recall_new, f1_new, _ = precision_recall_fscore_support(\n",
        "        y_val, y_val_pred_adjusted, pos_label=1, average='binary'\n",
        "    )\n",
        "\n",
        "    adjusted_results.append({\n",
        "        'Model': name,\n",
        "        'Best Threshold': round(best_threshold, 3),\n",
        "        'Precision (True)': round(precision_new, 3),\n",
        "        'Recall (True)': round(recall_new, 3),\n",
        "        'F1-Score (True)': round(f1_new, 3)\n",
        "    })\n",
        "\n",
        "adjusted_results_df = pd.DataFrame(adjusted_results)\n",
        "print(adjusted_results_df)"
      ],
      "metadata": {
        "colab": {
          "base_uri": "https://localhost:8080/"
        },
        "id": "yL4fs3KL5JFm",
        "outputId": "e721c25c-59b6-4293-ad6d-3d0a35622e32"
      },
      "id": "yL4fs3KL5JFm",
      "execution_count": null,
      "outputs": [
        {
          "output_type": "stream",
          "name": "stdout",
          "text": [
            "Finding best threshold for XGBoost...\n",
            "Finding best threshold for LightGBM...\n",
            "Finding best threshold for LogisticRegression...\n",
            "                Model  Best Threshold  Precision (True)  Recall (True)  \\\n",
            "0             XGBoost           0.986             0.734          0.621   \n",
            "1            LightGBM           0.982             0.689          0.654   \n",
            "2  LogisticRegression           0.995             0.689          0.582   \n",
            "\n",
            "   F1-Score (True)  \n",
            "0            0.673  \n",
            "1            0.671  \n",
            "2            0.631  \n"
          ]
        }
      ]
    },
    {
      "cell_type": "code",
      "source": [
        "smote = SMOTE(random_state=42)\n",
        "X_train_smote, y_train_smote = smote.fit_resample(X_train_filtered, y_train_filtered)\n",
        "\n",
        "print(f\"Original training size: {len(X_train_filtered)}\")\n",
        "print(f\"After SMOTE training size: {len(X_train_smote)}\")\n",
        "\n",
        "model_xgb_smote = XGBClassifier(\n",
        "    use_label_encoder=False,\n",
        "    eval_metric='logloss',\n",
        "    random_state=42\n",
        ")\n",
        "\n",
        "model_xgb_smote.fit(X_train_smote, y_train_smote)\n",
        "\n",
        "y_val_pred_smote = model_xgb_smote.predict(X_val)\n",
        "\n",
        "from sklearn.metrics import classification_report\n",
        "print(\"\\n=== XGBoost + SMOTE Validation Performance ===\")\n",
        "print(classification_report(y_val, y_val_pred_smote))\n"
      ],
      "metadata": {
        "colab": {
          "base_uri": "https://localhost:8080/"
        },
        "id": "No68R9_e8m9N",
        "outputId": "e871d0d2-88fb-4587-f0aa-e32ccb9be04d"
      },
      "id": "No68R9_e8m9N",
      "execution_count": null,
      "outputs": [
        {
          "output_type": "stream",
          "name": "stdout",
          "text": [
            "Original training size: 8300749\n",
            "After SMOTE training size: 16475328\n"
          ]
        },
        {
          "output_type": "stream",
          "name": "stderr",
          "text": [
            "/usr/local/lib/python3.11/dist-packages/xgboost/core.py:158: UserWarning: [11:12:28] WARNING: /workspace/src/learner.cc:740: \n",
            "Parameters: { \"use_label_encoder\" } are not used.\n",
            "\n",
            "  warnings.warn(smsg, UserWarning)\n"
          ]
        },
        {
          "output_type": "stream",
          "name": "stdout",
          "text": [
            "\n",
            "=== XGBoost + SMOTE Validation Performance ===\n",
            "              precision    recall  f1-score   support\n",
            "\n",
            "       False       1.00      0.96      0.98   2090268\n",
            "        True       0.15      0.93      0.25     16840\n",
            "\n",
            "    accuracy                           0.96   2107108\n",
            "   macro avg       0.57      0.94      0.62   2107108\n",
            "weighted avg       0.99      0.96      0.97   2107108\n",
            "\n"
          ]
        }
      ]
    },
    {
      "cell_type": "code",
      "source": [
        "y_val_scores_smote = model_xgb_smote.predict_proba(X_val)[:, 1]\n",
        "\n",
        "precisions, recalls, thresholds = precision_recall_curve(y_val, y_val_scores_smote)\n",
        "\n",
        "f1_scores = 2 * (precisions * recalls) / (precisions + recalls + 1e-8)\n",
        "\n",
        "best_idx = np.argmax(f1_scores)\n",
        "best_threshold_smote = thresholds[best_idx]\n",
        "best_f1_smote = f1_scores[best_idx]\n",
        "\n",
        "print(f\"Best threshold after SMOTE: {best_threshold_smote:.4f}\")\n",
        "print(f\"Best F1-score after SMOTE: {best_f1_smote:.4f}\")\n",
        "\n",
        "plt.figure(figsize=(8,6))\n",
        "plt.plot(thresholds, f1_scores[:-1], label='F1 Score')\n",
        "plt.axvline(x=best_threshold_smote, color='red', linestyle='--', label=f'Best Threshold = {best_threshold_smote:.2f}')\n",
        "plt.xlabel('Threshold')\n",
        "plt.ylabel('F1 Score')\n",
        "plt.title('F1 Score vs Threshold (After SMOTE)')\n",
        "plt.legend()\n",
        "plt.grid()\n",
        "plt.show()\n"
      ],
      "metadata": {
        "colab": {
          "base_uri": "https://localhost:8080/",
          "height": 600
        },
        "id": "cKtO3GTm9Uoe",
        "outputId": "acdb4c73-24ea-4d33-8f6a-277248699e67"
      },
      "id": "cKtO3GTm9Uoe",
      "execution_count": null,
      "outputs": [
        {
          "output_type": "stream",
          "name": "stdout",
          "text": [
            "Best threshold after SMOTE: 0.9798\n",
            "Best F1-score after SMOTE: 0.6699\n"
          ]
        },
        {
          "output_type": "display_data",
          "data": {
            "text/plain": [
              "<Figure size 800x600 with 1 Axes>"
            ],
            "image/png": "[encoded data removed]"
          },
          "metadata": {}
        }
      ]
    },
    {
      "cell_type": "markdown",
      "source": [
        "I explored multiple approaches to the task of scratch detection on semiconductor wafers.\n",
        "Initially trained different models — including Random Forest, XGBoost, LightGBM, and Logistic Regression — using engineered features such as normalized die positions and distance from wafer center.\n",
        "\n",
        "To address the significant class imbalance (few scratched dies compared to many good dies), I evaluated different strategies:\n",
        "\n",
        "Using class_weight='balanced',\n",
        "\n",
        "Applying SMOTE (Synthetic Minority Oversampling Technique) to synthetically balance the dataset,\n",
        "\n",
        "Fine-tuning the prediction threshold to maximize the F1-Score.\n",
        "\n",
        "After comprehensive experiments, I found that XGBoost trained without SMOTE, but using an optimized threshold (≈ 0.986), achieved the best trade-off between Precision and Recall.\n",
        "\n",
        "This model achieved a Precision of ~73%, a Recall of ~62%, and a F1-Score of ~0.67 on the validation set.\n",
        "\n",
        "Using SMOTE improved recall but significantly reduced precision, leading to too many false positives, which is undesirable in this business context where over-inking is costly.\n",
        "\n",
        "Given that precision is critical in scratch detection — to avoid unnecessary \"inking\" of good dies and minimize production costs — I decided to use the XGBoost model trained without SMOTE, combined with a best threshold of 0.986 for final predictions.\n",
        "\n",
        "This setup offers the best balance between catching true scratches and minimizing false alarms, aligning well with business goals."
      ],
      "metadata": {
        "id": "CrE36Mer--6h"
      },
      "id": "CrE36Mer--6h"
    },
    {
      "cell_type": "markdown",
      "id": "372dcdc2-054c-41e2-bb5f-99ad614e0e8c",
      "metadata": {
        "id": "372dcdc2-054c-41e2-bb5f-99ad614e0e8c"
      },
      "source": [
        "# Additional thoughts"
      ]
    },
    {
      "cell_type": "markdown",
      "id": "4ae9cb3a-41b5-4e2c-bee1-918bc8962a37",
      "metadata": {
        "id": "4ae9cb3a-41b5-4e2c-bee1-918bc8962a37"
      },
      "source": [
        "# **Deep Learning**"
      ]
    },
    {
      "cell_type": "code",
      "source": [
        "import torch\n",
        "import torch.nn as nn\n",
        "import torch.optim as optim\n",
        "import torchvision.models as models\n",
        "from torch.utils.data import Dataset, DataLoader\n",
        "import torch.nn.functional as F\n",
        "from tqdm import tqdm\n",
        "from sklearn.metrics import classification_report, precision_recall_fscore_support\n",
        "from sklearn.metrics import precision_recall_curve\n",
        "from datetime import datetime"
      ],
      "metadata": {
        "id": "m0S1jtlgCYjG"
      },
      "execution_count": null,
      "outputs": [],
      "id": "m0S1jtlgCYjG"
    },
    {
      "cell_type": "code",
      "source": [
        "class UNetResNet(nn.Module):\n",
        "    def __init__(self, encoder_name='resnet18', pretrained=True):\n",
        "        super(UNetResNet, self).__init__()\n",
        "\n",
        "        if encoder_name == 'resnet18':\n",
        "            self.encoder = models.resnet18(weights='IMAGENET1K_V1' if pretrained else None)\n",
        "            encoder_channels = [64, 64, 128, 256, 512]\n",
        "        elif encoder_name == 'resnet34':\n",
        "            self.encoder = models.resnet34(weights='IMAGENET1K_V1' if pretrained else None)\n",
        "            encoder_channels = [64, 64, 128, 256, 512]\n",
        "        else:\n",
        "            raise ValueError('Unsupported encoder')\n",
        "\n",
        "        self.base_layers = nn.Sequential(*list(self.encoder.children())[:-2])\n",
        "\n",
        "        self.up4 = self._up_block(encoder_channels[4], encoder_channels[3])\n",
        "        self.up3 = self._up_block(encoder_channels[3], encoder_channels[2])\n",
        "        self.up2 = self._up_block(encoder_channels[2], encoder_channels[1])\n",
        "        self.up1 = self._up_block(encoder_channels[1], encoder_channels[0])\n",
        "        self.up0 = self._up_block(encoder_channels[0], encoder_channels[0] // 2)\n",
        "\n",
        "        self.final_conv = nn.Conv2d(encoder_channels[0] // 2, 1, kernel_size=1)\n",
        "\n",
        "    def _up_block(self, in_channels, out_channels):\n",
        "        return nn.Sequential(\n",
        "            nn.Upsample(scale_factor=2, mode='bilinear', align_corners=True),\n",
        "            nn.Conv2d(in_channels, out_channels, kernel_size=3, padding=1),\n",
        "            nn.ReLU(inplace=True)\n",
        "        )\n",
        "\n",
        "    def forward(self, x):\n",
        "        x1 = self.encoder.relu(self.encoder.bn1(self.encoder.conv1(x)))\n",
        "        x1 = self.encoder.maxpool(x1)\n",
        "        x2 = self.encoder.layer1(x1)\n",
        "        x3 = self.encoder.layer2(x2)\n",
        "        x4 = self.encoder.layer3(x3)\n",
        "        x5 = self.encoder.layer4(x4)\n",
        "\n",
        "        d4 = self.up4(x5) + x4\n",
        "        d3 = self.up3(d4) + x3\n",
        "        d2 = self.up2(d3) + x2\n",
        "        d1 = self.up1(d2)\n",
        "        d0 = self.up0(d1)\n",
        "\n",
        "        out = self.final_conv(d0)\n",
        "        out = torch.sigmoid(out)\n",
        "        return out\n",
        "\n",
        "\n",
        "def dice_loss(pred, target, smooth=1.):\n",
        "    pred = pred.contiguous()\n",
        "    target = target.contiguous()\n",
        "    intersection = (pred * target).sum(dim=(2,3))\n",
        "    loss = 1 - ((2. * intersection + smooth) /\n",
        "                (pred.sum(dim=(2,3)) + target.sum(dim=(2,3)) + smooth))\n",
        "    return loss.mean()\n",
        "\n",
        "class BCEDiceLoss(nn.Module):\n",
        "    def __init__(self):\n",
        "        super(BCEDiceLoss, self).__init__()\n",
        "        self.bce = nn.BCELoss()\n",
        "\n",
        "    def forward(self, pred, target):\n",
        "        bce = self.bce(pred, target)\n",
        "        dice = dice_loss(pred, target)\n",
        "        return bce + dice\n",
        "\n",
        "\n",
        "class WaferRawDataset(Dataset):\n",
        "    def __init__(self, wafer_groups, output_size=(64, 64)):\n",
        "        self.wafer_names = list(wafer_groups.keys())\n",
        "        self.wafer_groups = wafer_groups\n",
        "        self.output_size = output_size\n",
        "\n",
        "    def __len__(self):\n",
        "        return len(self.wafer_names)\n",
        "\n",
        "    def __getitem__(self, idx):\n",
        "        wafer_name = self.wafer_names[idx]\n",
        "        wafer_df = self.wafer_groups[wafer_name]\n",
        "\n",
        "        wafer_map = self.create_raw_wafer(wafer_df)\n",
        "        target_map = self.create_target_wafer(wafer_df)\n",
        "\n",
        "        return wafer_map, target_map\n",
        "\n",
        "    def create_raw_wafer(self, df):\n",
        "        x = df['DieX'].values\n",
        "        y = df['DieY'].values\n",
        "        is_good = df['IsGoodDie'].astype(np.float32).values\n",
        "\n",
        "        xmin, xmax = x.min(), x.max()\n",
        "        ymin, ymax = y.min(), y.max()\n",
        "\n",
        "        grid_width = xmax - xmin + 1\n",
        "        grid_height = ymax - ymin + 1\n",
        "\n",
        "        grid_x = np.ones((grid_height, grid_width)) * -1\n",
        "        grid_y = np.ones((grid_height, grid_width)) * -1\n",
        "        grid_is_good = np.ones((grid_height, grid_width)) * -1\n",
        "\n",
        "        for i in range(len(df)):\n",
        "            xi = x[i] - xmin\n",
        "            yi = y[i] - ymin\n",
        "            grid_x[yi, xi] = x[i]\n",
        "            grid_y[yi, xi] = y[i]\n",
        "            grid_is_good[yi, xi] = is_good[i]\n",
        "\n",
        "        wafer = np.stack([grid_x, grid_y, grid_is_good], axis=0)\n",
        "\n",
        "        wafer[0] = (wafer[0] - wafer[0].min()) / (wafer[0].max() - wafer[0].min() + 1e-8)\n",
        "        wafer[1] = (wafer[1] - wafer[1].min()) / (wafer[1].max() - wafer[1].min() + 1e-8)\n",
        "\n",
        "        wafer = torch.tensor(wafer, dtype=torch.float32)\n",
        "        wafer = F.interpolate(wafer.unsqueeze(0), size=self.output_size, mode='bilinear', align_corners=True).squeeze(0)\n",
        "        return wafer\n",
        "\n",
        "    def create_target_wafer(self, df):\n",
        "        x = df['DieX'].values\n",
        "        y = df['DieY'].values\n",
        "        is_scratch = df['IsScratchDie'].astype(np.float32).values\n",
        "\n",
        "        xmin, xmax = x.min(), x.max()\n",
        "        ymin, ymax = y.min(), y.max()\n",
        "\n",
        "        grid_width = xmax - xmin + 1\n",
        "        grid_height = ymax - ymin + 1\n",
        "\n",
        "        grid_label = np.zeros((grid_height, grid_width))\n",
        "\n",
        "        for i in range(len(df)):\n",
        "            xi = x[i] - xmin\n",
        "            yi = y[i] - ymin\n",
        "            grid_label[yi, xi] = is_scratch[i]\n",
        "\n",
        "        label = torch.tensor(grid_label, dtype=torch.float32).unsqueeze(0)\n",
        "        label = F.interpolate(label.unsqueeze(0), size=self.output_size, mode='nearest').squeeze(0)\n",
        "        return label\n",
        "\n",
        "\n",
        "def train_unet(model, train_loader, val_loader, criterion, optimizer, n_epochs=30, patience=5, device='cuda'):\n",
        "    best_val_loss = float('inf')\n",
        "    patience_counter = 0\n",
        "\n",
        "    for epoch in range(1, n_epochs+1):\n",
        "        model.train()\n",
        "        train_losses = []\n",
        "        for xb, yb in tqdm(train_loader, desc=f\"Epoch {epoch} [Train]\", leave=False):\n",
        "            xb, yb = xb.to(device), yb.to(device)\n",
        "\n",
        "            optimizer.zero_grad()\n",
        "            preds = model(xb)\n",
        "            loss = criterion(preds, yb)\n",
        "            loss.backward()\n",
        "            optimizer.step()\n",
        "\n",
        "            train_losses.append(loss.item())\n",
        "\n",
        "        model.eval()\n",
        "        val_losses = []\n",
        "        with torch.no_grad():\n",
        "            for xb, yb in tqdm(val_loader, desc=f\"Epoch {epoch} [Val]\", leave=False):\n",
        "                xb, yb = xb.to(device), yb.to(device)\n",
        "                preds = model(xb)\n",
        "                loss = criterion(preds, yb)\n",
        "                val_losses.append(loss.item())\n",
        "\n",
        "        avg_train_loss = np.mean(train_losses)\n",
        "        avg_val_loss = np.mean(val_losses)\n",
        "\n",
        "        print(f\"Epoch {epoch} | Train Loss: {avg_train_loss:.4f} | Val Loss: {avg_val_loss:.4f}\")\n",
        "\n",
        "        if avg_val_loss < best_val_loss:\n",
        "            best_val_loss = avg_val_loss\n",
        "            patience_counter = 0\n",
        "            torch.save(model.state_dict(), 'best_unet_model.pth')\n",
        "            print(\"✅ Best model saved.\")\n",
        "        else:\n",
        "            patience_counter += 1\n",
        "            if patience_counter >= patience:\n",
        "                print(\"⏹ Early stopping triggered.\")\n",
        "                break\n",
        "\n",
        "    print(\"✅ Training complete!\")\n"
      ],
      "metadata": {
        "id": "jmmmwIrYC_Cw"
      },
      "execution_count": null,
      "outputs": [],
      "id": "jmmmwIrYC_Cw"
    },
    {
      "cell_type": "code",
      "source": [
        "device = 'cuda' if torch.cuda.is_available() else 'cpu'\n",
        "\n",
        "model = UNetResNet(encoder_name='resnet18', pretrained=True).to(device)\n",
        "criterion = BCEDiceLoss()\n",
        "optimizer = torch.optim.Adam(model.parameters(), lr=1e-4)\n",
        "\n",
        "train_wafer_groups = {wafer_name: wafer_df for wafer_name, wafer_df in df_wafers.groupby('WaferName')}\n",
        "val_wafer_groups = {wafer_name: wafer_df for wafer_name, wafer_df in df_val.groupby('WaferName')}\n",
        "\n",
        "\n",
        "train_dataset = WaferRawDataset(train_wafer_groups)\n",
        "val_dataset = WaferRawDataset(val_wafer_groups)\n",
        "\n",
        "train_loader = DataLoader(train_dataset, batch_size=16, shuffle=True)\n",
        "val_loader = DataLoader(val_dataset, batch_size=16, shuffle=False)\n",
        "\n",
        "train_unet(model, train_loader, val_loader, criterion, optimizer, n_epochs=100, patience=7, device=device)"
      ],
      "metadata": {
        "colab": {
          "base_uri": "https://localhost:8080/"
        },
        "id": "Qg2w-2WYwf4I",
        "outputId": "3c321dd1-4283-4ca9-fb41-c0c8644599f6"
      },
      "id": "Qg2w-2WYwf4I",
      "execution_count": null,
      "outputs": [
        {
          "output_type": "stream",
          "name": "stderr",
          "text": []
        },
        {
          "output_type": "stream",
          "name": "stdout",
          "text": [
            "Epoch 1 | Train Loss: 0.9034 | Val Loss: 0.7209\n",
            "✅ Best model saved.\n"
          ]
        },
        {
          "output_type": "stream",
          "name": "stderr",
          "text": []
        },
        {
          "output_type": "stream",
          "name": "stdout",
          "text": [
            "Epoch 2 | Train Loss: 0.6574 | Val Loss: 0.6173\n",
            "✅ Best model saved.\n"
          ]
        },
        {
          "output_type": "stream",
          "name": "stderr",
          "text": []
        },
        {
          "output_type": "stream",
          "name": "stdout",
          "text": [
            "Epoch 3 | Train Loss: 0.5867 | Val Loss: 0.5632\n",
            "✅ Best model saved.\n"
          ]
        },
        {
          "output_type": "stream",
          "name": "stderr",
          "text": []
        },
        {
          "output_type": "stream",
          "name": "stdout",
          "text": [
            "Epoch 4 | Train Loss: 0.5563 | Val Loss: 0.5400\n",
            "✅ Best model saved.\n"
          ]
        },
        {
          "output_type": "stream",
          "name": "stderr",
          "text": []
        },
        {
          "output_type": "stream",
          "name": "stdout",
          "text": [
            "Epoch 5 | Train Loss: 0.5731 | Val Loss: 0.5598\n"
          ]
        },
        {
          "output_type": "stream",
          "name": "stderr",
          "text": []
        },
        {
          "output_type": "stream",
          "name": "stdout",
          "text": [
            "Epoch 6 | Train Loss: 0.5316 | Val Loss: 0.5191\n",
            "✅ Best model saved.\n"
          ]
        },
        {
          "output_type": "stream",
          "name": "stderr",
          "text": []
        },
        {
          "output_type": "stream",
          "name": "stdout",
          "text": [
            "Epoch 7 | Train Loss: 0.4966 | Val Loss: 0.4900\n",
            "✅ Best model saved.\n"
          ]
        },
        {
          "output_type": "stream",
          "name": "stderr",
          "text": []
        },
        {
          "output_type": "stream",
          "name": "stdout",
          "text": [
            "Epoch 8 | Train Loss: 0.4864 | Val Loss: 0.4761\n",
            "✅ Best model saved.\n"
          ]
        },
        {
          "output_type": "stream",
          "name": "stderr",
          "text": []
        },
        {
          "output_type": "stream",
          "name": "stdout",
          "text": [
            "Epoch 9 | Train Loss: 0.4717 | Val Loss: 0.4669\n",
            "✅ Best model saved.\n"
          ]
        },
        {
          "output_type": "stream",
          "name": "stderr",
          "text": []
        },
        {
          "output_type": "stream",
          "name": "stdout",
          "text": [
            "Epoch 10 | Train Loss: 0.4655 | Val Loss: 0.4598\n",
            "✅ Best model saved.\n"
          ]
        },
        {
          "output_type": "stream",
          "name": "stderr",
          "text": []
        },
        {
          "output_type": "stream",
          "name": "stdout",
          "text": [
            "Epoch 11 | Train Loss: 0.4532 | Val Loss: 0.4454\n",
            "✅ Best model saved.\n"
          ]
        },
        {
          "output_type": "stream",
          "name": "stderr",
          "text": []
        },
        {
          "output_type": "stream",
          "name": "stdout",
          "text": [
            "Epoch 12 | Train Loss: 0.4442 | Val Loss: 0.4400\n",
            "✅ Best model saved.\n"
          ]
        },
        {
          "output_type": "stream",
          "name": "stderr",
          "text": []
        },
        {
          "output_type": "stream",
          "name": "stdout",
          "text": [
            "Epoch 13 | Train Loss: 0.4370 | Val Loss: 0.4432\n"
          ]
        },
        {
          "output_type": "stream",
          "name": "stderr",
          "text": []
        },
        {
          "output_type": "stream",
          "name": "stdout",
          "text": [
            "Epoch 14 | Train Loss: 0.4327 | Val Loss: 0.4304\n",
            "✅ Best model saved.\n"
          ]
        },
        {
          "output_type": "stream",
          "name": "stderr",
          "text": []
        },
        {
          "output_type": "stream",
          "name": "stdout",
          "text": [
            "Epoch 15 | Train Loss: 0.4238 | Val Loss: 0.4204\n",
            "✅ Best model saved.\n"
          ]
        },
        {
          "output_type": "stream",
          "name": "stderr",
          "text": []
        },
        {
          "output_type": "stream",
          "name": "stdout",
          "text": [
            "Epoch 16 | Train Loss: 0.4172 | Val Loss: 0.4078\n",
            "✅ Best model saved.\n"
          ]
        },
        {
          "output_type": "stream",
          "name": "stderr",
          "text": []
        },
        {
          "output_type": "stream",
          "name": "stdout",
          "text": [
            "Epoch 17 | Train Loss: 0.4077 | Val Loss: 0.4020\n",
            "✅ Best model saved.\n"
          ]
        },
        {
          "output_type": "stream",
          "name": "stderr",
          "text": []
        },
        {
          "output_type": "stream",
          "name": "stdout",
          "text": [
            "Epoch 18 | Train Loss: 0.4117 | Val Loss: 0.3952\n",
            "✅ Best model saved.\n"
          ]
        },
        {
          "output_type": "stream",
          "name": "stderr",
          "text": []
        },
        {
          "output_type": "stream",
          "name": "stdout",
          "text": [
            "Epoch 19 | Train Loss: 0.4012 | Val Loss: 0.3912\n",
            "✅ Best model saved.\n"
          ]
        },
        {
          "output_type": "stream",
          "name": "stderr",
          "text": []
        },
        {
          "output_type": "stream",
          "name": "stdout",
          "text": [
            "Epoch 20 | Train Loss: 0.3937 | Val Loss: 0.3888\n",
            "✅ Best model saved.\n"
          ]
        },
        {
          "output_type": "stream",
          "name": "stderr",
          "text": []
        },
        {
          "output_type": "stream",
          "name": "stdout",
          "text": [
            "Epoch 21 | Train Loss: 0.4078 | Val Loss: 0.3871\n",
            "✅ Best model saved.\n"
          ]
        },
        {
          "output_type": "stream",
          "name": "stderr",
          "text": []
        },
        {
          "output_type": "stream",
          "name": "stdout",
          "text": [
            "Epoch 22 | Train Loss: 0.3902 | Val Loss: 0.3866\n",
            "✅ Best model saved.\n"
          ]
        },
        {
          "output_type": "stream",
          "name": "stderr",
          "text": []
        },
        {
          "output_type": "stream",
          "name": "stdout",
          "text": [
            "Epoch 23 | Train Loss: 0.3816 | Val Loss: 0.3742\n",
            "✅ Best model saved.\n"
          ]
        },
        {
          "output_type": "stream",
          "name": "stderr",
          "text": []
        },
        {
          "output_type": "stream",
          "name": "stdout",
          "text": [
            "Epoch 24 | Train Loss: 0.3798 | Val Loss: 0.3704\n",
            "✅ Best model saved.\n"
          ]
        },
        {
          "output_type": "stream",
          "name": "stderr",
          "text": []
        },
        {
          "output_type": "stream",
          "name": "stdout",
          "text": [
            "Epoch 25 | Train Loss: 0.3733 | Val Loss: 0.3655\n",
            "✅ Best model saved.\n"
          ]
        },
        {
          "output_type": "stream",
          "name": "stderr",
          "text": []
        },
        {
          "output_type": "stream",
          "name": "stdout",
          "text": [
            "Epoch 26 | Train Loss: 0.3744 | Val Loss: 0.3671\n"
          ]
        },
        {
          "output_type": "stream",
          "name": "stderr",
          "text": []
        },
        {
          "output_type": "stream",
          "name": "stdout",
          "text": [
            "Epoch 27 | Train Loss: 0.3697 | Val Loss: 0.3606\n",
            "✅ Best model saved.\n"
          ]
        },
        {
          "output_type": "stream",
          "name": "stderr",
          "text": []
        },
        {
          "output_type": "stream",
          "name": "stdout",
          "text": [
            "Epoch 28 | Train Loss: 0.3662 | Val Loss: 0.3578\n",
            "✅ Best model saved.\n"
          ]
        },
        {
          "output_type": "stream",
          "name": "stderr",
          "text": []
        },
        {
          "output_type": "stream",
          "name": "stdout",
          "text": [
            "Epoch 29 | Train Loss: 0.3619 | Val Loss: 0.3482\n",
            "✅ Best model saved.\n"
          ]
        },
        {
          "output_type": "stream",
          "name": "stderr",
          "text": []
        },
        {
          "output_type": "stream",
          "name": "stdout",
          "text": [
            "Epoch 30 | Train Loss: 0.3572 | Val Loss: 0.3510\n"
          ]
        },
        {
          "output_type": "stream",
          "name": "stderr",
          "text": []
        },
        {
          "output_type": "stream",
          "name": "stdout",
          "text": [
            "Epoch 31 | Train Loss: 0.3587 | Val Loss: 0.3529\n"
          ]
        },
        {
          "output_type": "stream",
          "name": "stderr",
          "text": []
        },
        {
          "output_type": "stream",
          "name": "stdout",
          "text": [
            "Epoch 32 | Train Loss: 0.3570 | Val Loss: 0.3606\n"
          ]
        },
        {
          "output_type": "stream",
          "name": "stderr",
          "text": []
        },
        {
          "output_type": "stream",
          "name": "stdout",
          "text": [
            "Epoch 33 | Train Loss: 0.3616 | Val Loss: 0.3493\n"
          ]
        },
        {
          "output_type": "stream",
          "name": "stderr",
          "text": []
        },
        {
          "output_type": "stream",
          "name": "stdout",
          "text": [
            "Epoch 34 | Train Loss: 0.3537 | Val Loss: 0.3423\n",
            "✅ Best model saved.\n"
          ]
        },
        {
          "output_type": "stream",
          "name": "stderr",
          "text": []
        },
        {
          "output_type": "stream",
          "name": "stdout",
          "text": [
            "Epoch 35 | Train Loss: 0.3487 | Val Loss: 0.3447\n"
          ]
        },
        {
          "output_type": "stream",
          "name": "stderr",
          "text": []
        },
        {
          "output_type": "stream",
          "name": "stdout",
          "text": [
            "Epoch 36 | Train Loss: 0.3507 | Val Loss: 0.3375\n",
            "✅ Best model saved.\n"
          ]
        },
        {
          "output_type": "stream",
          "name": "stderr",
          "text": []
        },
        {
          "output_type": "stream",
          "name": "stdout",
          "text": [
            "Epoch 37 | Train Loss: 0.3445 | Val Loss: 0.3397\n"
          ]
        },
        {
          "output_type": "stream",
          "name": "stderr",
          "text": []
        },
        {
          "output_type": "stream",
          "name": "stdout",
          "text": [
            "Epoch 38 | Train Loss: 0.3407 | Val Loss: 0.3430\n"
          ]
        },
        {
          "output_type": "stream",
          "name": "stderr",
          "text": []
        },
        {
          "output_type": "stream",
          "name": "stdout",
          "text": [
            "Epoch 39 | Train Loss: 0.3409 | Val Loss: 0.3321\n",
            "✅ Best model saved.\n"
          ]
        },
        {
          "output_type": "stream",
          "name": "stderr",
          "text": []
        },
        {
          "output_type": "stream",
          "name": "stdout",
          "text": [
            "Epoch 40 | Train Loss: 0.3439 | Val Loss: 0.3453\n"
          ]
        },
        {
          "output_type": "stream",
          "name": "stderr",
          "text": []
        },
        {
          "output_type": "stream",
          "name": "stdout",
          "text": [
            "Epoch 41 | Train Loss: 0.3412 | Val Loss: 0.3320\n",
            "✅ Best model saved.\n"
          ]
        },
        {
          "output_type": "stream",
          "name": "stderr",
          "text": []
        },
        {
          "output_type": "stream",
          "name": "stdout",
          "text": [
            "Epoch 42 | Train Loss: 0.3372 | Val Loss: 0.3258\n",
            "✅ Best model saved.\n"
          ]
        },
        {
          "output_type": "stream",
          "name": "stderr",
          "text": []
        },
        {
          "output_type": "stream",
          "name": "stdout",
          "text": [
            "Epoch 43 | Train Loss: 0.3373 | Val Loss: 0.3290\n"
          ]
        },
        {
          "output_type": "stream",
          "name": "stderr",
          "text": []
        },
        {
          "output_type": "stream",
          "name": "stdout",
          "text": [
            "Epoch 44 | Train Loss: 0.3337 | Val Loss: 0.3286\n"
          ]
        },
        {
          "output_type": "stream",
          "name": "stderr",
          "text": []
        },
        {
          "output_type": "stream",
          "name": "stdout",
          "text": [
            "Epoch 45 | Train Loss: 0.3316 | Val Loss: 0.3541\n"
          ]
        },
        {
          "output_type": "stream",
          "name": "stderr",
          "text": []
        },
        {
          "output_type": "stream",
          "name": "stdout",
          "text": [
            "Epoch 46 | Train Loss: 0.3421 | Val Loss: 0.3257\n",
            "✅ Best model saved.\n"
          ]
        },
        {
          "output_type": "stream",
          "name": "stderr",
          "text": []
        },
        {
          "output_type": "stream",
          "name": "stdout",
          "text": [
            "Epoch 47 | Train Loss: 0.3350 | Val Loss: 0.3292\n"
          ]
        },
        {
          "output_type": "stream",
          "name": "stderr",
          "text": []
        },
        {
          "output_type": "stream",
          "name": "stdout",
          "text": [
            "Epoch 48 | Train Loss: 0.3276 | Val Loss: 0.3184\n",
            "✅ Best model saved.\n"
          ]
        },
        {
          "output_type": "stream",
          "name": "stderr",
          "text": []
        },
        {
          "output_type": "stream",
          "name": "stdout",
          "text": [
            "Epoch 49 | Train Loss: 0.3264 | Val Loss: 0.3156\n",
            "✅ Best model saved.\n"
          ]
        },
        {
          "output_type": "stream",
          "name": "stderr",
          "text": []
        },
        {
          "output_type": "stream",
          "name": "stdout",
          "text": [
            "Epoch 50 | Train Loss: 0.3243 | Val Loss: 0.3201\n"
          ]
        },
        {
          "output_type": "stream",
          "name": "stderr",
          "text": []
        },
        {
          "output_type": "stream",
          "name": "stdout",
          "text": [
            "Epoch 51 | Train Loss: 0.3245 | Val Loss: 0.3159\n"
          ]
        },
        {
          "output_type": "stream",
          "name": "stderr",
          "text": []
        },
        {
          "output_type": "stream",
          "name": "stdout",
          "text": [
            "Epoch 52 | Train Loss: 0.3222 | Val Loss: 0.3247\n"
          ]
        },
        {
          "output_type": "stream",
          "name": "stderr",
          "text": []
        },
        {
          "output_type": "stream",
          "name": "stdout",
          "text": [
            "Epoch 53 | Train Loss: 0.3350 | Val Loss: 0.3355\n"
          ]
        },
        {
          "output_type": "stream",
          "name": "stderr",
          "text": []
        },
        {
          "output_type": "stream",
          "name": "stdout",
          "text": [
            "Epoch 54 | Train Loss: 0.3261 | Val Loss: 0.3250\n"
          ]
        },
        {
          "output_type": "stream",
          "name": "stderr",
          "text": []
        },
        {
          "output_type": "stream",
          "name": "stdout",
          "text": [
            "Epoch 55 | Train Loss: 0.3240 | Val Loss: 0.3179\n"
          ]
        },
        {
          "output_type": "stream",
          "name": "stderr",
          "text": []
        },
        {
          "output_type": "stream",
          "name": "stdout",
          "text": [
            "Epoch 56 | Train Loss: 0.3197 | Val Loss: 0.3128\n",
            "✅ Best model saved.\n"
          ]
        },
        {
          "output_type": "stream",
          "name": "stderr",
          "text": []
        },
        {
          "output_type": "stream",
          "name": "stdout",
          "text": [
            "Epoch 57 | Train Loss: 0.3204 | Val Loss: 0.3161\n"
          ]
        },
        {
          "output_type": "stream",
          "name": "stderr",
          "text": []
        },
        {
          "output_type": "stream",
          "name": "stdout",
          "text": [
            "Epoch 58 | Train Loss: 0.3167 | Val Loss: 0.3092\n",
            "✅ Best model saved.\n"
          ]
        },
        {
          "output_type": "stream",
          "name": "stderr",
          "text": []
        },
        {
          "output_type": "stream",
          "name": "stdout",
          "text": [
            "Epoch 59 | Train Loss: 0.3158 | Val Loss: 0.3165\n"
          ]
        },
        {
          "output_type": "stream",
          "name": "stderr",
          "text": []
        },
        {
          "output_type": "stream",
          "name": "stdout",
          "text": [
            "Epoch 60 | Train Loss: 0.3192 | Val Loss: 0.3084\n",
            "✅ Best model saved.\n"
          ]
        },
        {
          "output_type": "stream",
          "name": "stderr",
          "text": []
        },
        {
          "output_type": "stream",
          "name": "stdout",
          "text": [
            "Epoch 61 | Train Loss: 0.3142 | Val Loss: 0.3081\n",
            "✅ Best model saved.\n"
          ]
        },
        {
          "output_type": "stream",
          "name": "stderr",
          "text": []
        },
        {
          "output_type": "stream",
          "name": "stdout",
          "text": [
            "Epoch 62 | Train Loss: 0.3145 | Val Loss: 0.3148\n"
          ]
        },
        {
          "output_type": "stream",
          "name": "stderr",
          "text": []
        },
        {
          "output_type": "stream",
          "name": "stdout",
          "text": [
            "Epoch 63 | Train Loss: 0.3158 | Val Loss: 0.3032\n",
            "✅ Best model saved.\n"
          ]
        },
        {
          "output_type": "stream",
          "name": "stderr",
          "text": []
        },
        {
          "output_type": "stream",
          "name": "stdout",
          "text": [
            "Epoch 64 | Train Loss: 0.3114 | Val Loss: 0.3101\n"
          ]
        },
        {
          "output_type": "stream",
          "name": "stderr",
          "text": []
        },
        {
          "output_type": "stream",
          "name": "stdout",
          "text": [
            "Epoch 65 | Train Loss: 0.3129 | Val Loss: 0.3125\n"
          ]
        },
        {
          "output_type": "stream",
          "name": "stderr",
          "text": []
        },
        {
          "output_type": "stream",
          "name": "stdout",
          "text": [
            "Epoch 66 | Train Loss: 0.3116 | Val Loss: 0.3122\n"
          ]
        },
        {
          "output_type": "stream",
          "name": "stderr",
          "text": []
        },
        {
          "output_type": "stream",
          "name": "stdout",
          "text": [
            "Epoch 67 | Train Loss: 0.3140 | Val Loss: 0.3087\n"
          ]
        },
        {
          "output_type": "stream",
          "name": "stderr",
          "text": []
        },
        {
          "output_type": "stream",
          "name": "stdout",
          "text": [
            "Epoch 68 | Train Loss: 0.3104 | Val Loss: 0.3064\n"
          ]
        },
        {
          "output_type": "stream",
          "name": "stderr",
          "text": []
        },
        {
          "output_type": "stream",
          "name": "stdout",
          "text": [
            "Epoch 69 | Train Loss: 0.3096 | Val Loss: 0.3018\n",
            "✅ Best model saved.\n"
          ]
        },
        {
          "output_type": "stream",
          "name": "stderr",
          "text": []
        },
        {
          "output_type": "stream",
          "name": "stdout",
          "text": [
            "Epoch 70 | Train Loss: 0.3079 | Val Loss: 0.3002\n",
            "✅ Best model saved.\n"
          ]
        },
        {
          "output_type": "stream",
          "name": "stderr",
          "text": []
        },
        {
          "output_type": "stream",
          "name": "stdout",
          "text": [
            "Epoch 71 | Train Loss: 0.3063 | Val Loss: 0.3051\n"
          ]
        },
        {
          "output_type": "stream",
          "name": "stderr",
          "text": []
        },
        {
          "output_type": "stream",
          "name": "stdout",
          "text": [
            "Epoch 72 | Train Loss: 0.3070 | Val Loss: 0.2986\n",
            "✅ Best model saved.\n"
          ]
        },
        {
          "output_type": "stream",
          "name": "stderr",
          "text": []
        },
        {
          "output_type": "stream",
          "name": "stdout",
          "text": [
            "Epoch 73 | Train Loss: 0.3067 | Val Loss: 0.3037\n"
          ]
        },
        {
          "output_type": "stream",
          "name": "stderr",
          "text": []
        },
        {
          "output_type": "stream",
          "name": "stdout",
          "text": [
            "Epoch 74 | Train Loss: 0.3045 | Val Loss: 0.3013\n"
          ]
        },
        {
          "output_type": "stream",
          "name": "stderr",
          "text": []
        },
        {
          "output_type": "stream",
          "name": "stdout",
          "text": [
            "Epoch 75 | Train Loss: 0.3056 | Val Loss: 0.2963\n",
            "✅ Best model saved.\n"
          ]
        },
        {
          "output_type": "stream",
          "name": "stderr",
          "text": []
        },
        {
          "output_type": "stream",
          "name": "stdout",
          "text": [
            "Epoch 76 | Train Loss: 0.3068 | Val Loss: 0.3014\n"
          ]
        },
        {
          "output_type": "stream",
          "name": "stderr",
          "text": []
        },
        {
          "output_type": "stream",
          "name": "stdout",
          "text": [
            "Epoch 77 | Train Loss: 0.3045 | Val Loss: 0.2943\n",
            "✅ Best model saved.\n"
          ]
        },
        {
          "output_type": "stream",
          "name": "stderr",
          "text": []
        },
        {
          "output_type": "stream",
          "name": "stdout",
          "text": [
            "Epoch 78 | Train Loss: 0.3024 | Val Loss: 0.2956\n"
          ]
        },
        {
          "output_type": "stream",
          "name": "stderr",
          "text": []
        },
        {
          "output_type": "stream",
          "name": "stdout",
          "text": [
            "Epoch 79 | Train Loss: 0.3010 | Val Loss: 0.2918\n",
            "✅ Best model saved.\n"
          ]
        },
        {
          "output_type": "stream",
          "name": "stderr",
          "text": []
        },
        {
          "output_type": "stream",
          "name": "stdout",
          "text": [
            "Epoch 80 | Train Loss: 0.3052 | Val Loss: 0.2945\n"
          ]
        },
        {
          "output_type": "stream",
          "name": "stderr",
          "text": []
        },
        {
          "output_type": "stream",
          "name": "stdout",
          "text": [
            "Epoch 81 | Train Loss: 0.3406 | Val Loss: 0.3482\n"
          ]
        },
        {
          "output_type": "stream",
          "name": "stderr",
          "text": []
        },
        {
          "output_type": "stream",
          "name": "stdout",
          "text": [
            "Epoch 82 | Train Loss: 0.3130 | Val Loss: 0.2952\n"
          ]
        },
        {
          "output_type": "stream",
          "name": "stderr",
          "text": []
        },
        {
          "output_type": "stream",
          "name": "stdout",
          "text": [
            "Epoch 83 | Train Loss: 0.2987 | Val Loss: 0.2868\n",
            "✅ Best model saved.\n"
          ]
        },
        {
          "output_type": "stream",
          "name": "stderr",
          "text": []
        },
        {
          "output_type": "stream",
          "name": "stdout",
          "text": [
            "Epoch 84 | Train Loss: 0.2942 | Val Loss: 0.2875\n"
          ]
        },
        {
          "output_type": "stream",
          "name": "stderr",
          "text": []
        },
        {
          "output_type": "stream",
          "name": "stdout",
          "text": [
            "Epoch 85 | Train Loss: 0.2937 | Val Loss: 0.2986\n"
          ]
        },
        {
          "output_type": "stream",
          "name": "stderr",
          "text": []
        },
        {
          "output_type": "stream",
          "name": "stdout",
          "text": [
            "Epoch 86 | Train Loss: 0.2931 | Val Loss: 0.2857\n",
            "✅ Best model saved.\n"
          ]
        },
        {
          "output_type": "stream",
          "name": "stderr",
          "text": []
        },
        {
          "output_type": "stream",
          "name": "stdout",
          "text": [
            "Epoch 87 | Train Loss: 0.2947 | Val Loss: 0.2910\n"
          ]
        },
        {
          "output_type": "stream",
          "name": "stderr",
          "text": []
        },
        {
          "output_type": "stream",
          "name": "stdout",
          "text": [
            "Epoch 88 | Train Loss: 0.2939 | Val Loss: 0.2871\n"
          ]
        },
        {
          "output_type": "stream",
          "name": "stderr",
          "text": []
        },
        {
          "output_type": "stream",
          "name": "stdout",
          "text": [
            "Epoch 89 | Train Loss: 0.2943 | Val Loss: 0.2889\n"
          ]
        },
        {
          "output_type": "stream",
          "name": "stderr",
          "text": []
        },
        {
          "output_type": "stream",
          "name": "stdout",
          "text": [
            "Epoch 90 | Train Loss: 0.2931 | Val Loss: 0.2870\n"
          ]
        },
        {
          "output_type": "stream",
          "name": "stderr",
          "text": []
        },
        {
          "output_type": "stream",
          "name": "stdout",
          "text": [
            "Epoch 91 | Train Loss: 0.2932 | Val Loss: 0.2853\n",
            "✅ Best model saved.\n"
          ]
        },
        {
          "output_type": "stream",
          "name": "stderr",
          "text": []
        },
        {
          "output_type": "stream",
          "name": "stdout",
          "text": [
            "Epoch 92 | Train Loss: 0.2934 | Val Loss: 0.2965\n"
          ]
        },
        {
          "output_type": "stream",
          "name": "stderr",
          "text": []
        },
        {
          "output_type": "stream",
          "name": "stdout",
          "text": [
            "Epoch 93 | Train Loss: 0.2962 | Val Loss: 0.2852\n",
            "✅ Best model saved.\n"
          ]
        },
        {
          "output_type": "stream",
          "name": "stderr",
          "text": []
        },
        {
          "output_type": "stream",
          "name": "stdout",
          "text": [
            "Epoch 94 | Train Loss: 0.2953 | Val Loss: 0.2875\n"
          ]
        },
        {
          "output_type": "stream",
          "name": "stderr",
          "text": []
        },
        {
          "output_type": "stream",
          "name": "stdout",
          "text": [
            "Epoch 95 | Train Loss: 0.2930 | Val Loss: 0.2880\n"
          ]
        },
        {
          "output_type": "stream",
          "name": "stderr",
          "text": []
        },
        {
          "output_type": "stream",
          "name": "stdout",
          "text": [
            "Epoch 96 | Train Loss: 0.2924 | Val Loss: 0.2938\n"
          ]
        },
        {
          "output_type": "stream",
          "name": "stderr",
          "text": []
        },
        {
          "output_type": "stream",
          "name": "stdout",
          "text": [
            "Epoch 97 | Train Loss: 0.2947 | Val Loss: 0.2913\n"
          ]
        },
        {
          "output_type": "stream",
          "name": "stderr",
          "text": []
        },
        {
          "output_type": "stream",
          "name": "stdout",
          "text": [
            "Epoch 98 | Train Loss: 0.2918 | Val Loss: 0.2837\n",
            "✅ Best model saved.\n"
          ]
        },
        {
          "output_type": "stream",
          "name": "stderr",
          "text": []
        },
        {
          "output_type": "stream",
          "name": "stdout",
          "text": [
            "Epoch 99 | Train Loss: 0.2920 | Val Loss: 0.2889\n"
          ]
        },
        {
          "output_type": "stream",
          "name": "stderr",
          "text": [
            "                                                                "
          ]
        },
        {
          "output_type": "stream",
          "name": "stdout",
          "text": [
            "Epoch 100 | Train Loss: 0.2926 | Val Loss: 0.2941\n",
            "✅ Training complete!\n"
          ]
        },
        {
          "output_type": "stream",
          "name": "stderr",
          "text": [
            "\r"
          ]
        }
      ]
    },
    {
      "cell_type": "code",
      "source": [
        "def predict_unet(model, dataloader, device='cuda', threshold=0.5):\n",
        "    model.eval()\n",
        "    all_preds = []\n",
        "    all_targets = []\n",
        "\n",
        "    with torch.no_grad():\n",
        "        for xb, yb in dataloader:\n",
        "            xb = xb.to(device)\n",
        "            preds = model(xb)\n",
        "            preds = preds.cpu().numpy()\n",
        "            targets = yb.numpy()\n",
        "\n",
        "            preds = preds.reshape(preds.shape[0], -1)\n",
        "            targets = targets.reshape(targets.shape[0], -1)\n",
        "\n",
        "            all_preds.append(preds)\n",
        "            all_targets.append(targets)\n",
        "\n",
        "    all_preds = np.concatenate(all_preds, axis=0)\n",
        "    all_targets = np.concatenate(all_targets, axis=0)\n",
        "\n",
        "    pred_labels = (all_preds >= threshold).astype(int)\n",
        "    target_labels = (all_targets >= 0.5).astype(int)\n",
        "\n",
        "    return pred_labels, target_labels\n",
        "\n",
        "def evaluate_performance(pred_labels, target_labels):\n",
        "    precision, recall, f1, _ = precision_recall_fscore_support(\n",
        "        target_labels.flatten(), pred_labels.flatten(), average='binary'\n",
        "    )\n",
        "\n",
        "    print(f\"✅ Precision: {precision:.4f}\")\n",
        "    print(f\"✅ Recall: {recall:.4f}\")\n",
        "    print(f\"✅ F1-Score: {f1:.4f}\")\n",
        "\n",
        "    print(\"\\n=== Classification Report ===\")\n",
        "    print(classification_report(target_labels.flatten(), pred_labels.flatten()))\n",
        "\n",
        "def plot_wafer_predictions(model, dataset, device='cuda', n_samples=3, threshold=0.5):\n",
        "    model.eval()\n",
        "    idxs = np.random.choice(len(dataset), n_samples, replace=False)\n",
        "\n",
        "    fig, axes = plt.subplots(n_samples, 2, figsize=(8, 4 * n_samples))\n",
        "\n",
        "    for i, idx in enumerate(idxs):\n",
        "        xb, yb = dataset[idx]\n",
        "        xb_input = xb.unsqueeze(0).to(device)\n",
        "        with torch.no_grad():\n",
        "            pred = model(xb_input).cpu().squeeze(0).squeeze(0).numpy()\n",
        "\n",
        "        pred_binary = (pred >= threshold).astype(int)\n",
        "        true_binary = yb.squeeze(0).numpy()\n",
        "\n",
        "        axes[i, 0].imshow(true_binary, cmap='gray')\n",
        "        axes[i, 0].set_title(\"True Mask\")\n",
        "        axes[i, 0].axis('off')\n",
        "\n",
        "        axes[i, 1].imshow(pred_binary, cmap='gray')\n",
        "        axes[i, 1].set_title(\"Predicted Mask\")\n",
        "        axes[i, 1].axis('off')\n",
        "\n",
        "    plt.tight_layout()\n",
        "    plt.show()\n"
      ],
      "metadata": {
        "id": "7iyRVPL5KRGR"
      },
      "execution_count": null,
      "outputs": [],
      "id": "7iyRVPL5KRGR"
    },
    {
      "cell_type": "code",
      "source": [
        "device = 'cuda' if torch.cuda.is_available() else 'cpu'\n",
        "\n",
        "model.load_state_dict(torch.load('best_unet_model.pth'))\n",
        "model.to(device)\n",
        "\n",
        "pred_labels, target_labels = predict_unet(model, val_loader, device=device, threshold=0.5)\n",
        "\n",
        "evaluate_performance(pred_labels, target_labels)\n"
      ],
      "metadata": {
        "colab": {
          "base_uri": "https://localhost:8080/"
        },
        "id": "Un7LTaF7KWBf",
        "outputId": "70d77afc-013b-4e36-a931-101f81725bba"
      },
      "execution_count": null,
      "outputs": [
        {
          "output_type": "stream",
          "name": "stdout",
          "text": [
            "✅ Precision: 0.8038\n",
            "✅ Recall: 0.8508\n",
            "✅ F1-Score: 0.8266\n",
            "\n",
            "=== Classification Report ===\n",
            "              precision    recall  f1-score   support\n",
            "\n",
            "           0       1.00      1.00      1.00   3415486\n",
            "           1       0.80      0.85      0.83     25154\n",
            "\n",
            "    accuracy                           1.00   3440640\n",
            "   macro avg       0.90      0.92      0.91   3440640\n",
            "weighted avg       1.00      1.00      1.00   3440640\n",
            "\n"
          ]
        }
      ],
      "id": "Un7LTaF7KWBf"
    },
    {
      "cell_type": "code",
      "source": [
        "def find_best_threshold(y_scores, y_true):\n",
        "    \"\"\"\n",
        "    Finds the best threshold that maximizes the F1-Score.\n",
        "    \"\"\"\n",
        "    precision, recall, thresholds = precision_recall_curve(y_true.flatten(), y_scores.flatten())\n",
        "    f1_scores = 2 * (precision * recall) / (precision + recall + 1e-8)\n",
        "\n",
        "    best_idx = np.argmax(f1_scores)\n",
        "    best_threshold = thresholds[best_idx]\n",
        "    best_f1 = f1_scores[best_idx]\n",
        "\n",
        "    print(f\"✅ Best Threshold: {best_threshold:.4f}\")\n",
        "    print(f\"✅ Best F1-Score: {best_f1:.4f}\")\n",
        "\n",
        "    plt.figure(figsize=(8,6))\n",
        "    plt.plot(recall, precision, marker='.', label='Precision-Recall Curve')\n",
        "    plt.scatter(recall[best_idx], precision[best_idx], marker='o', color='red', label=f'Best Threshold {best_threshold:.4f}')\n",
        "    plt.title('Precision-Recall Curve')\n",
        "    plt.xlabel('Recall')\n",
        "    plt.ylabel('Precision')\n",
        "    plt.legend()\n",
        "    plt.grid()\n",
        "    plt.show()\n",
        "\n",
        "    return best_threshold\n"
      ],
      "metadata": {
        "id": "9SPEixWUxM_i"
      },
      "id": "9SPEixWUxM_i",
      "execution_count": null,
      "outputs": []
    },
    {
      "cell_type": "code",
      "source": [
        "device = 'cuda' if torch.cuda.is_available() else 'cpu'\n",
        "\n",
        "model.load_state_dict(torch.load('best_unet_model.pth'))\n",
        "model.to(device)\n",
        "model.eval()\n",
        "\n",
        "all_scores = []\n",
        "all_targets = []\n",
        "\n",
        "with torch.no_grad():\n",
        "    for xb, yb in val_loader:\n",
        "        xb = xb.to(device)\n",
        "        preds = model(xb)\n",
        "        preds = preds.cpu().numpy()\n",
        "        yb = yb.numpy()\n",
        "\n",
        "        preds = preds.reshape(preds.shape[0], -1)\n",
        "        yb = yb.reshape(yb.shape[0], -1)\n",
        "\n",
        "        all_scores.append(preds)\n",
        "        all_targets.append(yb)\n",
        "\n",
        "y_scores_flat = np.concatenate(all_scores, axis=0).flatten()\n",
        "y_true_flat = np.concatenate(all_targets, axis=0).flatten()\n"
      ],
      "metadata": {
        "id": "943a7pCRxtuW"
      },
      "id": "943a7pCRxtuW",
      "execution_count": null,
      "outputs": []
    },
    {
      "cell_type": "code",
      "source": [
        "best_threshold = find_best_threshold(y_scores_flat, y_true_flat)"
      ],
      "metadata": {
        "colab": {
          "base_uri": "https://localhost:8080/",
          "height": 600
        },
        "id": "bxY93OufxzPB",
        "outputId": "459c90c3-18d3-40d7-9468-78aa01ae4a7c"
      },
      "id": "bxY93OufxzPB",
      "execution_count": null,
      "outputs": [
        {
          "output_type": "stream",
          "name": "stdout",
          "text": [
            "✅ Best Threshold: 0.5393\n",
            "✅ Best F1-Score: 0.8271\n"
          ]
        },
        {
          "output_type": "display_data",
          "data": {
            "text/plain": [
              "<Figure size 800x600 with 1 Axes>"
            ],
            "image/png": "[encoded data removed]"
          },
          "metadata": {}
        }
      ]
    },
    {
      "cell_type": "code",
      "source": [
        "plot_wafer_predictions(model, val_dataset, device=device, n_samples=5, threshold=0.5)\n"
      ],
      "metadata": {
        "colab": {
          "base_uri": "https://localhost:8080/",
          "height": 1000
        },
        "id": "chVB6U2lKW4E",
        "outputId": "e1c23c04-70bd-4c83-cc60-41dcf4519da2"
      },
      "execution_count": null,
      "outputs": [
        {
          "output_type": "display_data",
          "data": {
            "text/plain": [
              "<Figure size 800x2000 with 10 Axes>"
            ],
            "image/png": "[encoded data removed]"
          },
          "metadata": {}
        }
      ],
      "id": "chVB6U2lKW4E"
    },
    {
      "cell_type": "markdown",
      "source": [
        " After experimenting with multiple models — including Random Forests, XGBoost, LightGBM, and logistic regression I developed a deep learning-based segmentation approach using a U-Net architecture with a ResNet encoder. This model achieved the best balance between precision and recall.\n",
        "\n",
        "Final Performance (Validation Set):\n",
        "\n",
        "Precision (True Class): 0.80\n",
        "\n",
        "Recall (True Class): 0.85\n",
        "\n",
        "F1-Score (True Class): 0.83\n",
        "\n",
        "Accuracy: ~1.00 (expected due to class imbalance)\n",
        "\n",
        "These results indicate that the model is both accurate and cautious, successfully detecting the majority of scratch-related dies while minimizing false positives.\n",
        "\n"
      ],
      "metadata": {
        "id": "SoSlm5Ku8cnI"
      },
      "id": "SoSlm5Ku8cnI"
    },
    {
      "cell_type": "markdown",
      "id": "a3bbb7e6-969b-458a-91d0-8f5dfdb5bc4e",
      "metadata": {
        "id": "a3bbb7e6-969b-458a-91d0-8f5dfdb5bc4e"
      },
      "source": [
        "# Submission"
      ]
    },
    {
      "cell_type": "code",
      "source": [
        "class WaferRawTestDataset(Dataset):\n",
        "    def __init__(self, wafer_groups, output_size=(64, 64)):\n",
        "        self.wafer_names = list(wafer_groups.keys())\n",
        "        self.wafer_groups = wafer_groups\n",
        "        self.output_size = output_size\n",
        "\n",
        "    def __len__(self):\n",
        "        return len(self.wafer_names)\n",
        "\n",
        "    def __getitem__(self, idx):\n",
        "        wafer_name = self.wafer_names[idx]\n",
        "        wafer_df = self.wafer_groups[wafer_name]\n",
        "\n",
        "        wafer_map = self.create_raw_wafer(wafer_df)\n",
        "\n",
        "        return wafer_name, wafer_map\n",
        "\n",
        "    def create_raw_wafer(self, df):\n",
        "        x = df['DieX'].values\n",
        "        y = df['DieY'].values\n",
        "        is_good = df['IsGoodDie'].astype(np.float32).values\n",
        "\n",
        "        xmin, xmax = x.min(), x.max()\n",
        "        ymin, ymax = y.min(), y.max()\n",
        "\n",
        "        grid_width = xmax - xmin + 1\n",
        "        grid_height = ymax - ymin + 1\n",
        "\n",
        "        grid_x = np.ones((grid_height, grid_width)) * -1\n",
        "        grid_y = np.ones((grid_height, grid_width)) * -1\n",
        "        grid_is_good = np.ones((grid_height, grid_width)) * -1\n",
        "\n",
        "        for i in range(len(df)):\n",
        "            xi = x[i] - xmin\n",
        "            yi = y[i] - ymin\n",
        "            grid_x[yi, xi] = x[i]\n",
        "            grid_y[yi, xi] = y[i]\n",
        "            grid_is_good[yi, xi] = is_good[i]\n",
        "\n",
        "        wafer = np.stack([grid_x, grid_y, grid_is_good], axis=0)\n",
        "\n",
        "        wafer[0] = (wafer[0] - wafer[0].min()) / (wafer[0].max() - wafer[0].min() + 1e-8)\n",
        "        wafer[1] = (wafer[1] - wafer[1].min()) / (wafer[1].max() - wafer[1].min() + 1e-8)\n",
        "\n",
        "        wafer = torch.tensor(wafer, dtype=torch.float32)\n",
        "        wafer = F.interpolate(wafer.unsqueeze(0), size=self.output_size, mode='bilinear', align_corners=True).squeeze(0)\n",
        "        return wafer\n"
      ],
      "metadata": {
        "id": "DOvM9b5sNp79"
      },
      "id": "DOvM9b5sNp79",
      "execution_count": null,
      "outputs": []
    },
    {
      "cell_type": "code",
      "source": [
        "wafer_groups_test = {w: d for w, d in df_wafers_test.groupby('WaferName')}\n",
        "\n",
        "test_dataset = WaferRawTestDataset(wafer_groups_test, output_size=(64, 64))\n",
        "test_loader = DataLoader(test_dataset, batch_size=1, shuffle=False, num_workers=0)\n",
        "\n",
        "\n",
        "model.eval()\n",
        "model.to(device)\n",
        "\n",
        "wafer_preds = []\n",
        "wafer_names = []\n",
        "\n",
        "with torch.no_grad():\n",
        "    for wafer_name, xb in tqdm(test_loader, desc=\"Predicting\"):\n",
        "        xb = xb.to(device)\n",
        "        preds = model(xb).cpu().squeeze(0).squeeze(0).numpy()\n",
        "        wafer_preds.append(preds)\n",
        "        wafer_names.append(wafer_name[0])\n",
        "\n",
        "\n",
        "wafer_names = list(wafer_groups_test.keys())\n",
        "\n",
        "all_preds = []\n",
        "\n",
        "for wafer_name, pred_map in zip(wafer_names, wafer_preds):\n",
        "    wafer_df = df_wafers_test[df_wafers_test['WaferName'] == wafer_name]\n",
        "\n",
        "    x_min, x_max = wafer_df['DieX'].min(), wafer_df['DieX'].max()\n",
        "    y_min, y_max = wafer_df['DieY'].min(), wafer_df['DieY'].max()\n",
        "\n",
        "    grid_width = x_max - x_min + 1\n",
        "    grid_height = y_max - y_min + 1\n",
        "\n",
        "    scale_x = pred_map.shape[1] / grid_width\n",
        "    scale_y = pred_map.shape[0] / grid_height\n",
        "\n",
        "    preds = []\n",
        "    for _, row in wafer_df.iterrows():\n",
        "        x = int((row['DieX'] - x_min) * scale_x)\n",
        "        y = int((row['DieY'] - y_min) * scale_y)\n",
        "        x = np.clip(x, 0, pred_map.shape[1]-1)\n",
        "        y = np.clip(y, 0, pred_map.shape[0]-1)\n",
        "        preds.append(pred_map[y, x])\n",
        "\n",
        "    all_preds.extend(preds)\n",
        "\n",
        "threshold = best_threshold\n",
        "final_preds = (np.array(all_preds) >= threshold).astype(int)\n",
        "\n",
        "df_wafers_test = df_wafers_test.copy()\n",
        "df_wafers_test['IsScratchDie'] = final_preds\n",
        "\n",
        "low_yield_threshold = 0.6\n",
        "wafer_yield = df_wafers_test.groupby('WaferName')['IsGoodDie'].mean()\n",
        "low_yield_wafers = wafer_yield[wafer_yield < low_yield_threshold].index.tolist()\n",
        "\n",
        "print(f\"Found {len(low_yield_wafers)} low-yield wafers. Setting IsScratchDie = 0 for them.\")\n",
        "\n",
        "df_wafers_test.loc[df_wafers_test['WaferName'].isin(low_yield_wafers), 'IsScratchDie'] = 0\n"
      ],
      "metadata": {
        "colab": {
          "base_uri": "https://localhost:8080/"
        },
        "id": "5oxrwVDRMRQ-",
        "outputId": "d24cfbe5-955b-472e-c973-459c7ebb0551"
      },
      "id": "5oxrwVDRMRQ-",
      "execution_count": null,
      "outputs": [
        {
          "output_type": "stream",
          "name": "stderr",
          "text": [
            "Predicting: 100%|██████████| 455/455 [00:04<00:00, 100.39it/s]\n"
          ]
        },
        {
          "output_type": "stream",
          "name": "stdout",
          "text": [
            "Found 17 low-yield wafers. Setting IsScratchDie = 0 for them.\n"
          ]
        }
      ]
    },
    {
      "cell_type": "code",
      "source": [
        "df_wafers_test.groupby('IsScratchDie').count()"
      ],
      "metadata": {
        "colab": {
          "base_uri": "https://localhost:8080/",
          "height": 143
        },
        "id": "-kdQfHefQd6B",
        "outputId": "6ac117ac-471d-48f8-eb88-c9d3d8da0e01"
      },
      "id": "-kdQfHefQd6B",
      "execution_count": null,
      "outputs": [
        {
          "output_type": "execute_result",
          "data": {
            "text/plain": [
              "              WaferName     DieX     DieY  IsGoodDie\n",
              "IsScratchDie                                        \n",
              "0               1111921  1111921  1111921    1111921\n",
              "1                 16414    16414    16414      16414"
            ],
            "text/html": [
              "\n",
              "  <div id=\"df-cb988805-1c67-4691-b2e0-51285108726a\" class=\"colab-df-container\">\n",
              "    <div>\n",
              "<style scoped>\n",
              "    .dataframe tbody tr th:only-of-type {\n",
              "        vertical-align: middle;\n",
              "    }\n",
              "\n",
              "    .dataframe tbody tr th {\n",
              "        vertical-align: top;\n",
              "    }\n",
              "\n",
              "    .dataframe thead th {\n",
              "        text-align: right;\n",
              "    }\n",
              "</style>\n",
              "<table border=\"1\" class=\"dataframe\">\n",
              "  <thead>\n",
              "    <tr style=\"text-align: right;\">\n",
              "      <th></th>\n",
              "      <th>WaferName</th>\n",
              "      <th>DieX</th>\n",
              "      <th>DieY</th>\n",
              "      <th>IsGoodDie</th>\n",
              "    </tr>\n",
              "    <tr>\n",
              "      <th>IsScratchDie</th>\n",
              "      <th></th>\n",
              "      <th></th>\n",
              "      <th></th>\n",
              "      <th></th>\n",
              "    </tr>\n",
              "  </thead>\n",
              "  <tbody>\n",
              "    <tr>\n",
              "      <th>0</th>\n",
              "      <td>1111921</td>\n",
              "      <td>1111921</td>\n",
              "      <td>1111921</td>\n",
              "      <td>1111921</td>\n",
              "    </tr>\n",
              "    <tr>\n",
              "      <th>1</th>\n",
              "      <td>16414</td>\n",
              "      <td>16414</td>\n",
              "      <td>16414</td>\n",
              "      <td>16414</td>\n",
              "    </tr>\n",
              "  </tbody>\n",
              "</table>\n",
              "</div>\n",
              "    <div class=\"colab-df-buttons\">\n",
              "\n",
              "  <div class=\"colab-df-container\">\n",
              "    <button class=\"colab-df-convert\" onclick=\"convertToInteractive('df-cb988805-1c67-4691-b2e0-51285108726a')\"\n",
              "            title=\"Convert this dataframe to an interactive table.\"\n",
              "            style=\"display:none;\">\n",
              "\n",
              "  <svg xmlns=\"http://www.w3.org/2000/svg\" height=\"24px\" viewBox=\"0 -960 960 960\">\n",
              "    <path d=\"M120-120v-720h720v720H120Zm60-500h600v-160H180v160Zm220 220h160v-160H400v160Zm0 220h160v-160H400v160ZM180-400h160v-160H180v160Zm440 0h160v-160H620v160ZM180-180h160v-160H180v160Zm440 0h160v-160H620v160Z\"/>\n",
              "  </svg>\n",
              "    </button>\n",
              "\n",
              "  <style>\n",
              "    .colab-df-container {\n",
              "      display:flex;\n",
              "      gap: 12px;\n",
              "    }\n",
              "\n",
              "    .colab-df-convert {\n",
              "      background-color: #E8F0FE;\n",
              "      border: none;\n",
              "      border-radius: 50%;\n",
              "      cursor: pointer;\n",
              "      display: none;\n",
              "      fill: #1967D2;\n",
              "      height: 32px;\n",
              "      padding: 0 0 0 0;\n",
              "      width: 32px;\n",
              "    }\n",
              "\n",
              "    .colab-df-convert:hover {\n",
              "      background-color: #E2EBFA;\n",
              "      box-shadow: 0px 1px 2px rgba(60, 64, 67, 0.3), 0px 1px 3px 1px rgba(60, 64, 67, 0.15);\n",
              "      fill: #174EA6;\n",
              "    }\n",
              "\n",
              "    .colab-df-buttons div {\n",
              "      margin-bottom: 4px;\n",
              "    }\n",
              "\n",
              "    [theme=dark] .colab-df-convert {\n",
              "      background-color: #3B4455;\n",
              "      fill: #D2E3FC;\n",
              "    }\n",
              "\n",
              "    [theme=dark] .colab-df-convert:hover {\n",
              "      background-color: #434B5C;\n",
              "      box-shadow: 0px 1px 3px 1px rgba(0, 0, 0, 0.15);\n",
              "      filter: drop-shadow(0px 1px 2px rgba(0, 0, 0, 0.3));\n",
              "      fill: #FFFFFF;\n",
              "    }\n",
              "  </style>\n",
              "\n",
              "    <script>\n",
              "      const buttonEl =\n",
              "        document.querySelector('#df-cb988805-1c67-4691-b2e0-51285108726a button.colab-df-convert');\n",
              "      buttonEl.style.display =\n",
              "        google.colab.kernel.accessAllowed ? 'block' : 'none';\n",
              "\n",
              "      async function convertToInteractive(key) {\n",
              "        const element = document.querySelector('#df-cb988805-1c67-4691-b2e0-51285108726a');\n",
              "        const dataTable =\n",
              "          await google.colab.kernel.invokeFunction('convertToInteractive',\n",
              "                                                    [key], {});\n",
              "        if (!dataTable) return;\n",
              "\n",
              "        const docLinkHtml = 'Like what you see? Visit the ' +\n",
              "          '<a target=\"_blank\" href=https://colab.research.google.com/notebooks/data_table.ipynb>data table notebook</a>'\n",
              "          + ' to learn more about interactive tables.';\n",
              "        element.innerHTML = '';\n",
              "        dataTable['output_type'] = 'display_data';\n",
              "        await google.colab.output.renderOutput(dataTable, element);\n",
              "        const docLink = document.createElement('div');\n",
              "        docLink.innerHTML = docLinkHtml;\n",
              "        element.appendChild(docLink);\n",
              "      }\n",
              "    </script>\n",
              "  </div>\n",
              "\n",
              "\n",
              "    <div id=\"df-7e81b1ca-6824-4465-9f1d-962ddad59e4a\">\n",
              "      <button class=\"colab-df-quickchart\" onclick=\"quickchart('df-7e81b1ca-6824-4465-9f1d-962ddad59e4a')\"\n",
              "                title=\"Suggest charts\"\n",
              "                style=\"display:none;\">\n",
              "\n",
              "<svg xmlns=\"http://www.w3.org/2000/svg\" height=\"24px\"viewBox=\"0 0 24 24\"\n",
              "     width=\"24px\">\n",
              "    <g>\n",
              "        <path d=\"M19 3H5c-1.1 0-2 .9-2 2v14c0 1.1.9 2 2 2h14c1.1 0 2-.9 2-2V5c0-1.1-.9-2-2-2zM9 17H7v-7h2v7zm4 0h-2V7h2v10zm4 0h-2v-4h2v4z\"/>\n",
              "    </g>\n",
              "</svg>\n",
              "      </button>\n",
              "\n",
              "<style>\n",
              "  .colab-df-quickchart {\n",
              "      --bg-color: #E8F0FE;\n",
              "      --fill-color: #1967D2;\n",
              "      --hover-bg-color: #E2EBFA;\n",
              "      --hover-fill-color: #174EA6;\n",
              "      --disabled-fill-color: #AAA;\n",
              "      --disabled-bg-color: #DDD;\n",
              "  }\n",
              "\n",
              "  [theme=dark] .colab-df-quickchart {\n",
              "      --bg-color: #3B4455;\n",
              "      --fill-color: #D2E3FC;\n",
              "      --hover-bg-color: #434B5C;\n",
              "      --hover-fill-color: #FFFFFF;\n",
              "      --disabled-bg-color: #3B4455;\n",
              "      --disabled-fill-color: #666;\n",
              "  }\n",
              "\n",
              "  .colab-df-quickchart {\n",
              "    background-color: var(--bg-color);\n",
              "    border: none;\n",
              "    border-radius: 50%;\n",
              "    cursor: pointer;\n",
              "    display: none;\n",
              "    fill: var(--fill-color);\n",
              "    height: 32px;\n",
              "    padding: 0;\n",
              "    width: 32px;\n",
              "  }\n",
              "\n",
              "  .colab-df-quickchart:hover {\n",
              "    background-color: var(--hover-bg-color);\n",
              "    box-shadow: 0 1px 2px rgba(60, 64, 67, 0.3), 0 1px 3px 1px rgba(60, 64, 67, 0.15);\n",
              "    fill: var(--button-hover-fill-color);\n",
              "  }\n",
              "\n",
              "  .colab-df-quickchart-complete:disabled,\n",
              "  .colab-df-quickchart-complete:disabled:hover {\n",
              "    background-color: var(--disabled-bg-color);\n",
              "    fill: var(--disabled-fill-color);\n",
              "    box-shadow: none;\n",
              "  }\n",
              "\n",
              "  .colab-df-spinner {\n",
              "    border: 2px solid var(--fill-color);\n",
              "    border-color: transparent;\n",
              "    border-bottom-color: var(--fill-color);\n",
              "    animation:\n",
              "      spin 1s steps(1) infinite;\n",
              "  }\n",
              "\n",
              "  @keyframes spin {\n",
              "    0% {\n",
              "      border-color: transparent;\n",
              "      border-bottom-color: var(--fill-color);\n",
              "      border-left-color: var(--fill-color);\n",
              "    }\n",
              "    20% {\n",
              "      border-color: transparent;\n",
              "      border-left-color: var(--fill-color);\n",
              "      border-top-color: var(--fill-color);\n",
              "    }\n",
              "    30% {\n",
              "      border-color: transparent;\n",
              "      border-left-color: var(--fill-color);\n",
              "      border-top-color: var(--fill-color);\n",
              "      border-right-color: var(--fill-color);\n",
              "    }\n",
              "    40% {\n",
              "      border-color: transparent;\n",
              "      border-right-color: var(--fill-color);\n",
              "      border-top-color: var(--fill-color);\n",
              "    }\n",
              "    60% {\n",
              "      border-color: transparent;\n",
              "      border-right-color: var(--fill-color);\n",
              "    }\n",
              "    80% {\n",
              "      border-color: transparent;\n",
              "      border-right-color: var(--fill-color);\n",
              "      border-bottom-color: var(--fill-color);\n",
              "    }\n",
              "    90% {\n",
              "      border-color: transparent;\n",
              "      border-bottom-color: var(--fill-color);\n",
              "    }\n",
              "  }\n",
              "</style>\n",
              "\n",
              "      <script>\n",
              "        async function quickchart(key) {\n",
              "          const quickchartButtonEl =\n",
              "            document.querySelector('#' + key + ' button');\n",
              "          quickchartButtonEl.disabled = true;  // To prevent multiple clicks.\n",
              "          quickchartButtonEl.classList.add('colab-df-spinner');\n",
              "          try {\n",
              "            const charts = await google.colab.kernel.invokeFunction(\n",
              "                'suggestCharts', [key], {});\n",
              "          } catch (error) {\n",
              "            console.error('Error during call to suggestCharts:', error);\n",
              "          }\n",
              "          quickchartButtonEl.classList.remove('colab-df-spinner');\n",
              "          quickchartButtonEl.classList.add('colab-df-quickchart-complete');\n",
              "        }\n",
              "        (() => {\n",
              "          let quickchartButtonEl =\n",
              "            document.querySelector('#df-7e81b1ca-6824-4465-9f1d-962ddad59e4a button');\n",
              "          quickchartButtonEl.style.display =\n",
              "            google.colab.kernel.accessAllowed ? 'block' : 'none';\n",
              "        })();\n",
              "      </script>\n",
              "    </div>\n",
              "\n",
              "    </div>\n",
              "  </div>\n"
            ],
            "application/vnd.google.colaboratory.intrinsic+json": {
              "type": "dataframe",
              "summary": "{\n  \"name\": \"df_wafers_test\",\n  \"rows\": 2,\n  \"fields\": [\n    {\n      \"column\": \"IsScratchDie\",\n      \"properties\": {\n        \"dtype\": \"number\",\n        \"std\": 0,\n        \"min\": 0,\n        \"max\": 1,\n        \"num_unique_values\": 2,\n        \"samples\": [\n          1,\n          0\n        ],\n        \"semantic_type\": \"\",\n        \"description\": \"\"\n      }\n    },\n    {\n      \"column\": \"WaferName\",\n      \"properties\": {\n        \"dtype\": \"number\",\n        \"std\": 774640,\n        \"min\": 16414,\n        \"max\": 1111921,\n        \"num_unique_values\": 2,\n        \"samples\": [\n          16414,\n          1111921\n        ],\n        \"semantic_type\": \"\",\n        \"description\": \"\"\n      }\n    },\n    {\n      \"column\": \"DieX\",\n      \"properties\": {\n        \"dtype\": \"number\",\n        \"std\": 774640,\n        \"min\": 16414,\n        \"max\": 1111921,\n        \"num_unique_values\": 2,\n        \"samples\": [\n          16414,\n          1111921\n        ],\n        \"semantic_type\": \"\",\n        \"description\": \"\"\n      }\n    },\n    {\n      \"column\": \"DieY\",\n      \"properties\": {\n        \"dtype\": \"number\",\n        \"std\": 774640,\n        \"min\": 16414,\n        \"max\": 1111921,\n        \"num_unique_values\": 2,\n        \"samples\": [\n          16414,\n          1111921\n        ],\n        \"semantic_type\": \"\",\n        \"description\": \"\"\n      }\n    },\n    {\n      \"column\": \"IsGoodDie\",\n      \"properties\": {\n        \"dtype\": \"number\",\n        \"std\": 774640,\n        \"min\": 16414,\n        \"max\": 1111921,\n        \"num_unique_values\": 2,\n        \"samples\": [\n          16414,\n          1111921\n        ],\n        \"semantic_type\": \"\",\n        \"description\": \"\"\n      }\n    }\n  ]\n}"
            }
          },
          "metadata": {},
          "execution_count": 55
        }
      ]
    },
    {
      "cell_type": "code",
      "source": [
        "name = 'Ido Becher'\n",
        "email = 'idob724@gmail.com'\n",
        "\n",
        "date_str = datetime.now().strftime('%Y%m%d')\n",
        "filename = f\"{date_str}_{name}_{email}_df_wafers_test_with_preds.csv\"\n",
        "df_wafers_test.to_csv(filename, index=False)\n",
        "print(\"Saved file:\", filename)"
      ],
      "metadata": {
        "colab": {
          "base_uri": "https://localhost:8080/"
        },
        "id": "J7IKsSQQS8_j",
        "outputId": "f138ce69-6114-4854-fbfc-3eec07e8a3bb"
      },
      "id": "J7IKsSQQS8_j",
      "execution_count": null,
      "outputs": [
        {
          "output_type": "stream",
          "name": "stdout",
          "text": [
            "Saved file: 20250429_Ido Becher_idob724@gmail.com_df_wafers_test_with_preds.csv\n"
          ]
        }
      ]
    }
  ],
  "metadata": {
    "kernelspec": {
      "display_name": "tensorflow",
      "language": "python",
      "name": "tensorflow"
    },
    "language_info": {
      "codemirror_mode": {
        "name": "ipython",
        "version": 3
      },
      "file_extension": ".py",
      "mimetype": "text/x-python",
      "name": "python",
      "nbconvert_exporter": "python",
      "pygments_lexer": "ipython3",
      "version": "3.8.1"
    },
    "colab": {
      "provenance": [],
      "gpuType": "T4"
    },
    "accelerator": "GPU"
  },
  "nbformat": 4,
  "nbformat_minor": 5
}